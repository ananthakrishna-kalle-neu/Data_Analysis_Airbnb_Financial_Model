{
 "cells": [
  {
   "cell_type": "markdown",
   "metadata": {
    "id": "ZpyHmggbY_Ju"
   },
   "source": [
    "* **Mounting the Drive**"
   ]
  },
  {
   "cell_type": "code",
   "execution_count": 1,
   "metadata": {
    "colab": {
     "base_uri": "https://localhost:8080/"
    },
    "executionInfo": {
     "elapsed": 18565,
     "status": "ok",
     "timestamp": 1669600636228,
     "user": {
      "displayName": "Adwaith Ajith Menon",
      "userId": "12906361836071324171"
     },
     "user_tz": 300
    },
    "id": "wOMwu8-OYxq0",
    "outputId": "24067b44-e26c-417f-a549-ee863f46a219"
   },
   "outputs": [
    {
     "name": "stdout",
     "output_type": "stream",
     "text": [
      "Mounted at /content/drive\n"
     ]
    }
   ],
   "source": [
    "# Mounting the Drive\n",
    "from google.colab import drive\n",
    "drive.mount('/content/drive')"
   ]
  },
  {
   "cell_type": "markdown",
   "metadata": {
    "id": "DA9HeEmTZDKo"
   },
   "source": [
    "## **1. Importing the Required Modules**"
   ]
  },
  {
   "cell_type": "code",
   "execution_count": 1,
   "metadata": {
    "executionInfo": {
     "elapsed": 1637,
     "status": "ok",
     "timestamp": 1669600637860,
     "user": {
      "displayName": "Adwaith Ajith Menon",
      "userId": "12906361836071324171"
     },
     "user_tz": 300
    },
    "id": "ZH41aRu4ZEsb"
   },
   "outputs": [
    {
     "name": "stderr",
     "output_type": "stream",
     "text": [
      "/Users/ananthakrishnakalle/anaconda3/lib/python3.10/site-packages/pandas/core/arrays/masked.py:60: UserWarning: Pandas requires version '1.3.6' or newer of 'bottleneck' (version '1.3.5' currently installed).\n",
      "  from pandas.core import (\n"
     ]
    }
   ],
   "source": [
    "import pandas as pd\n",
    "import numpy as np\n",
    "import matplotlib.pyplot as plt\n",
    "import seaborn as sns"
   ]
  },
  {
   "cell_type": "markdown",
   "metadata": {
    "id": "Ld_10OTbZFdQ"
   },
   "source": [
    "## **2. Importing the Cleaned Datasets**"
   ]
  },
  {
   "cell_type": "code",
   "execution_count": 2,
   "metadata": {
    "executionInfo": {
     "elapsed": 12553,
     "status": "ok",
     "timestamp": 1669600650408,
     "user": {
      "displayName": "Adwaith Ajith Menon",
      "userId": "12906361836071324171"
     },
     "user_tz": 300
    },
    "id": "BJAj1Mw9ZHrm"
   },
   "outputs": [],
   "source": [
    "# Importing Dataset for USA\n",
    "df_usa=pd.read_csv('USA.csv',index_col=0)"
   ]
  },
  {
   "cell_type": "code",
   "execution_count": 3,
   "metadata": {
    "executionInfo": {
     "elapsed": 3535,
     "status": "ok",
     "timestamp": 1669600653940,
     "user": {
      "displayName": "Adwaith Ajith Menon",
      "userId": "12906361836071324171"
     },
     "user_tz": 300
    },
    "id": "5910h5wQZd0L"
   },
   "outputs": [],
   "source": [
    "# Importing Dataset for Italy\n",
    "df_italy=pd.read_csv('Italy.csv',index_col=0)"
   ]
  },
  {
   "cell_type": "markdown",
   "metadata": {
    "id": "JH6WnvuYbpcd"
   },
   "source": [
    "* **Printing the Column Names of both Datasets**"
   ]
  },
  {
   "cell_type": "code",
   "execution_count": 4,
   "metadata": {
    "colab": {
     "base_uri": "https://localhost:8080/"
    },
    "executionInfo": {
     "elapsed": 7,
     "status": "ok",
     "timestamp": 1669600653941,
     "user": {
      "displayName": "Adwaith Ajith Menon",
      "userId": "12906361836071324171"
     },
     "user_tz": 300
    },
    "id": "J4RI5lKnaMe9",
    "outputId": "ec972728-9d1b-49e5-bf75-8a86f7b10adb"
   },
   "outputs": [
    {
     "data": {
      "text/plain": [
       "Index(['Region/State', 'City', 'Zip Code', 'id', 'host_id', 'host_name',\n",
       "       'host_since', 'host_location', 'host_identity_verified', 'latitude',\n",
       "       'longitude', 'property_type', 'room_type', 'accommodates', 'bedrooms',\n",
       "       'beds', 'price', 'minimum_nights', 'maximum_nights',\n",
       "       'number_of_reviews', 'number_of_reviews_ltm', 'number_of_reviews_l30d',\n",
       "       'review_scores_rating', 'instant_bookable',\n",
       "       'calculated_host_listings_count',\n",
       "       'calculated_host_listings_count_entire_homes',\n",
       "       'calculated_host_listings_count_private_rooms',\n",
       "       'calculated_host_listings_count_shared_rooms', 'Province/County',\n",
       "       'reviews_per_month', 'with_license', 'STR_vs_LTR',\n",
       "       'estimated_booking_ltm', 'estimated_nights_ltm',\n",
       "       'estimated_revenue_ltm', 'Frequency_of_renting', 'Commercial_Nature',\n",
       "       'Percentage_Licensed', 'requires_license_5', 'requires_license_10',\n",
       "       'licensed_5', 'licensed_10', 'Country'],\n",
       "      dtype='object')"
      ]
     },
     "execution_count": 4,
     "metadata": {},
     "output_type": "execute_result"
    }
   ],
   "source": [
    "# Columns for USA Dataset\n",
    "df_usa.columns"
   ]
  },
  {
   "cell_type": "code",
   "execution_count": 5,
   "metadata": {
    "colab": {
     "base_uri": "https://localhost:8080/"
    },
    "executionInfo": {
     "elapsed": 932,
     "status": "ok",
     "timestamp": 1669600654868,
     "user": {
      "displayName": "Adwaith Ajith Menon",
      "userId": "12906361836071324171"
     },
     "user_tz": 300
    },
    "id": "3QlBvWY0K1S6",
    "outputId": "e058b777-91d7-48bf-c62d-db7c809c2a8f"
   },
   "outputs": [
    {
     "name": "stdout",
     "output_type": "stream",
     "text": [
      "<class 'pandas.core.frame.DataFrame'>\n",
      "Index: 1252866 entries, 0 to 1252865\n",
      "Data columns (total 43 columns):\n",
      " #   Column                                        Non-Null Count    Dtype  \n",
      "---  ------                                        --------------    -----  \n",
      " 0   Region/State                                  1252866 non-null  object \n",
      " 1   City                                          1243825 non-null  object \n",
      " 2   Zip Code                                      1252866 non-null  int64  \n",
      " 3   id                                            1252866 non-null  int64  \n",
      " 4   host_id                                       1252866 non-null  int64  \n",
      " 5   host_name                                     1245116 non-null  object \n",
      " 6   host_since                                    1245117 non-null  object \n",
      " 7   host_location                                 1242849 non-null  object \n",
      " 8   host_identity_verified                        1245117 non-null  object \n",
      " 9   latitude                                      1252866 non-null  float64\n",
      " 10  longitude                                     1252866 non-null  float64\n",
      " 11  property_type                                 1252866 non-null  object \n",
      " 12  room_type                                     1252866 non-null  object \n",
      " 13  accommodates                                  1252866 non-null  int64  \n",
      " 14  bedrooms                                      1252866 non-null  float64\n",
      " 15  beds                                          1252866 non-null  float64\n",
      " 16  price                                         1252866 non-null  float64\n",
      " 17  minimum_nights                                1252866 non-null  int64  \n",
      " 18  maximum_nights                                1252866 non-null  int64  \n",
      " 19  number_of_reviews                             1252866 non-null  int64  \n",
      " 20  number_of_reviews_ltm                         1252866 non-null  int64  \n",
      " 21  number_of_reviews_l30d                        1252866 non-null  int64  \n",
      " 22  review_scores_rating                          1047712 non-null  float64\n",
      " 23  instant_bookable                              1252866 non-null  object \n",
      " 24  calculated_host_listings_count                1252866 non-null  int64  \n",
      " 25  calculated_host_listings_count_entire_homes   1252866 non-null  int64  \n",
      " 26  calculated_host_listings_count_private_rooms  1252866 non-null  int64  \n",
      " 27  calculated_host_listings_count_shared_rooms   1252866 non-null  int64  \n",
      " 28  Province/County                               1252866 non-null  object \n",
      " 29  reviews_per_month                             1047712 non-null  float64\n",
      " 30  with_license                                  1252866 non-null  int64  \n",
      " 31  STR_vs_LTR                                    1252866 non-null  object \n",
      " 32  estimated_booking_ltm                         1252866 non-null  int64  \n",
      " 33  estimated_nights_ltm                          1252866 non-null  int64  \n",
      " 34  estimated_revenue_ltm                         1252866 non-null  float64\n",
      " 35  Frequency_of_renting                          1252866 non-null  object \n",
      " 36  Commercial_Nature                             1252866 non-null  object \n",
      " 37  Percentage_Licensed                           1243825 non-null  float64\n",
      " 38  requires_license_5                            1243825 non-null  float64\n",
      " 39  requires_license_10                           1243825 non-null  float64\n",
      " 40  licensed_5                                    1244129 non-null  object \n",
      " 41  licensed_10                                   1244129 non-null  object \n",
      " 42  Country                                       1252866 non-null  object \n",
      "dtypes: float64(11), int64(16), object(16)\n",
      "memory usage: 420.6+ MB\n"
     ]
    }
   ],
   "source": [
    "df_usa.info()"
   ]
  },
  {
   "cell_type": "code",
   "execution_count": 6,
   "metadata": {
    "colab": {
     "base_uri": "https://localhost:8080/"
    },
    "executionInfo": {
     "elapsed": 6,
     "status": "ok",
     "timestamp": 1669600654868,
     "user": {
      "displayName": "Adwaith Ajith Menon",
      "userId": "12906361836071324171"
     },
     "user_tz": 300
    },
    "id": "EH3SuQu_ab79",
    "outputId": "ed7fe7a0-fed6-4174-bc2a-6321589c8912"
   },
   "outputs": [
    {
     "data": {
      "text/plain": [
       "Index(['Region/State', 'City', 'id', 'host_id', 'host_name', 'host_since',\n",
       "       'host_location', 'host_identity_verified', 'latitude', 'longitude',\n",
       "       'property_type', 'room_type', 'accommodates', 'bedrooms', 'beds',\n",
       "       'price', 'minimum_nights', 'maximum_nights', 'number_of_reviews',\n",
       "       'number_of_reviews_ltm', 'number_of_reviews_l30d',\n",
       "       'review_scores_rating', 'instant_bookable',\n",
       "       'calculated_host_listings_count',\n",
       "       'calculated_host_listings_count_entire_homes',\n",
       "       'calculated_host_listings_count_private_rooms',\n",
       "       'calculated_host_listings_count_shared_rooms', 'Province/County',\n",
       "       'region_parent_parent_id', 'reviews_per_month', 'with_license',\n",
       "       'STR_vs_LTR', 'estimated_booking_ltm', 'estimated_nights_ltm',\n",
       "       'estimated_revenue_ltm', 'Frequency_of_renting', 'Commercial_Nature',\n",
       "       'Percentage_Licensed', 'requires_license_5', 'requires_license_10',\n",
       "       'licensed_5', 'licensed_10', 'Country'],\n",
       "      dtype='object')"
      ]
     },
     "execution_count": 6,
     "metadata": {},
     "output_type": "execute_result"
    }
   ],
   "source": [
    "# Columns for Italy Dataset\n",
    "df_italy.columns"
   ]
  },
  {
   "cell_type": "code",
   "execution_count": 7,
   "metadata": {
    "executionInfo": {
     "elapsed": 209,
     "status": "ok",
     "timestamp": 1669600655075,
     "user": {
      "displayName": "Adwaith Ajith Menon",
      "userId": "12906361836071324171"
     },
     "user_tz": 300
    },
    "id": "6NZlo4OBbEXt"
   },
   "outputs": [],
   "source": [
    "# Dropping the Column 'region_parent_parent_id' for Italy Dataset\n",
    "df_italy=df_italy.drop(['region_parent_parent_id'],axis=1)"
   ]
  },
  {
   "cell_type": "code",
   "execution_count": 8,
   "metadata": {
    "executionInfo": {
     "elapsed": 4,
     "status": "ok",
     "timestamp": 1669600655075,
     "user": {
      "displayName": "Adwaith Ajith Menon",
      "userId": "12906361836071324171"
     },
     "user_tz": 300
    },
    "id": "_1rVn-D9NFo8"
   },
   "outputs": [],
   "source": [
    "# Adding a Column for 'Zip_Code' for Italy Dataset & filling it with 0s\n",
    "df_italy['Zip Code']=0"
   ]
  },
  {
   "cell_type": "markdown",
   "metadata": {
    "id": "xaeUHGajb2P_"
   },
   "source": [
    "## **3. Concatenating the DataFrames**"
   ]
  },
  {
   "cell_type": "code",
   "execution_count": 9,
   "metadata": {
    "executionInfo": {
     "elapsed": 1016,
     "status": "ok",
     "timestamp": 1669600656088,
     "user": {
      "displayName": "Adwaith Ajith Menon",
      "userId": "12906361836071324171"
     },
     "user_tz": 300
    },
    "id": "V1hX2WOJbmFQ"
   },
   "outputs": [
    {
     "name": "stderr",
     "output_type": "stream",
     "text": [
      "/var/folders/15/sz9sykc94dbgsj57ltpdvw4m0000gn/T/ipykernel_53803/1975786007.py:1: FutureWarning: The behavior of pd.concat with len(keys) != len(objs) is deprecated. In a future version this will raise instead of truncating to the smaller of the two sequences\n",
      "  df=pd.concat([df_usa,df_italy],join=\"outer\",keys=df_usa.columns)\n"
     ]
    }
   ],
   "source": [
    "df=pd.concat([df_usa,df_italy],join=\"outer\",keys=df_usa.columns)"
   ]
  },
  {
   "cell_type": "code",
   "execution_count": 10,
   "metadata": {
    "colab": {
     "base_uri": "https://localhost:8080/"
    },
    "executionInfo": {
     "elapsed": 296,
     "status": "ok",
     "timestamp": 1669600733404,
     "user": {
      "displayName": "Adwaith Ajith Menon",
      "userId": "12906361836071324171"
     },
     "user_tz": 300
    },
    "id": "-B1bXOImce2t",
    "outputId": "b16b4bf4-6f96-4f62-f6f8-02e6589ef60d"
   },
   "outputs": [
    {
     "data": {
      "text/plain": [
       "Country\n",
       "USA      1252866\n",
       "Italy     440305\n",
       "Name: count, dtype: int64"
      ]
     },
     "execution_count": 10,
     "metadata": {},
     "output_type": "execute_result"
    }
   ],
   "source": [
    "df['Country'].value_counts()"
   ]
  },
  {
   "cell_type": "markdown",
   "metadata": {
    "id": "cvK1yUVV8jhl"
   },
   "source": [
    "* **Exporting the Merged .csv File**"
   ]
  },
  {
   "cell_type": "code",
   "execution_count": 11,
   "metadata": {
    "executionInfo": {
     "elapsed": 604579,
     "status": "ok",
     "timestamp": 1669601416030,
     "user": {
      "displayName": "Adwaith Ajith Menon",
      "userId": "12906361836071324171"
     },
     "user_tz": 300
    },
    "id": "8UI4O2VCN6QQ"
   },
   "outputs": [],
   "source": [
    "df.to_csv('Final_listings.csv',index=False)"
   ]
  }
 ],
 "metadata": {
  "colab": {
   "authorship_tag": "ABX9TyOEsqns2QH0VaNvJG3gR/Oe",
   "provenance": []
  },
  "kernelspec": {
   "display_name": "Python 3 (ipykernel)",
   "language": "python",
   "name": "python3"
  },
  "language_info": {
   "codemirror_mode": {
    "name": "ipython",
    "version": 3
   },
   "file_extension": ".py",
   "mimetype": "text/x-python",
   "name": "python",
   "nbconvert_exporter": "python",
   "pygments_lexer": "ipython3",
   "version": "3.10.9"
  }
 },
 "nbformat": 4,
 "nbformat_minor": 4
}
