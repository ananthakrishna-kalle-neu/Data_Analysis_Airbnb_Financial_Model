{
 "cells": [
  {
   "cell_type": "markdown",
   "metadata": {
    "id": "Q2eOSiVr6QTH"
   },
   "source": [
    "* **Mounting the Drive**"
   ]
  },
  {
   "cell_type": "code",
   "execution_count": null,
   "metadata": {
    "colab": {
     "base_uri": "https://localhost:8080/"
    },
    "executionInfo": {
     "elapsed": 19859,
     "status": "ok",
     "timestamp": 1669599870561,
     "user": {
      "displayName": "Adwaith Ajith Menon",
      "userId": "12906361836071324171"
     },
     "user_tz": 300
    },
    "id": "SX66-rZ2jhAS",
    "outputId": "290bb0a7-cbfc-4835-c805-b6c836c96a36"
   },
   "outputs": [
    {
     "name": "stdout",
     "output_type": "stream",
     "text": [
      "Mounted at /content/drive\n"
     ]
    }
   ],
   "source": [
    "# Mounting the Drive\n",
    "from google.colab import drive\n",
    "drive.mount('/content/drive')"
   ]
  },
  {
   "cell_type": "markdown",
   "metadata": {
    "id": "ikpVC3TYxpAd"
   },
   "source": [
    "##  **1. Importing the Required Modules**"
   ]
  },
  {
   "cell_type": "code",
   "execution_count": 98,
   "metadata": {
    "id": "100SLIzWyAQ2"
   },
   "outputs": [],
   "source": [
    "import pandas as pd\n",
    "import numpy as np\n",
    "import matplotlib.pyplot as plt\n",
    "import seaborn as sns"
   ]
  },
  {
   "cell_type": "markdown",
   "metadata": {
    "id": "3gsf9GCFyXDn"
   },
   "source": [
    "##  **2. Importing the Dataset**"
   ]
  },
  {
   "cell_type": "code",
   "execution_count": 99,
   "metadata": {
    "id": "Af4cX_rPtAwt"
   },
   "outputs": [],
   "source": [
    "df=pd.read_csv('http://data.insideairbnb.com/uconn/msbapm/capstone/2022/fall/listings-united-states-2022-07.csv.gz', compression='gzip')"
   ]
  },
  {
   "cell_type": "markdown",
   "metadata": {
    "id": "3jglAA2y6Ox0"
   },
   "source": [
    "* **Printing the First 5 Rows of the Dataset**"
   ]
  },
  {
   "cell_type": "code",
   "execution_count": 100,
   "metadata": {
    "colab": {
     "base_uri": "https://localhost:8080/",
     "height": 687
    },
    "executionInfo": {
     "elapsed": 20,
     "status": "ok",
     "timestamp": 1669599941963,
     "user": {
      "displayName": "Adwaith Ajith Menon",
      "userId": "12906361836071324171"
     },
     "user_tz": 300
    },
    "id": "88dc9NVOvZYu",
    "outputId": "4751bd4a-4e92-451e-b9de-b2f92f5c79b4"
   },
   "outputs": [
    {
     "data": {
      "text/html": [
       "<div>\n",
       "<style scoped>\n",
       "    .dataframe tbody tr th:only-of-type {\n",
       "        vertical-align: middle;\n",
       "    }\n",
       "\n",
       "    .dataframe tbody tr th {\n",
       "        vertical-align: top;\n",
       "    }\n",
       "\n",
       "    .dataframe thead th {\n",
       "        text-align: right;\n",
       "    }\n",
       "</style>\n",
       "<table border=\"1\" class=\"dataframe\">\n",
       "  <thead>\n",
       "    <tr style=\"text-align: right;\">\n",
       "      <th></th>\n",
       "      <th>id</th>\n",
       "      <th>listing_url</th>\n",
       "      <th>scrape_id</th>\n",
       "      <th>last_searched</th>\n",
       "      <th>last_scraped</th>\n",
       "      <th>name</th>\n",
       "      <th>description</th>\n",
       "      <th>neighborhood_overview</th>\n",
       "      <th>picture_url</th>\n",
       "      <th>host_id</th>\n",
       "      <th>host_url</th>\n",
       "      <th>host_name</th>\n",
       "      <th>host_since</th>\n",
       "      <th>host_location</th>\n",
       "      <th>host_about</th>\n",
       "      <th>host_response_time</th>\n",
       "      <th>host_response_rate</th>\n",
       "      <th>host_acceptance_rate</th>\n",
       "      <th>host_is_superhost</th>\n",
       "      <th>host_thumbnail_url</th>\n",
       "      <th>host_picture_url</th>\n",
       "      <th>host_neighbourhood</th>\n",
       "      <th>host_listings_count</th>\n",
       "      <th>host_total_listings_count</th>\n",
       "      <th>host_verifications</th>\n",
       "      <th>host_has_profile_pic</th>\n",
       "      <th>host_identity_verified</th>\n",
       "      <th>neighbourhood</th>\n",
       "      <th>latitude</th>\n",
       "      <th>longitude</th>\n",
       "      <th>property_type</th>\n",
       "      <th>room_type</th>\n",
       "      <th>accommodates</th>\n",
       "      <th>bathrooms</th>\n",
       "      <th>bathrooms_text</th>\n",
       "      <th>bedrooms</th>\n",
       "      <th>beds</th>\n",
       "      <th>amenities</th>\n",
       "      <th>price</th>\n",
       "      <th>minimum_nights</th>\n",
       "      <th>maximum_nights</th>\n",
       "      <th>minimum_minimum_nights</th>\n",
       "      <th>maximum_minimum_nights</th>\n",
       "      <th>minimum_maximum_nights</th>\n",
       "      <th>maximum_maximum_nights</th>\n",
       "      <th>minimum_nights_avg_ntm</th>\n",
       "      <th>maximum_nights_avg_ntm</th>\n",
       "      <th>calendar_updated</th>\n",
       "      <th>has_availability</th>\n",
       "      <th>availability_30</th>\n",
       "      <th>availability_60</th>\n",
       "      <th>availability_90</th>\n",
       "      <th>availability_365</th>\n",
       "      <th>calendar_last_scraped</th>\n",
       "      <th>number_of_reviews</th>\n",
       "      <th>number_of_reviews_ltm</th>\n",
       "      <th>number_of_reviews_l30d</th>\n",
       "      <th>first_review</th>\n",
       "      <th>last_review</th>\n",
       "      <th>review_scores_rating</th>\n",
       "      <th>review_scores_accuracy</th>\n",
       "      <th>review_scores_cleanliness</th>\n",
       "      <th>review_scores_checkin</th>\n",
       "      <th>review_scores_communication</th>\n",
       "      <th>review_scores_location</th>\n",
       "      <th>review_scores_value</th>\n",
       "      <th>requires_license</th>\n",
       "      <th>license</th>\n",
       "      <th>instant_bookable</th>\n",
       "      <th>calculated_host_listings_count</th>\n",
       "      <th>calculated_host_listings_count_entire_homes</th>\n",
       "      <th>calculated_host_listings_count_private_rooms</th>\n",
       "      <th>calculated_host_listings_count_shared_rooms</th>\n",
       "      <th>region_id</th>\n",
       "      <th>region_name</th>\n",
       "      <th>region_parent_id</th>\n",
       "      <th>region_parent_name</th>\n",
       "      <th>region_parent_parent_id</th>\n",
       "      <th>region_parent_parent_name</th>\n",
       "      <th>reviews_per_month</th>\n",
       "    </tr>\n",
       "  </thead>\n",
       "  <tbody>\n",
       "    <tr>\n",
       "      <th>0</th>\n",
       "      <td>35575312</td>\n",
       "      <td>https://www.airbnb.com/rooms/35575312</td>\n",
       "      <td>20220717002814</td>\n",
       "      <td>2022-07-17</td>\n",
       "      <td>2022-07-22</td>\n",
       "      <td>WV Mountain cottage minutes from New River Gorge</td>\n",
       "      <td>Located on Green Acres campground, just .2 mil...</td>\n",
       "      <td>Rural community. Quaint nearby towns and growi...</td>\n",
       "      <td>https://a0.muscache.com/pictures/f0ee66c4-9091...</td>\n",
       "      <td>60091041</td>\n",
       "      <td>https://www.airbnb.com/users/show/60091041</td>\n",
       "      <td>Jeanne</td>\n",
       "      <td>2016-02-23</td>\n",
       "      <td>Murrells Inlet, South Carolina, United States</td>\n",
       "      <td>Easy going. Like to laugh and travel.</td>\n",
       "      <td>within an hour</td>\n",
       "      <td>100%</td>\n",
       "      <td>90%</td>\n",
       "      <td>t</td>\n",
       "      <td>https://a0.muscache.com/im/pictures/user/d1b9a...</td>\n",
       "      <td>https://a0.muscache.com/im/pictures/user/d1b9a...</td>\n",
       "      <td>NaN</td>\n",
       "      <td>6.0</td>\n",
       "      <td>6.0</td>\n",
       "      <td>['email', 'phone']</td>\n",
       "      <td>t</td>\n",
       "      <td>t</td>\n",
       "      <td>Oak hill, West Virginia, United States</td>\n",
       "      <td>37.97405</td>\n",
       "      <td>-81.15124</td>\n",
       "      <td>Entire cottage</td>\n",
       "      <td>Entire home/apt</td>\n",
       "      <td>4</td>\n",
       "      <td>NaN</td>\n",
       "      <td>1 bath</td>\n",
       "      <td>3.0</td>\n",
       "      <td>3.0</td>\n",
       "      <td>[\"Cooking basics\", \"Kitchen\", \"Stove\", \"BBQ gr...</td>\n",
       "      <td>$150.00</td>\n",
       "      <td>1</td>\n",
       "      <td>14</td>\n",
       "      <td>1.0</td>\n",
       "      <td>1.0</td>\n",
       "      <td>14.0</td>\n",
       "      <td>14.0</td>\n",
       "      <td>1.0</td>\n",
       "      <td>14.0</td>\n",
       "      <td>NaN</td>\n",
       "      <td>t</td>\n",
       "      <td>21</td>\n",
       "      <td>49</td>\n",
       "      <td>79</td>\n",
       "      <td>352</td>\n",
       "      <td>2022-07-22</td>\n",
       "      <td>45</td>\n",
       "      <td>13</td>\n",
       "      <td>0</td>\n",
       "      <td>2019-10-13</td>\n",
       "      <td>2022-03-27</td>\n",
       "      <td>4.78</td>\n",
       "      <td>4.84</td>\n",
       "      <td>4.82</td>\n",
       "      <td>4.78</td>\n",
       "      <td>4.82</td>\n",
       "      <td>4.76</td>\n",
       "      <td>4.62</td>\n",
       "      <td>NaN</td>\n",
       "      <td>NaN</td>\n",
       "      <td>f</td>\n",
       "      <td>7</td>\n",
       "      <td>7</td>\n",
       "      <td>0</td>\n",
       "      <td>0</td>\n",
       "      <td>19</td>\n",
       "      <td>Fayette</td>\n",
       "      <td>54</td>\n",
       "      <td>West Virginia</td>\n",
       "      <td>NaN</td>\n",
       "      <td>NaN</td>\n",
       "      <td>1.33</td>\n",
       "    </tr>\n",
       "    <tr>\n",
       "      <th>1</th>\n",
       "      <td>635519741001985764</td>\n",
       "      <td>https://www.airbnb.com/rooms/635519741001985764</td>\n",
       "      <td>20220717002814</td>\n",
       "      <td>2022-07-17</td>\n",
       "      <td>2022-07-20</td>\n",
       "      <td>Ptarmigan Ranch North Fork Views!</td>\n",
       "      <td>Welcome to Ptarmigan Ranch! This beautiful thr...</td>\n",
       "      <td>NaN</td>\n",
       "      <td>https://a0.muscache.com/pictures/prohost-api/H...</td>\n",
       "      <td>80717299</td>\n",
       "      <td>https://www.airbnb.com/users/show/80717299</td>\n",
       "      <td>Cody Lodging</td>\n",
       "      <td>2016-06-29</td>\n",
       "      <td>Cody, Wyoming, United States</td>\n",
       "      <td>Are you looking for a true Western vacation? T...</td>\n",
       "      <td>within an hour</td>\n",
       "      <td>94%</td>\n",
       "      <td>97%</td>\n",
       "      <td>t</td>\n",
       "      <td>https://a0.muscache.com/im/pictures/user/b58c3...</td>\n",
       "      <td>https://a0.muscache.com/im/pictures/user/b58c3...</td>\n",
       "      <td>NaN</td>\n",
       "      <td>67.0</td>\n",
       "      <td>67.0</td>\n",
       "      <td>['email', 'phone']</td>\n",
       "      <td>t</td>\n",
       "      <td>t</td>\n",
       "      <td>NaN</td>\n",
       "      <td>44.46062</td>\n",
       "      <td>-109.49870</td>\n",
       "      <td>Entire home</td>\n",
       "      <td>Entire home/apt</td>\n",
       "      <td>6</td>\n",
       "      <td>NaN</td>\n",
       "      <td>2 baths</td>\n",
       "      <td>3.0</td>\n",
       "      <td>3.0</td>\n",
       "      <td>[\"Washer\", \"Free parking on premises\", \"Kitche...</td>\n",
       "      <td>$513.00</td>\n",
       "      <td>1</td>\n",
       "      <td>365</td>\n",
       "      <td>3.0</td>\n",
       "      <td>3.0</td>\n",
       "      <td>365.0</td>\n",
       "      <td>365.0</td>\n",
       "      <td>3.0</td>\n",
       "      <td>365.0</td>\n",
       "      <td>NaN</td>\n",
       "      <td>t</td>\n",
       "      <td>27</td>\n",
       "      <td>57</td>\n",
       "      <td>70</td>\n",
       "      <td>70</td>\n",
       "      <td>2022-07-20</td>\n",
       "      <td>0</td>\n",
       "      <td>0</td>\n",
       "      <td>0</td>\n",
       "      <td>NaN</td>\n",
       "      <td>NaN</td>\n",
       "      <td>NaN</td>\n",
       "      <td>NaN</td>\n",
       "      <td>NaN</td>\n",
       "      <td>NaN</td>\n",
       "      <td>NaN</td>\n",
       "      <td>NaN</td>\n",
       "      <td>NaN</td>\n",
       "      <td>NaN</td>\n",
       "      <td>NaN</td>\n",
       "      <td>t</td>\n",
       "      <td>79</td>\n",
       "      <td>78</td>\n",
       "      <td>1</td>\n",
       "      <td>0</td>\n",
       "      <td>29</td>\n",
       "      <td>Park</td>\n",
       "      <td>56</td>\n",
       "      <td>Wyoming</td>\n",
       "      <td>NaN</td>\n",
       "      <td>NaN</td>\n",
       "      <td>NaN</td>\n",
       "    </tr>\n",
       "    <tr>\n",
       "      <th>2</th>\n",
       "      <td>50490291</td>\n",
       "      <td>https://www.airbnb.com/rooms/50490291</td>\n",
       "      <td>20220717002814</td>\n",
       "      <td>2022-07-17</td>\n",
       "      <td>2022-07-23</td>\n",
       "      <td>The Northwoods Nook Blairsville</td>\n",
       "      <td>Unwind at the Northwoods Nook in the mountains...</td>\n",
       "      <td>Quiet gravel road plenty of privacy</td>\n",
       "      <td>https://a0.muscache.com/pictures/miso/Hosting-...</td>\n",
       "      <td>22954841</td>\n",
       "      <td>https://www.airbnb.com/users/show/22954841</td>\n",
       "      <td>Paul</td>\n",
       "      <td>2014-10-25</td>\n",
       "      <td>Blairsville, Georgia, United States</td>\n",
       "      <td>After 30 years as a corporate chef it was time...</td>\n",
       "      <td>within an hour</td>\n",
       "      <td>100%</td>\n",
       "      <td>100%</td>\n",
       "      <td>t</td>\n",
       "      <td>https://a0.muscache.com/im/pictures/user/cf592...</td>\n",
       "      <td>https://a0.muscache.com/im/pictures/user/cf592...</td>\n",
       "      <td>NaN</td>\n",
       "      <td>0.0</td>\n",
       "      <td>0.0</td>\n",
       "      <td>['email', 'phone']</td>\n",
       "      <td>t</td>\n",
       "      <td>t</td>\n",
       "      <td>Blairsville, Georgia, United States</td>\n",
       "      <td>34.93313</td>\n",
       "      <td>-84.01243</td>\n",
       "      <td>Entire cabin</td>\n",
       "      <td>Entire home/apt</td>\n",
       "      <td>6</td>\n",
       "      <td>NaN</td>\n",
       "      <td>3 baths</td>\n",
       "      <td>3.0</td>\n",
       "      <td>5.0</td>\n",
       "      <td>[\"BBQ grill\", \"Hangers\", \"Freezer\", \"Washer\", ...</td>\n",
       "      <td>$145.00</td>\n",
       "      <td>2</td>\n",
       "      <td>28</td>\n",
       "      <td>2.0</td>\n",
       "      <td>2.0</td>\n",
       "      <td>1125.0</td>\n",
       "      <td>1125.0</td>\n",
       "      <td>2.0</td>\n",
       "      <td>1125.0</td>\n",
       "      <td>NaN</td>\n",
       "      <td>t</td>\n",
       "      <td>14</td>\n",
       "      <td>44</td>\n",
       "      <td>72</td>\n",
       "      <td>334</td>\n",
       "      <td>2022-07-23</td>\n",
       "      <td>10</td>\n",
       "      <td>10</td>\n",
       "      <td>0</td>\n",
       "      <td>2021-08-01</td>\n",
       "      <td>2022-06-04</td>\n",
       "      <td>5.00</td>\n",
       "      <td>4.90</td>\n",
       "      <td>4.80</td>\n",
       "      <td>5.00</td>\n",
       "      <td>5.00</td>\n",
       "      <td>4.80</td>\n",
       "      <td>5.00</td>\n",
       "      <td>NaN</td>\n",
       "      <td>NaN</td>\n",
       "      <td>t</td>\n",
       "      <td>1</td>\n",
       "      <td>1</td>\n",
       "      <td>0</td>\n",
       "      <td>0</td>\n",
       "      <td>291</td>\n",
       "      <td>Union</td>\n",
       "      <td>13</td>\n",
       "      <td>Georgia</td>\n",
       "      <td>NaN</td>\n",
       "      <td>NaN</td>\n",
       "      <td>0.84</td>\n",
       "    </tr>\n",
       "    <tr>\n",
       "      <th>3</th>\n",
       "      <td>40991125</td>\n",
       "      <td>https://www.airbnb.com/rooms/40991125</td>\n",
       "      <td>20220717002814</td>\n",
       "      <td>2022-07-17</td>\n",
       "      <td>2022-07-27</td>\n",
       "      <td>Cozy Private Casita on Canyon Road, Walk to Plaza</td>\n",
       "      <td>Casita de Artista is like new and a recently r...</td>\n",
       "      <td>Canyon Road is a historic and lovely neighborh...</td>\n",
       "      <td>https://a0.muscache.com/pictures/4d4e8853-9e4f...</td>\n",
       "      <td>212710788</td>\n",
       "      <td>https://www.airbnb.com/users/show/212710788</td>\n",
       "      <td>Jessica</td>\n",
       "      <td>2018-08-30</td>\n",
       "      <td>Santa Fe, New Mexico, United States</td>\n",
       "      <td>I’m a graduate student in the United States. I...</td>\n",
       "      <td>within a few hours</td>\n",
       "      <td>100%</td>\n",
       "      <td>94%</td>\n",
       "      <td>t</td>\n",
       "      <td>https://a0.muscache.com/im/pictures/user/f6df2...</td>\n",
       "      <td>https://a0.muscache.com/im/pictures/user/f6df2...</td>\n",
       "      <td>NaN</td>\n",
       "      <td>2.0</td>\n",
       "      <td>2.0</td>\n",
       "      <td>['email', 'phone', 'work_email']</td>\n",
       "      <td>t</td>\n",
       "      <td>t</td>\n",
       "      <td>Santa Fe, New Mexico, United States</td>\n",
       "      <td>35.68081</td>\n",
       "      <td>-105.92927</td>\n",
       "      <td>Entire home</td>\n",
       "      <td>Entire home/apt</td>\n",
       "      <td>2</td>\n",
       "      <td>NaN</td>\n",
       "      <td>1 bath</td>\n",
       "      <td>1.0</td>\n",
       "      <td>1.0</td>\n",
       "      <td>[\"Essentials\", \"Oven\", \"Coffee maker\", \"Hair d...</td>\n",
       "      <td>$196.00</td>\n",
       "      <td>2</td>\n",
       "      <td>7</td>\n",
       "      <td>2.0</td>\n",
       "      <td>2.0</td>\n",
       "      <td>7.0</td>\n",
       "      <td>7.0</td>\n",
       "      <td>2.0</td>\n",
       "      <td>7.0</td>\n",
       "      <td>NaN</td>\n",
       "      <td>t</td>\n",
       "      <td>0</td>\n",
       "      <td>11</td>\n",
       "      <td>22</td>\n",
       "      <td>22</td>\n",
       "      <td>2022-07-27</td>\n",
       "      <td>19</td>\n",
       "      <td>9</td>\n",
       "      <td>3</td>\n",
       "      <td>2020-06-07</td>\n",
       "      <td>2022-07-18</td>\n",
       "      <td>4.89</td>\n",
       "      <td>4.95</td>\n",
       "      <td>5.00</td>\n",
       "      <td>4.89</td>\n",
       "      <td>4.95</td>\n",
       "      <td>5.00</td>\n",
       "      <td>4.84</td>\n",
       "      <td>NaN</td>\n",
       "      <td>STR230468</td>\n",
       "      <td>f</td>\n",
       "      <td>2</td>\n",
       "      <td>2</td>\n",
       "      <td>0</td>\n",
       "      <td>0</td>\n",
       "      <td>49</td>\n",
       "      <td>Santa Fe</td>\n",
       "      <td>35</td>\n",
       "      <td>New Mexico</td>\n",
       "      <td>NaN</td>\n",
       "      <td>NaN</td>\n",
       "      <td>0.73</td>\n",
       "    </tr>\n",
       "    <tr>\n",
       "      <th>4</th>\n",
       "      <td>52090522</td>\n",
       "      <td>https://www.airbnb.com/rooms/52090522</td>\n",
       "      <td>20220717002814</td>\n",
       "      <td>2022-07-17</td>\n",
       "      <td>2022-07-23</td>\n",
       "      <td>Guest Suite w/ Forest &amp; Pasture Views Mins Fro...</td>\n",
       "      <td>Forget your worries in this peaceful and seren...</td>\n",
       "      <td>NaN</td>\n",
       "      <td>https://a0.muscache.com/pictures/miso/Hosting-...</td>\n",
       "      <td>119778179</td>\n",
       "      <td>https://www.airbnb.com/users/show/119778179</td>\n",
       "      <td>Jessica</td>\n",
       "      <td>2017-03-08</td>\n",
       "      <td>Hendersonville, North Carolina, United States</td>\n",
       "      <td>NaN</td>\n",
       "      <td>within an hour</td>\n",
       "      <td>100%</td>\n",
       "      <td>100%</td>\n",
       "      <td>f</td>\n",
       "      <td>https://a0.muscache.com/im/pictures/user/393a8...</td>\n",
       "      <td>https://a0.muscache.com/im/pictures/user/393a8...</td>\n",
       "      <td>NaN</td>\n",
       "      <td>0.0</td>\n",
       "      <td>0.0</td>\n",
       "      <td>['email', 'phone']</td>\n",
       "      <td>t</td>\n",
       "      <td>f</td>\n",
       "      <td>NaN</td>\n",
       "      <td>35.47187</td>\n",
       "      <td>-82.97092</td>\n",
       "      <td>Entire guesthouse</td>\n",
       "      <td>Entire home/apt</td>\n",
       "      <td>2</td>\n",
       "      <td>NaN</td>\n",
       "      <td>1 bath</td>\n",
       "      <td>1.0</td>\n",
       "      <td>1.0</td>\n",
       "      <td>[\"TV with standard cable\", \"Private entrance\",...</td>\n",
       "      <td>$120.00</td>\n",
       "      <td>2</td>\n",
       "      <td>1125</td>\n",
       "      <td>2.0</td>\n",
       "      <td>2.0</td>\n",
       "      <td>1125.0</td>\n",
       "      <td>1125.0</td>\n",
       "      <td>2.0</td>\n",
       "      <td>1125.0</td>\n",
       "      <td>NaN</td>\n",
       "      <td>t</td>\n",
       "      <td>25</td>\n",
       "      <td>55</td>\n",
       "      <td>85</td>\n",
       "      <td>360</td>\n",
       "      <td>2022-07-23</td>\n",
       "      <td>3</td>\n",
       "      <td>3</td>\n",
       "      <td>0</td>\n",
       "      <td>2021-10-15</td>\n",
       "      <td>2021-11-28</td>\n",
       "      <td>5.00</td>\n",
       "      <td>5.00</td>\n",
       "      <td>5.00</td>\n",
       "      <td>5.00</td>\n",
       "      <td>5.00</td>\n",
       "      <td>5.00</td>\n",
       "      <td>5.00</td>\n",
       "      <td>NaN</td>\n",
       "      <td>NaN</td>\n",
       "      <td>t</td>\n",
       "      <td>1</td>\n",
       "      <td>1</td>\n",
       "      <td>0</td>\n",
       "      <td>0</td>\n",
       "      <td>87</td>\n",
       "      <td>Haywood</td>\n",
       "      <td>37</td>\n",
       "      <td>North Carolina</td>\n",
       "      <td>NaN</td>\n",
       "      <td>NaN</td>\n",
       "      <td>0.32</td>\n",
       "    </tr>\n",
       "  </tbody>\n",
       "</table>\n",
       "</div>"
      ],
      "text/plain": [
       "                   id                                      listing_url  \\\n",
       "0            35575312            https://www.airbnb.com/rooms/35575312   \n",
       "1  635519741001985764  https://www.airbnb.com/rooms/635519741001985764   \n",
       "2            50490291            https://www.airbnb.com/rooms/50490291   \n",
       "3            40991125            https://www.airbnb.com/rooms/40991125   \n",
       "4            52090522            https://www.airbnb.com/rooms/52090522   \n",
       "\n",
       "        scrape_id last_searched last_scraped  \\\n",
       "0  20220717002814    2022-07-17   2022-07-22   \n",
       "1  20220717002814    2022-07-17   2022-07-20   \n",
       "2  20220717002814    2022-07-17   2022-07-23   \n",
       "3  20220717002814    2022-07-17   2022-07-27   \n",
       "4  20220717002814    2022-07-17   2022-07-23   \n",
       "\n",
       "                                                name  \\\n",
       "0   WV Mountain cottage minutes from New River Gorge   \n",
       "1                  Ptarmigan Ranch North Fork Views!   \n",
       "2                    The Northwoods Nook Blairsville   \n",
       "3  Cozy Private Casita on Canyon Road, Walk to Plaza   \n",
       "4  Guest Suite w/ Forest & Pasture Views Mins Fro...   \n",
       "\n",
       "                                         description  \\\n",
       "0  Located on Green Acres campground, just .2 mil...   \n",
       "1  Welcome to Ptarmigan Ranch! This beautiful thr...   \n",
       "2  Unwind at the Northwoods Nook in the mountains...   \n",
       "3  Casita de Artista is like new and a recently r...   \n",
       "4  Forget your worries in this peaceful and seren...   \n",
       "\n",
       "                               neighborhood_overview  \\\n",
       "0  Rural community. Quaint nearby towns and growi...   \n",
       "1                                                NaN   \n",
       "2                Quiet gravel road plenty of privacy   \n",
       "3  Canyon Road is a historic and lovely neighborh...   \n",
       "4                                                NaN   \n",
       "\n",
       "                                         picture_url    host_id  \\\n",
       "0  https://a0.muscache.com/pictures/f0ee66c4-9091...   60091041   \n",
       "1  https://a0.muscache.com/pictures/prohost-api/H...   80717299   \n",
       "2  https://a0.muscache.com/pictures/miso/Hosting-...   22954841   \n",
       "3  https://a0.muscache.com/pictures/4d4e8853-9e4f...  212710788   \n",
       "4  https://a0.muscache.com/pictures/miso/Hosting-...  119778179   \n",
       "\n",
       "                                      host_url     host_name  host_since  \\\n",
       "0   https://www.airbnb.com/users/show/60091041        Jeanne  2016-02-23   \n",
       "1   https://www.airbnb.com/users/show/80717299  Cody Lodging  2016-06-29   \n",
       "2   https://www.airbnb.com/users/show/22954841          Paul  2014-10-25   \n",
       "3  https://www.airbnb.com/users/show/212710788       Jessica  2018-08-30   \n",
       "4  https://www.airbnb.com/users/show/119778179       Jessica  2017-03-08   \n",
       "\n",
       "                                   host_location  \\\n",
       "0  Murrells Inlet, South Carolina, United States   \n",
       "1                   Cody, Wyoming, United States   \n",
       "2            Blairsville, Georgia, United States   \n",
       "3            Santa Fe, New Mexico, United States   \n",
       "4  Hendersonville, North Carolina, United States   \n",
       "\n",
       "                                          host_about  host_response_time  \\\n",
       "0             Easy going. Like to laugh and travel.       within an hour   \n",
       "1  Are you looking for a true Western vacation? T...      within an hour   \n",
       "2  After 30 years as a corporate chef it was time...      within an hour   \n",
       "3  I’m a graduate student in the United States. I...  within a few hours   \n",
       "4                                                NaN      within an hour   \n",
       "\n",
       "  host_response_rate host_acceptance_rate host_is_superhost  \\\n",
       "0               100%                  90%                 t   \n",
       "1                94%                  97%                 t   \n",
       "2               100%                 100%                 t   \n",
       "3               100%                  94%                 t   \n",
       "4               100%                 100%                 f   \n",
       "\n",
       "                                  host_thumbnail_url  \\\n",
       "0  https://a0.muscache.com/im/pictures/user/d1b9a...   \n",
       "1  https://a0.muscache.com/im/pictures/user/b58c3...   \n",
       "2  https://a0.muscache.com/im/pictures/user/cf592...   \n",
       "3  https://a0.muscache.com/im/pictures/user/f6df2...   \n",
       "4  https://a0.muscache.com/im/pictures/user/393a8...   \n",
       "\n",
       "                                    host_picture_url host_neighbourhood  \\\n",
       "0  https://a0.muscache.com/im/pictures/user/d1b9a...                NaN   \n",
       "1  https://a0.muscache.com/im/pictures/user/b58c3...                NaN   \n",
       "2  https://a0.muscache.com/im/pictures/user/cf592...                NaN   \n",
       "3  https://a0.muscache.com/im/pictures/user/f6df2...                NaN   \n",
       "4  https://a0.muscache.com/im/pictures/user/393a8...                NaN   \n",
       "\n",
       "   host_listings_count  host_total_listings_count  \\\n",
       "0                  6.0                        6.0   \n",
       "1                 67.0                       67.0   \n",
       "2                  0.0                        0.0   \n",
       "3                  2.0                        2.0   \n",
       "4                  0.0                        0.0   \n",
       "\n",
       "                 host_verifications host_has_profile_pic  \\\n",
       "0                ['email', 'phone']                    t   \n",
       "1                ['email', 'phone']                    t   \n",
       "2                ['email', 'phone']                    t   \n",
       "3  ['email', 'phone', 'work_email']                    t   \n",
       "4                ['email', 'phone']                    t   \n",
       "\n",
       "  host_identity_verified                           neighbourhood  latitude  \\\n",
       "0                      t  Oak hill, West Virginia, United States  37.97405   \n",
       "1                      t                                     NaN  44.46062   \n",
       "2                      t     Blairsville, Georgia, United States  34.93313   \n",
       "3                      t     Santa Fe, New Mexico, United States  35.68081   \n",
       "4                      f                                     NaN  35.47187   \n",
       "\n",
       "   longitude      property_type        room_type  accommodates  bathrooms  \\\n",
       "0  -81.15124     Entire cottage  Entire home/apt             4        NaN   \n",
       "1 -109.49870        Entire home  Entire home/apt             6        NaN   \n",
       "2  -84.01243       Entire cabin  Entire home/apt             6        NaN   \n",
       "3 -105.92927        Entire home  Entire home/apt             2        NaN   \n",
       "4  -82.97092  Entire guesthouse  Entire home/apt             2        NaN   \n",
       "\n",
       "  bathrooms_text  bedrooms  beds  \\\n",
       "0         1 bath       3.0   3.0   \n",
       "1        2 baths       3.0   3.0   \n",
       "2        3 baths       3.0   5.0   \n",
       "3         1 bath       1.0   1.0   \n",
       "4         1 bath       1.0   1.0   \n",
       "\n",
       "                                           amenities    price  minimum_nights  \\\n",
       "0  [\"Cooking basics\", \"Kitchen\", \"Stove\", \"BBQ gr...  $150.00               1   \n",
       "1  [\"Washer\", \"Free parking on premises\", \"Kitche...  $513.00               1   \n",
       "2  [\"BBQ grill\", \"Hangers\", \"Freezer\", \"Washer\", ...  $145.00               2   \n",
       "3  [\"Essentials\", \"Oven\", \"Coffee maker\", \"Hair d...  $196.00               2   \n",
       "4  [\"TV with standard cable\", \"Private entrance\",...  $120.00               2   \n",
       "\n",
       "   maximum_nights  minimum_minimum_nights  maximum_minimum_nights  \\\n",
       "0              14                     1.0                     1.0   \n",
       "1             365                     3.0                     3.0   \n",
       "2              28                     2.0                     2.0   \n",
       "3               7                     2.0                     2.0   \n",
       "4            1125                     2.0                     2.0   \n",
       "\n",
       "   minimum_maximum_nights  maximum_maximum_nights  minimum_nights_avg_ntm  \\\n",
       "0                    14.0                    14.0                     1.0   \n",
       "1                   365.0                   365.0                     3.0   \n",
       "2                  1125.0                  1125.0                     2.0   \n",
       "3                     7.0                     7.0                     2.0   \n",
       "4                  1125.0                  1125.0                     2.0   \n",
       "\n",
       "   maximum_nights_avg_ntm  calendar_updated has_availability  availability_30  \\\n",
       "0                    14.0               NaN                t               21   \n",
       "1                   365.0               NaN                t               27   \n",
       "2                  1125.0               NaN                t               14   \n",
       "3                     7.0               NaN                t                0   \n",
       "4                  1125.0               NaN                t               25   \n",
       "\n",
       "   availability_60  availability_90  availability_365 calendar_last_scraped  \\\n",
       "0               49               79               352            2022-07-22   \n",
       "1               57               70                70            2022-07-20   \n",
       "2               44               72               334            2022-07-23   \n",
       "3               11               22                22            2022-07-27   \n",
       "4               55               85               360            2022-07-23   \n",
       "\n",
       "   number_of_reviews  number_of_reviews_ltm  number_of_reviews_l30d  \\\n",
       "0                 45                     13                       0   \n",
       "1                  0                      0                       0   \n",
       "2                 10                     10                       0   \n",
       "3                 19                      9                       3   \n",
       "4                  3                      3                       0   \n",
       "\n",
       "  first_review last_review  review_scores_rating  review_scores_accuracy  \\\n",
       "0   2019-10-13  2022-03-27                  4.78                    4.84   \n",
       "1          NaN         NaN                   NaN                     NaN   \n",
       "2   2021-08-01  2022-06-04                  5.00                    4.90   \n",
       "3   2020-06-07  2022-07-18                  4.89                    4.95   \n",
       "4   2021-10-15  2021-11-28                  5.00                    5.00   \n",
       "\n",
       "   review_scores_cleanliness  review_scores_checkin  \\\n",
       "0                       4.82                   4.78   \n",
       "1                        NaN                    NaN   \n",
       "2                       4.80                   5.00   \n",
       "3                       5.00                   4.89   \n",
       "4                       5.00                   5.00   \n",
       "\n",
       "   review_scores_communication  review_scores_location  review_scores_value  \\\n",
       "0                         4.82                    4.76                 4.62   \n",
       "1                          NaN                     NaN                  NaN   \n",
       "2                         5.00                    4.80                 5.00   \n",
       "3                         4.95                    5.00                 4.84   \n",
       "4                         5.00                    5.00                 5.00   \n",
       "\n",
       "   requires_license    license instant_bookable  \\\n",
       "0               NaN        NaN                f   \n",
       "1               NaN        NaN                t   \n",
       "2               NaN        NaN                t   \n",
       "3               NaN  STR230468                f   \n",
       "4               NaN        NaN                t   \n",
       "\n",
       "   calculated_host_listings_count  \\\n",
       "0                               7   \n",
       "1                              79   \n",
       "2                               1   \n",
       "3                               2   \n",
       "4                               1   \n",
       "\n",
       "   calculated_host_listings_count_entire_homes  \\\n",
       "0                                            7   \n",
       "1                                           78   \n",
       "2                                            1   \n",
       "3                                            2   \n",
       "4                                            1   \n",
       "\n",
       "   calculated_host_listings_count_private_rooms  \\\n",
       "0                                             0   \n",
       "1                                             1   \n",
       "2                                             0   \n",
       "3                                             0   \n",
       "4                                             0   \n",
       "\n",
       "   calculated_host_listings_count_shared_rooms  region_id region_name  \\\n",
       "0                                            0         19     Fayette   \n",
       "1                                            0         29        Park   \n",
       "2                                            0        291       Union   \n",
       "3                                            0         49    Santa Fe   \n",
       "4                                            0         87     Haywood   \n",
       "\n",
       "   region_parent_id region_parent_name  region_parent_parent_id  \\\n",
       "0                54      West Virginia                      NaN   \n",
       "1                56            Wyoming                      NaN   \n",
       "2                13            Georgia                      NaN   \n",
       "3                35         New Mexico                      NaN   \n",
       "4                37     North Carolina                      NaN   \n",
       "\n",
       "   region_parent_parent_name  reviews_per_month  \n",
       "0                        NaN               1.33  \n",
       "1                        NaN                NaN  \n",
       "2                        NaN               0.84  \n",
       "3                        NaN               0.73  \n",
       "4                        NaN               0.32  "
      ]
     },
     "execution_count": 100,
     "metadata": {},
     "output_type": "execute_result"
    }
   ],
   "source": [
    "pd.set_option('display.max_columns', None)\n",
    "df.head()"
   ]
  },
  {
   "cell_type": "markdown",
   "metadata": {
    "id": "cXOZlfoMzrLz"
   },
   "source": [
    "* **Summary of the Dataset**"
   ]
  },
  {
   "cell_type": "code",
   "execution_count": 101,
   "metadata": {
    "colab": {
     "base_uri": "https://localhost:8080/"
    },
    "executionInfo": {
     "elapsed": 2262,
     "status": "ok",
     "timestamp": 1669599944220,
     "user": {
      "displayName": "Adwaith Ajith Menon",
      "userId": "12906361836071324171"
     },
     "user_tz": 300
    },
    "id": "fquHOdSvzdAF",
    "outputId": "80bcb746-3da7-43b4-883e-a803da860e71"
   },
   "outputs": [
    {
     "name": "stdout",
     "output_type": "stream",
     "text": [
      "<class 'pandas.core.frame.DataFrame'>\n",
      "RangeIndex: 1252866 entries, 0 to 1252865\n",
      "Data columns (total 80 columns):\n",
      " #   Column                                        Non-Null Count    Dtype  \n",
      "---  ------                                        --------------    -----  \n",
      " 0   id                                            1252866 non-null  int64  \n",
      " 1   listing_url                                   1252866 non-null  object \n",
      " 2   scrape_id                                     1252866 non-null  int64  \n",
      " 3   last_searched                                 1122641 non-null  object \n",
      " 4   last_scraped                                  1252866 non-null  object \n",
      " 5   name                                          1252822 non-null  object \n",
      " 6   description                                   1237925 non-null  object \n",
      " 7   neighborhood_overview                         762169 non-null   object \n",
      " 8   picture_url                                   1252863 non-null  object \n",
      " 9   host_id                                       1252866 non-null  int64  \n",
      " 10  host_url                                      1252866 non-null  object \n",
      " 11  host_name                                     1245116 non-null  object \n",
      " 12  host_since                                    1245117 non-null  object \n",
      " 13  host_location                                 1242849 non-null  object \n",
      " 14  host_about                                    728620 non-null   object \n",
      " 15  host_response_time                            1102252 non-null  object \n",
      " 16  host_response_rate                            1102252 non-null  object \n",
      " 17  host_acceptance_rate                          1146738 non-null  object \n",
      " 18  host_is_superhost                             1245117 non-null  object \n",
      " 19  host_thumbnail_url                            1245117 non-null  object \n",
      " 20  host_picture_url                              1245117 non-null  object \n",
      " 21  host_neighbourhood                            548307 non-null   object \n",
      " 22  host_listings_count                           1245117 non-null  float64\n",
      " 23  host_total_listings_count                     1245117 non-null  float64\n",
      " 24  host_verifications                            1245117 non-null  object \n",
      " 25  host_has_profile_pic                          1245117 non-null  object \n",
      " 26  host_identity_verified                        1245117 non-null  object \n",
      " 27  neighbourhood                                 762180 non-null   object \n",
      " 28  latitude                                      1252866 non-null  float64\n",
      " 29  longitude                                     1252866 non-null  float64\n",
      " 30  property_type                                 1252866 non-null  object \n",
      " 31  room_type                                     1252866 non-null  object \n",
      " 32  accommodates                                  1252866 non-null  int64  \n",
      " 33  bathrooms                                     0 non-null        float64\n",
      " 34  bathrooms_text                                1251416 non-null  object \n",
      " 35  bedrooms                                      1182836 non-null  float64\n",
      " 36  beds                                          1235768 non-null  float64\n",
      " 37  amenities                                     1252866 non-null  object \n",
      " 38  price                                         1252866 non-null  object \n",
      " 39  minimum_nights                                1252866 non-null  int64  \n",
      " 40  maximum_nights                                1252866 non-null  int64  \n",
      " 41  minimum_minimum_nights                        1252805 non-null  float64\n",
      " 42  maximum_minimum_nights                        1252805 non-null  float64\n",
      " 43  minimum_maximum_nights                        1252805 non-null  float64\n",
      " 44  maximum_maximum_nights                        1252805 non-null  float64\n",
      " 45  minimum_nights_avg_ntm                        1252805 non-null  float64\n",
      " 46  maximum_nights_avg_ntm                        1252805 non-null  float64\n",
      " 47  calendar_updated                              0 non-null        float64\n",
      " 48  has_availability                              1252866 non-null  object \n",
      " 49  availability_30                               1252866 non-null  int64  \n",
      " 50  availability_60                               1252866 non-null  int64  \n",
      " 51  availability_90                               1252866 non-null  int64  \n",
      " 52  availability_365                              1252866 non-null  int64  \n",
      " 53  calendar_last_scraped                         1252866 non-null  object \n",
      " 54  number_of_reviews                             1252866 non-null  int64  \n",
      " 55  number_of_reviews_ltm                         1252866 non-null  int64  \n",
      " 56  number_of_reviews_l30d                        1252866 non-null  int64  \n",
      " 57  first_review                                  1047712 non-null  object \n",
      " 58  last_review                                   1047712 non-null  object \n",
      " 59  review_scores_rating                          1047712 non-null  float64\n",
      " 60  review_scores_accuracy                        1044694 non-null  float64\n",
      " 61  review_scores_cleanliness                     1044717 non-null  float64\n",
      " 62  review_scores_checkin                         1044614 non-null  float64\n",
      " 63  review_scores_communication                   1044697 non-null  float64\n",
      " 64  review_scores_location                        1044599 non-null  float64\n",
      " 65  review_scores_value                           1044591 non-null  float64\n",
      " 66  requires_license                              0 non-null        float64\n",
      " 67  license                                       119956 non-null   object \n",
      " 68  instant_bookable                              1252866 non-null  object \n",
      " 69  calculated_host_listings_count                1252866 non-null  int64  \n",
      " 70  calculated_host_listings_count_entire_homes   1252866 non-null  int64  \n",
      " 71  calculated_host_listings_count_private_rooms  1252866 non-null  int64  \n",
      " 72  calculated_host_listings_count_shared_rooms   1252866 non-null  int64  \n",
      " 73  region_id                                     1252866 non-null  int64  \n",
      " 74  region_name                                   1252866 non-null  object \n",
      " 75  region_parent_id                              1252866 non-null  int64  \n",
      " 76  region_parent_name                            1252866 non-null  object \n",
      " 77  region_parent_parent_id                       0 non-null        float64\n",
      " 78  region_parent_parent_name                     0 non-null        float64\n",
      " 79  reviews_per_month                             1047712 non-null  float64\n",
      "dtypes: float64(25), int64(19), object(36)\n",
      "memory usage: 764.7+ MB\n"
     ]
    }
   ],
   "source": [
    "# Summary\n",
    "df.info()"
   ]
  },
  {
   "cell_type": "markdown",
   "metadata": {
    "id": "A54jx-pS20OW"
   },
   "source": [
    "##  **3. Data Preprocessing**"
   ]
  },
  {
   "cell_type": "markdown",
   "metadata": {
    "id": "bAG1zRCgzu4X"
   },
   "source": [
    "### **3.1 Exploring Missing Values**"
   ]
  },
  {
   "cell_type": "code",
   "execution_count": 102,
   "metadata": {
    "colab": {
     "base_uri": "https://localhost:8080/"
    },
    "executionInfo": {
     "elapsed": 2185,
     "status": "ok",
     "timestamp": 1669599946402,
     "user": {
      "displayName": "Adwaith Ajith Menon",
      "userId": "12906361836071324171"
     },
     "user_tz": 300
    },
    "id": "jrCkc0-Z1Ej9",
    "outputId": "18bc08e4-b445-4eab-c458-30a9d7067d57"
   },
   "outputs": [
    {
     "name": "stdout",
     "output_type": "stream",
     "text": [
      "Number of Missing Values (Columnwise) :\n",
      "\n"
     ]
    },
    {
     "data": {
      "text/plain": [
       "id                                                    0\n",
       "listing_url                                           0\n",
       "scrape_id                                             0\n",
       "last_searched                                    130225\n",
       "last_scraped                                          0\n",
       "name                                                 44\n",
       "description                                       14941\n",
       "neighborhood_overview                            490697\n",
       "picture_url                                           3\n",
       "host_id                                               0\n",
       "host_url                                              0\n",
       "host_name                                          7750\n",
       "host_since                                         7749\n",
       "host_location                                     10017\n",
       "host_about                                       524246\n",
       "host_response_time                               150614\n",
       "host_response_rate                               150614\n",
       "host_acceptance_rate                             106128\n",
       "host_is_superhost                                  7749\n",
       "host_thumbnail_url                                 7749\n",
       "host_picture_url                                   7749\n",
       "host_neighbourhood                               704559\n",
       "host_listings_count                                7749\n",
       "host_total_listings_count                          7749\n",
       "host_verifications                                 7749\n",
       "host_has_profile_pic                               7749\n",
       "host_identity_verified                             7749\n",
       "neighbourhood                                    490686\n",
       "latitude                                              0\n",
       "longitude                                             0\n",
       "property_type                                         0\n",
       "room_type                                             0\n",
       "accommodates                                          0\n",
       "bathrooms                                       1252866\n",
       "bathrooms_text                                     1450\n",
       "bedrooms                                          70030\n",
       "beds                                              17098\n",
       "amenities                                             0\n",
       "price                                                 0\n",
       "minimum_nights                                        0\n",
       "maximum_nights                                        0\n",
       "minimum_minimum_nights                               61\n",
       "maximum_minimum_nights                               61\n",
       "minimum_maximum_nights                               61\n",
       "maximum_maximum_nights                               61\n",
       "minimum_nights_avg_ntm                               61\n",
       "maximum_nights_avg_ntm                               61\n",
       "calendar_updated                                1252866\n",
       "has_availability                                      0\n",
       "availability_30                                       0\n",
       "availability_60                                       0\n",
       "availability_90                                       0\n",
       "availability_365                                      0\n",
       "calendar_last_scraped                                 0\n",
       "number_of_reviews                                     0\n",
       "number_of_reviews_ltm                                 0\n",
       "number_of_reviews_l30d                                0\n",
       "first_review                                     205154\n",
       "last_review                                      205154\n",
       "review_scores_rating                             205154\n",
       "review_scores_accuracy                           208172\n",
       "review_scores_cleanliness                        208149\n",
       "review_scores_checkin                            208252\n",
       "review_scores_communication                      208169\n",
       "review_scores_location                           208267\n",
       "review_scores_value                              208275\n",
       "requires_license                                1252866\n",
       "license                                         1132910\n",
       "instant_bookable                                      0\n",
       "calculated_host_listings_count                        0\n",
       "calculated_host_listings_count_entire_homes           0\n",
       "calculated_host_listings_count_private_rooms          0\n",
       "calculated_host_listings_count_shared_rooms           0\n",
       "region_id                                             0\n",
       "region_name                                           0\n",
       "region_parent_id                                      0\n",
       "region_parent_name                                    0\n",
       "region_parent_parent_id                         1252866\n",
       "region_parent_parent_name                       1252866\n",
       "reviews_per_month                                205154\n",
       "dtype: int64"
      ]
     },
     "execution_count": 102,
     "metadata": {},
     "output_type": "execute_result"
    }
   ],
   "source": [
    "print(\"Number of Missing Values (Columnwise) :\\n\")\n",
    "pd. set_option('display.max_rows', 500)\n",
    "df.isna().sum()"
   ]
  },
  {
   "cell_type": "code",
   "execution_count": 103,
   "metadata": {
    "colab": {
     "base_uri": "https://localhost:8080/"
    },
    "executionInfo": {
     "elapsed": 2009,
     "status": "ok",
     "timestamp": 1669599948408,
     "user": {
      "displayName": "Adwaith Ajith Menon",
      "userId": "12906361836071324171"
     },
     "user_tz": 300
    },
    "id": "YNlkgKJa0Us5",
    "outputId": "6b777f31-4fff-4383-bde4-a4b77f948a45"
   },
   "outputs": [
    {
     "name": "stdout",
     "output_type": "stream",
     "text": [
      "Total Number of Missing Values :\n"
     ]
    },
    {
     "data": {
      "text/plain": [
       "12406349"
      ]
     },
     "execution_count": 103,
     "metadata": {},
     "output_type": "execute_result"
    }
   ],
   "source": [
    "print(\"Total Number of Missing Values :\")\n",
    "df.isna().sum().sum()"
   ]
  },
  {
   "cell_type": "markdown",
   "metadata": {
    "id": "NFjB6-LE1aOQ"
   },
   "source": [
    "### **3.2 Dropping Columns with Missing Values for every Listing**"
   ]
  },
  {
   "cell_type": "code",
   "execution_count": 104,
   "metadata": {
    "colab": {
     "base_uri": "https://localhost:8080/"
    },
    "executionInfo": {
     "elapsed": 2062,
     "status": "ok",
     "timestamp": 1669599950467,
     "user": {
      "displayName": "Adwaith Ajith Menon",
      "userId": "12906361836071324171"
     },
     "user_tz": 300
    },
    "id": "hUnMETuO__ic",
    "outputId": "a103746c-74fd-44f9-efe7-2c960b150c65"
   },
   "outputs": [
    {
     "data": {
      "text/plain": [
       "['bathrooms',\n",
       " 'calendar_updated',\n",
       " 'requires_license',\n",
       " 'region_parent_parent_id',\n",
       " 'region_parent_parent_name']"
      ]
     },
     "execution_count": 104,
     "metadata": {},
     "output_type": "execute_result"
    }
   ],
   "source": [
    "# Creating a List of Columns with Missing Values Corresponding to Every Listing\n",
    "cols=list()\n",
    "col_names=list(df.columns)\n",
    "for i in col_names:\n",
    "  if df[i].isna().sum()==df.shape[0]:\n",
    "    cols.append(i)\n",
    "cols"
   ]
  },
  {
   "cell_type": "code",
   "execution_count": 105,
   "metadata": {
    "id": "FOuOFCoM1eXN"
   },
   "outputs": [],
   "source": [
    "df=df.drop(cols,axis=1)"
   ]
  },
  {
   "cell_type": "markdown",
   "metadata": {
    "id": "trg7QO6QD36O"
   },
   "source": [
    "### **3.3 Dropping Columns Irrelevant to the Analysis / Columns with Redundant Information**"
   ]
  },
  {
   "cell_type": "code",
   "execution_count": 106,
   "metadata": {
    "colab": {
     "base_uri": "https://localhost:8080/"
    },
    "executionInfo": {
     "elapsed": 12,
     "status": "ok",
     "timestamp": 1669599950830,
     "user": {
      "displayName": "Adwaith Ajith Menon",
      "userId": "12906361836071324171"
     },
     "user_tz": 300
    },
    "id": "QOZyGHcbOuyq",
    "outputId": "572f5f58-e729-4a25-bed2-174360ebe1e1"
   },
   "outputs": [
    {
     "data": {
      "text/plain": [
       "Index(['id', 'listing_url', 'scrape_id', 'last_searched', 'last_scraped',\n",
       "       'name', 'description', 'neighborhood_overview', 'picture_url',\n",
       "       'host_id', 'host_url', 'host_name', 'host_since', 'host_location',\n",
       "       'host_about', 'host_response_time', 'host_response_rate',\n",
       "       'host_acceptance_rate', 'host_is_superhost', 'host_thumbnail_url',\n",
       "       'host_picture_url', 'host_neighbourhood', 'host_listings_count',\n",
       "       'host_total_listings_count', 'host_verifications',\n",
       "       'host_has_profile_pic', 'host_identity_verified', 'neighbourhood',\n",
       "       'latitude', 'longitude', 'property_type', 'room_type', 'accommodates',\n",
       "       'bathrooms_text', 'bedrooms', 'beds', 'amenities', 'price',\n",
       "       'minimum_nights', 'maximum_nights', 'minimum_minimum_nights',\n",
       "       'maximum_minimum_nights', 'minimum_maximum_nights',\n",
       "       'maximum_maximum_nights', 'minimum_nights_avg_ntm',\n",
       "       'maximum_nights_avg_ntm', 'has_availability', 'availability_30',\n",
       "       'availability_60', 'availability_90', 'availability_365',\n",
       "       'calendar_last_scraped', 'number_of_reviews', 'number_of_reviews_ltm',\n",
       "       'number_of_reviews_l30d', 'first_review', 'last_review',\n",
       "       'review_scores_rating', 'review_scores_accuracy',\n",
       "       'review_scores_cleanliness', 'review_scores_checkin',\n",
       "       'review_scores_communication', 'review_scores_location',\n",
       "       'review_scores_value', 'license', 'instant_bookable',\n",
       "       'calculated_host_listings_count',\n",
       "       'calculated_host_listings_count_entire_homes',\n",
       "       'calculated_host_listings_count_private_rooms',\n",
       "       'calculated_host_listings_count_shared_rooms', 'region_id',\n",
       "       'region_name', 'region_parent_id', 'region_parent_name',\n",
       "       'reviews_per_month'],\n",
       "      dtype='object')"
      ]
     },
     "execution_count": 106,
     "metadata": {},
     "output_type": "execute_result"
    }
   ],
   "source": [
    "df.columns"
   ]
  },
  {
   "cell_type": "code",
   "execution_count": 107,
   "metadata": {
    "id": "UxXbXJSNA6AC"
   },
   "outputs": [],
   "source": [
    "df=df.drop(['host_thumbnail_url','host_picture_url','host_neighbourhood','neighbourhood','calendar_last_scraped','host_response_time', 'host_response_rate',\n",
    "       'host_acceptance_rate','first_review', 'last_review', 'review_scores_accuracy',\n",
    "       'review_scores_cleanliness', 'review_scores_checkin',\n",
    "       'review_scores_communication', 'review_scores_location',\n",
    "       'review_scores_value','calendar_last_scraped','bathrooms_text', 'amenities','host_listings_count',\n",
    "       'host_total_listings_count','host_verifications',\n",
    "       'host_has_profile_pic','region_parent_id','host_is_superhost','region_id','listing_url', 'scrape_id', 'last_searched', 'last_scraped',\n",
    "       'name', 'description', 'neighborhood_overview', 'picture_url','host_url','host_about','has_availability', 'availability_30',\n",
    "       'availability_60', 'availability_90', 'availability_365','minimum_minimum_nights',\n",
    "       'maximum_minimum_nights', 'minimum_maximum_nights',\n",
    "       'maximum_maximum_nights', 'minimum_nights_avg_ntm',\n",
    "       'maximum_nights_avg_ntm'],axis=1)"
   ]
  },
  {
   "cell_type": "markdown",
   "metadata": {
    "id": "imX9CFymUuw3"
   },
   "source": [
    "### **3.4 Imputing Missing Values for 'Beds' & 'Bedrooms' columns with respective Median Values**"
   ]
  },
  {
   "cell_type": "code",
   "execution_count": 108,
   "metadata": {
    "id": "HN3bhGW_klbL"
   },
   "outputs": [],
   "source": [
    "df['beds']=df['beds'].fillna(df['beds'].median())"
   ]
  },
  {
   "cell_type": "code",
   "execution_count": 109,
   "metadata": {
    "id": "u1hrPWW_UiPV"
   },
   "outputs": [],
   "source": [
    "df['bedrooms']=df['bedrooms'].fillna(df['bedrooms'].median())"
   ]
  },
  {
   "cell_type": "markdown",
   "metadata": {
    "id": "otRhdvee3dCY"
   },
   "source": [
    "## **4. Feature Engineering**"
   ]
  },
  {
   "cell_type": "markdown",
   "metadata": {
    "id": "l4pM09Zac3Hq"
   },
   "source": [
    "### **4.1 Adding variable to check if a listing has a license or no (If Licensed then 1 , else 0)**"
   ]
  },
  {
   "cell_type": "code",
   "execution_count": 110,
   "metadata": {
    "id": "a9OFlrXpAVKo"
   },
   "outputs": [],
   "source": [
    "df['with_license']=np.where(df['license'].isna(),0,1)"
   ]
  },
  {
   "cell_type": "code",
   "execution_count": 111,
   "metadata": {
    "id": "3Swx63lpBfua"
   },
   "outputs": [],
   "source": [
    "df=df.drop(['license'],axis=1)"
   ]
  },
  {
   "cell_type": "markdown",
   "metadata": {
    "id": "JrHBR3r7BlmC"
   },
   "source": [
    "### **4.2 Adding variable to check if a listing is a STR or a LTR**"
   ]
  },
  {
   "cell_type": "code",
   "execution_count": 112,
   "metadata": {
    "id": "v_GyctOqBR2J"
   },
   "outputs": [],
   "source": [
    "df['STR_vs_LTR']=np.where(df['minimum_nights']<30,'STR','LTR')"
   ]
  },
  {
   "cell_type": "code",
   "execution_count": 113,
   "metadata": {
    "colab": {
     "base_uri": "https://localhost:8080/"
    },
    "executionInfo": {
     "elapsed": 6,
     "status": "ok",
     "timestamp": 1669599951488,
     "user": {
      "displayName": "Adwaith Ajith Menon",
      "userId": "12906361836071324171"
     },
     "user_tz": 300
    },
    "id": "ze021VteCFMi",
    "outputId": "316de7ad-09b6-42f2-de66-cfb54076d17d"
   },
   "outputs": [
    {
     "data": {
      "text/plain": [
       "STR_vs_LTR\n",
       "STR    1133932\n",
       "LTR     118934\n",
       "Name: count, dtype: int64"
      ]
     },
     "execution_count": 113,
     "metadata": {},
     "output_type": "execute_result"
    }
   ],
   "source": [
    "df['STR_vs_LTR'].value_counts()"
   ]
  },
  {
   "cell_type": "markdown",
   "metadata": {
    "id": "N-7Vrixymp7R"
   },
   "source": [
    "### **4.3 Adding New Columns 'estimated_booking_ltm', 'estimated_nights_ltm' & 'estimated_revenue_ltm' which represent the number of bookings, number of nights booked & revenue generated respectively for the last 12 months '**"
   ]
  },
  {
   "cell_type": "code",
   "execution_count": 114,
   "metadata": {
    "id": "AEsV7VDrnEFr"
   },
   "outputs": [],
   "source": [
    "review_rate=0.5\n",
    "maximum_occupancy=255\n",
    "average_nights_stay=3\n",
    "df['price']=df['price'].str.lstrip('$').str.replace(',','')\n",
    "df['price']=pd.to_numeric(df['price'])\n",
    "df['estimated_booking_ltm']=round(df['number_of_reviews_ltm']/review_rate).astype(int)\n",
    "df['estimated_nights_ltm'] = round(np.minimum(df['estimated_booking_ltm'] * (np.maximum(df['minimum_nights'], average_nights_stay)),maximum_occupancy))\n",
    "df['estimated_revenue_ltm'] = round(df['estimated_nights_ltm'] * df['price'])"
   ]
  },
  {
   "cell_type": "markdown",
   "metadata": {
    "id": "wKpTQ-9MntDr"
   },
   "source": [
    "### **4.4 Adding a New Column 'Frequency_of_renting' which shows how frequently a listing is being rented out**"
   ]
  },
  {
   "cell_type": "code",
   "execution_count": 115,
   "metadata": {
    "id": "pdD9tUnNn4sV"
   },
   "outputs": [],
   "source": [
    "df.loc[df['estimated_nights_ltm']<=30, 'Frequency_of_renting'] = 'occasionally rented'\n",
    "df.loc[((df['estimated_nights_ltm']>30) & (df['estimated_nights_ltm']<=90)) , 'Frequency_of_renting'] = 'semi_regularly rented'\n",
    "df.loc[df['estimated_nights_ltm']>90, 'Frequency_of_renting'] = 'rented full time'"
   ]
  },
  {
   "cell_type": "markdown",
   "metadata": {
    "id": "9NGU2WBToVNS"
   },
   "source": [
    "### **4.5 Adding a New Column 'Commercial Nature' with 3 Categories for the listings : 'Home Sharing', 'Semi-Commercial' & 'Commercial'**"
   ]
  },
  {
   "cell_type": "markdown",
   "metadata": {
    "id": "0TOzadj3olhK"
   },
   "source": [
    "**1. Home Sharing**"
   ]
  },
  {
   "cell_type": "code",
   "execution_count": 116,
   "metadata": {
    "id": "a5gmtHaPYcmS"
   },
   "outputs": [],
   "source": [
    "df.loc[(df['room_type']=='Shared room') & (df['calculated_host_listings_count_shared_rooms']==1),'Commercial_Nature']='Home Sharing'\n",
    "df.loc[(df['room_type']=='Shared room') & (df['calculated_host_listings_count_shared_rooms']>1) & (df['beds']<=3),'Commercial_Nature']='Home Sharing'\n",
    "df.loc[(df['room_type']=='Private room') & (df['calculated_host_listings_count_private_rooms']<=3),'Commercial_Nature']='Home Sharing'\n",
    "df.loc[(df['room_type']=='Entire home/apt') & (df['calculated_host_listings_count_entire_homes']==1) & (df['Frequency_of_renting']=='occasionally rented'),'Commercial_Nature']= 'Home Sharing'"
   ]
  },
  {
   "cell_type": "markdown",
   "metadata": {
    "id": "Te8Dxs3MovmB"
   },
   "source": [
    "**2. Semi-commercial**"
   ]
  },
  {
   "cell_type": "code",
   "execution_count": 117,
   "metadata": {
    "id": "ww-0SsHfbNCU"
   },
   "outputs": [],
   "source": [
    "df.loc[(df['room_type']=='Shared room') & (df['calculated_host_listings_count_shared_rooms']>1) & (df['beds']>3),'Commercial_Nature']='Semi-Commercial'\n",
    "df.loc[(df['room_type']=='Private room') & (df['calculated_host_listings_count_private_rooms']>3) & (df['calculated_host_listings_count_private_rooms']<=6),'Commercial_Nature']='Semi-Commercial'\n",
    "df.loc[(df['room_type']=='Entire home/apt') & (df['calculated_host_listings_count_entire_homes']==1) & (df['Frequency_of_renting']=='semi_regularly rented'),'Commercial_Nature']= 'Semi-Commercial'"
   ]
  },
  {
   "cell_type": "markdown",
   "metadata": {
    "id": "oJ3Z2SF9o34-"
   },
   "source": [
    "**3. Commercial**"
   ]
  },
  {
   "cell_type": "code",
   "execution_count": 118,
   "metadata": {
    "id": "5Iny0-SbcMqM"
   },
   "outputs": [],
   "source": [
    "df.loc[(df['room_type']=='Hotel room'),'Commercial_Nature'] ='Commercial'\n",
    "df.loc[(df['room_type']=='Entire home/apt') & (df['calculated_host_listings_count_entire_homes']>1),'Commercial_Nature'] ='Commercial'\n",
    "df.loc[(df['room_type']=='Entire home/apt') & (df['calculated_host_listings_count_entire_homes']==1) & (df['Frequency_of_renting']=='rented full time'),'Commercial_Nature']= 'Commercial'\n",
    "df.loc[(df['room_type']=='Private room') & (df['calculated_host_listings_count_private_rooms']>6),'Commercial_Nature']='Commercial'"
   ]
  },
  {
   "cell_type": "markdown",
   "metadata": {
    "id": "Kq4AhlZcY7AX"
   },
   "source": [
    "* **Number of Listings Based on Commercial Nature**"
   ]
  },
  {
   "cell_type": "code",
   "execution_count": 119,
   "metadata": {
    "colab": {
     "base_uri": "https://localhost:8080/"
    },
    "executionInfo": {
     "elapsed": 8,
     "status": "ok",
     "timestamp": 1669599953977,
     "user": {
      "displayName": "Adwaith Ajith Menon",
      "userId": "12906361836071324171"
     },
     "user_tz": 300
    },
    "id": "HeZb-c6nYd9o",
    "outputId": "fabf861f-7969-4013-8116-cae00aaaebad"
   },
   "outputs": [
    {
     "data": {
      "text/plain": [
       "Commercial_Nature\n",
       "Commercial         854110\n",
       "Home Sharing       281030\n",
       "Semi-Commercial    117726\n",
       "Name: count, dtype: int64"
      ]
     },
     "execution_count": 119,
     "metadata": {},
     "output_type": "execute_result"
    }
   ],
   "source": [
    "df['Commercial_Nature'].value_counts()"
   ]
  },
  {
   "cell_type": "markdown",
   "metadata": {
    "id": "YlE4mg2ym0o0"
   },
   "source": [
    "## **5. Extracting Zipcodes from Latitude & Longitude Values**"
   ]
  },
  {
   "cell_type": "code",
   "execution_count": 120,
   "metadata": {
    "id": "nb2fH2F2uCdO"
   },
   "outputs": [],
   "source": [
    "# Creating a New Dataframe 'df_zip'\n",
    "df_zip=df[['id','latitude','longitude']]"
   ]
  },
  {
   "cell_type": "markdown",
   "metadata": {
    "id": "n_2kivIEqpZ8"
   },
   "source": [
    "* **Installing Required Packages**"
   ]
  },
  {
   "cell_type": "code",
   "execution_count": 121,
   "metadata": {
    "colab": {
     "base_uri": "https://localhost:8080/"
    },
    "executionInfo": {
     "elapsed": 6588,
     "status": "ok",
     "timestamp": 1669599960865,
     "user": {
      "displayName": "Adwaith Ajith Menon",
      "userId": "12906361836071324171"
     },
     "user_tz": 300
    },
    "id": "vT0iXPBllmyb",
    "outputId": "a971ac6d-0847-48d5-93b5-941a620578eb"
   },
   "outputs": [
    {
     "name": "stdout",
     "output_type": "stream",
     "text": [
      "Requirement already satisfied: pandas in /Users/ananthakrishnakalle/anaconda3/lib/python3.10/site-packages (2.2.1)\n",
      "Requirement already satisfied: fiona in /Users/ananthakrishnakalle/anaconda3/lib/python3.10/site-packages (1.9.5)\n",
      "Requirement already satisfied: shapely in /Users/ananthakrishnakalle/anaconda3/lib/python3.10/site-packages (2.0.3)\n",
      "Requirement already satisfied: pyproj in /Users/ananthakrishnakalle/anaconda3/lib/python3.10/site-packages (3.6.1)\n",
      "Requirement already satisfied: rtree in /Users/ananthakrishnakalle/anaconda3/lib/python3.10/site-packages (1.0.1)\n",
      "Requirement already satisfied: numpy<2,>=1.22.4 in /Users/ananthakrishnakalle/anaconda3/lib/python3.10/site-packages (from pandas) (1.23.5)\n",
      "Requirement already satisfied: pytz>=2020.1 in /Users/ananthakrishnakalle/anaconda3/lib/python3.10/site-packages (from pandas) (2020.1)\n",
      "Requirement already satisfied: tzdata>=2022.7 in /Users/ananthakrishnakalle/anaconda3/lib/python3.10/site-packages (from pandas) (2024.1)\n",
      "Requirement already satisfied: python-dateutil>=2.8.2 in /Users/ananthakrishnakalle/anaconda3/lib/python3.10/site-packages (from pandas) (2.8.2)\n",
      "Requirement already satisfied: cligj>=0.5 in /Users/ananthakrishnakalle/anaconda3/lib/python3.10/site-packages (from fiona) (0.7.2)\n",
      "Requirement already satisfied: attrs>=19.2.0 in /Users/ananthakrishnakalle/anaconda3/lib/python3.10/site-packages (from fiona) (22.1.0)\n",
      "Requirement already satisfied: click~=8.0 in /Users/ananthakrishnakalle/anaconda3/lib/python3.10/site-packages (from fiona) (8.1.7)\n",
      "Requirement already satisfied: certifi in /Users/ananthakrishnakalle/anaconda3/lib/python3.10/site-packages (from fiona) (2023.7.22)\n",
      "Requirement already satisfied: click-plugins>=1.0 in /Users/ananthakrishnakalle/anaconda3/lib/python3.10/site-packages (from fiona) (1.1.1)\n",
      "Requirement already satisfied: six in /Users/ananthakrishnakalle/anaconda3/lib/python3.10/site-packages (from fiona) (1.15.0)\n",
      "Requirement already satisfied: setuptools in /Users/ananthakrishnakalle/anaconda3/lib/python3.10/site-packages (from fiona) (65.6.3)\n"
     ]
    }
   ],
   "source": [
    "!pip install pandas fiona shapely pyproj rtree"
   ]
  },
  {
   "cell_type": "code",
   "execution_count": 122,
   "metadata": {
    "colab": {
     "base_uri": "https://localhost:8080/"
    },
    "executionInfo": {
     "elapsed": 4854,
     "status": "ok",
     "timestamp": 1669599965714,
     "user": {
      "displayName": "Adwaith Ajith Menon",
      "userId": "12906361836071324171"
     },
     "user_tz": 300
    },
    "id": "I9IzjdljnFSo",
    "outputId": "4d9bce9b-53b6-4324-fd05-93db0c3912c1"
   },
   "outputs": [
    {
     "name": "stdout",
     "output_type": "stream",
     "text": [
      "Requirement already satisfied: geopandas in /Users/ananthakrishnakalle/anaconda3/lib/python3.10/site-packages (0.14.3)\n",
      "Requirement already satisfied: fiona>=1.8.21 in /Users/ananthakrishnakalle/anaconda3/lib/python3.10/site-packages (from geopandas) (1.9.5)\n",
      "Requirement already satisfied: packaging in /Users/ananthakrishnakalle/anaconda3/lib/python3.10/site-packages (from geopandas) (22.0)\n",
      "Requirement already satisfied: pandas>=1.4.0 in /Users/ananthakrishnakalle/anaconda3/lib/python3.10/site-packages (from geopandas) (2.2.1)\n",
      "Requirement already satisfied: shapely>=1.8.0 in /Users/ananthakrishnakalle/anaconda3/lib/python3.10/site-packages (from geopandas) (2.0.3)\n",
      "Requirement already satisfied: pyproj>=3.3.0 in /Users/ananthakrishnakalle/anaconda3/lib/python3.10/site-packages (from geopandas) (3.6.1)\n",
      "Requirement already satisfied: click~=8.0 in /Users/ananthakrishnakalle/anaconda3/lib/python3.10/site-packages (from fiona>=1.8.21->geopandas) (8.1.7)\n",
      "Requirement already satisfied: setuptools in /Users/ananthakrishnakalle/anaconda3/lib/python3.10/site-packages (from fiona>=1.8.21->geopandas) (65.6.3)\n",
      "Requirement already satisfied: certifi in /Users/ananthakrishnakalle/anaconda3/lib/python3.10/site-packages (from fiona>=1.8.21->geopandas) (2023.7.22)\n",
      "Requirement already satisfied: six in /Users/ananthakrishnakalle/anaconda3/lib/python3.10/site-packages (from fiona>=1.8.21->geopandas) (1.15.0)\n",
      "Requirement already satisfied: attrs>=19.2.0 in /Users/ananthakrishnakalle/anaconda3/lib/python3.10/site-packages (from fiona>=1.8.21->geopandas) (22.1.0)\n",
      "Requirement already satisfied: click-plugins>=1.0 in /Users/ananthakrishnakalle/anaconda3/lib/python3.10/site-packages (from fiona>=1.8.21->geopandas) (1.1.1)\n",
      "Requirement already satisfied: cligj>=0.5 in /Users/ananthakrishnakalle/anaconda3/lib/python3.10/site-packages (from fiona>=1.8.21->geopandas) (0.7.2)\n",
      "Requirement already satisfied: python-dateutil>=2.8.2 in /Users/ananthakrishnakalle/anaconda3/lib/python3.10/site-packages (from pandas>=1.4.0->geopandas) (2.8.2)\n",
      "Requirement already satisfied: tzdata>=2022.7 in /Users/ananthakrishnakalle/anaconda3/lib/python3.10/site-packages (from pandas>=1.4.0->geopandas) (2024.1)\n",
      "Requirement already satisfied: pytz>=2020.1 in /Users/ananthakrishnakalle/anaconda3/lib/python3.10/site-packages (from pandas>=1.4.0->geopandas) (2020.1)\n",
      "Requirement already satisfied: numpy<2,>=1.22.4 in /Users/ananthakrishnakalle/anaconda3/lib/python3.10/site-packages (from pandas>=1.4.0->geopandas) (1.23.5)\n"
     ]
    }
   ],
   "source": [
    "!pip install geopandas\n",
    "import geopandas as gpd"
   ]
  },
  {
   "cell_type": "code",
   "execution_count": 123,
   "metadata": {
    "id": "LZVeuduixWHI"
   },
   "outputs": [],
   "source": [
    "df_zip = gpd.GeoDataFrame(df_zip, geometry=gpd.points_from_xy(df_zip['longitude'], df_zip['latitude']),crs='EPSG:4326')"
   ]
  },
  {
   "cell_type": "code",
   "execution_count": 124,
   "metadata": {
    "id": "NZ7E515iuaBr"
   },
   "outputs": [],
   "source": [
    "zipcode_file='input/tl_2017_us_zcta510.zip'"
   ]
  },
  {
   "cell_type": "code",
   "execution_count": 125,
   "metadata": {
    "id": "pfqdHQhEwxI1"
   },
   "outputs": [],
   "source": [
    "zipcode_gdf = gpd.read_file(f\"zip://{zipcode_file}\")"
   ]
  },
  {
   "cell_type": "code",
   "execution_count": 126,
   "metadata": {
    "colab": {
     "base_uri": "https://localhost:8080/",
     "height": 250
    },
    "executionInfo": {
     "elapsed": 14,
     "status": "ok",
     "timestamp": 1669600031896,
     "user": {
      "displayName": "Adwaith Ajith Menon",
      "userId": "12906361836071324171"
     },
     "user_tz": 300
    },
    "id": "5yPakvUhw1QR",
    "outputId": "bd3a72be-befd-4516-c066-4ed22f6af70a"
   },
   "outputs": [
    {
     "data": {
      "text/html": [
       "<div>\n",
       "<style scoped>\n",
       "    .dataframe tbody tr th:only-of-type {\n",
       "        vertical-align: middle;\n",
       "    }\n",
       "\n",
       "    .dataframe tbody tr th {\n",
       "        vertical-align: top;\n",
       "    }\n",
       "\n",
       "    .dataframe thead th {\n",
       "        text-align: right;\n",
       "    }\n",
       "</style>\n",
       "<table border=\"1\" class=\"dataframe\">\n",
       "  <thead>\n",
       "    <tr style=\"text-align: right;\">\n",
       "      <th></th>\n",
       "      <th>ZCTA5CE10</th>\n",
       "      <th>GEOID10</th>\n",
       "      <th>CLASSFP10</th>\n",
       "      <th>MTFCC10</th>\n",
       "      <th>FUNCSTAT10</th>\n",
       "      <th>ALAND10</th>\n",
       "      <th>AWATER10</th>\n",
       "      <th>INTPTLAT10</th>\n",
       "      <th>INTPTLON10</th>\n",
       "      <th>geometry</th>\n",
       "    </tr>\n",
       "  </thead>\n",
       "  <tbody>\n",
       "    <tr>\n",
       "      <th>0</th>\n",
       "      <td>43451</td>\n",
       "      <td>43451</td>\n",
       "      <td>B5</td>\n",
       "      <td>G6350</td>\n",
       "      <td>S</td>\n",
       "      <td>63411475</td>\n",
       "      <td>157689</td>\n",
       "      <td>+41.3183010</td>\n",
       "      <td>-083.6174935</td>\n",
       "      <td>POLYGON ((-83.70873 41.32733, -83.70815 41.327...</td>\n",
       "    </tr>\n",
       "    <tr>\n",
       "      <th>1</th>\n",
       "      <td>43452</td>\n",
       "      <td>43452</td>\n",
       "      <td>B5</td>\n",
       "      <td>G6350</td>\n",
       "      <td>S</td>\n",
       "      <td>121783674</td>\n",
       "      <td>13437380</td>\n",
       "      <td>+41.5157923</td>\n",
       "      <td>-082.9809454</td>\n",
       "      <td>POLYGON ((-83.08698 41.53780, -83.08256 41.537...</td>\n",
       "    </tr>\n",
       "    <tr>\n",
       "      <th>2</th>\n",
       "      <td>43456</td>\n",
       "      <td>43456</td>\n",
       "      <td>B5</td>\n",
       "      <td>G6350</td>\n",
       "      <td>S</td>\n",
       "      <td>9389362</td>\n",
       "      <td>999166</td>\n",
       "      <td>+41.6468445</td>\n",
       "      <td>-082.8226641</td>\n",
       "      <td>MULTIPOLYGON (((-82.83558 41.71082, -82.83515 ...</td>\n",
       "    </tr>\n",
       "    <tr>\n",
       "      <th>3</th>\n",
       "      <td>43457</td>\n",
       "      <td>43457</td>\n",
       "      <td>B5</td>\n",
       "      <td>G6350</td>\n",
       "      <td>S</td>\n",
       "      <td>48035540</td>\n",
       "      <td>0</td>\n",
       "      <td>+41.2673266</td>\n",
       "      <td>-083.4274645</td>\n",
       "      <td>POLYGON ((-83.49650 41.25371, -83.48382 41.253...</td>\n",
       "    </tr>\n",
       "    <tr>\n",
       "      <th>4</th>\n",
       "      <td>43458</td>\n",
       "      <td>43458</td>\n",
       "      <td>B5</td>\n",
       "      <td>G6350</td>\n",
       "      <td>S</td>\n",
       "      <td>2573816</td>\n",
       "      <td>39915</td>\n",
       "      <td>+41.5304461</td>\n",
       "      <td>-083.2133648</td>\n",
       "      <td>POLYGON ((-83.22229 41.53102, -83.22228 41.532...</td>\n",
       "    </tr>\n",
       "  </tbody>\n",
       "</table>\n",
       "</div>"
      ],
      "text/plain": [
       "  ZCTA5CE10 GEOID10 CLASSFP10 MTFCC10 FUNCSTAT10    ALAND10  AWATER10  \\\n",
       "0     43451   43451        B5   G6350          S   63411475    157689   \n",
       "1     43452   43452        B5   G6350          S  121783674  13437380   \n",
       "2     43456   43456        B5   G6350          S    9389362    999166   \n",
       "3     43457   43457        B5   G6350          S   48035540         0   \n",
       "4     43458   43458        B5   G6350          S    2573816     39915   \n",
       "\n",
       "    INTPTLAT10    INTPTLON10  \\\n",
       "0  +41.3183010  -083.6174935   \n",
       "1  +41.5157923  -082.9809454   \n",
       "2  +41.6468445  -082.8226641   \n",
       "3  +41.2673266  -083.4274645   \n",
       "4  +41.5304461  -083.2133648   \n",
       "\n",
       "                                            geometry  \n",
       "0  POLYGON ((-83.70873 41.32733, -83.70815 41.327...  \n",
       "1  POLYGON ((-83.08698 41.53780, -83.08256 41.537...  \n",
       "2  MULTIPOLYGON (((-82.83558 41.71082, -82.83515 ...  \n",
       "3  POLYGON ((-83.49650 41.25371, -83.48382 41.253...  \n",
       "4  POLYGON ((-83.22229 41.53102, -83.22228 41.532...  "
      ]
     },
     "execution_count": 126,
     "metadata": {},
     "output_type": "execute_result"
    }
   ],
   "source": [
    "zipcode_gdf.head()"
   ]
  },
  {
   "cell_type": "code",
   "execution_count": 127,
   "metadata": {
    "colab": {
     "base_uri": "https://localhost:8080/"
    },
    "executionInfo": {
     "elapsed": 10,
     "status": "ok",
     "timestamp": 1669600031896,
     "user": {
      "displayName": "Adwaith Ajith Menon",
      "userId": "12906361836071324171"
     },
     "user_tz": 300
    },
    "id": "5gqTQgI1w2Zl",
    "outputId": "9160fe7f-8069-41ab-e724-4b4f24af63b1"
   },
   "outputs": [
    {
     "name": "stdout",
     "output_type": "stream",
     "text": [
      "<class 'geopandas.geodataframe.GeoDataFrame'>\n",
      "RangeIndex: 33144 entries, 0 to 33143\n",
      "Data columns (total 10 columns):\n",
      " #   Column      Non-Null Count  Dtype   \n",
      "---  ------      --------------  -----   \n",
      " 0   ZCTA5CE10   33144 non-null  object  \n",
      " 1   GEOID10     33144 non-null  object  \n",
      " 2   CLASSFP10   33144 non-null  object  \n",
      " 3   MTFCC10     33144 non-null  object  \n",
      " 4   FUNCSTAT10  33144 non-null  object  \n",
      " 5   ALAND10     33144 non-null  int64   \n",
      " 6   AWATER10    33144 non-null  int64   \n",
      " 7   INTPTLAT10  33144 non-null  object  \n",
      " 8   INTPTLON10  33144 non-null  object  \n",
      " 9   geometry    33144 non-null  geometry\n",
      "dtypes: geometry(1), int64(2), object(7)\n",
      "memory usage: 2.5+ MB\n"
     ]
    }
   ],
   "source": [
    "zipcode_gdf.info()"
   ]
  },
  {
   "cell_type": "code",
   "execution_count": 128,
   "metadata": {
    "colab": {
     "base_uri": "https://localhost:8080/"
    },
    "executionInfo": {
     "elapsed": 46078,
     "status": "ok",
     "timestamp": 1669600077968,
     "user": {
      "displayName": "Adwaith Ajith Menon",
      "userId": "12906361836071324171"
     },
     "user_tz": 300
    },
    "id": "x0fk-cYrw2mM",
    "outputId": "0804383c-7482-463c-e2db-1718aa6bbd16"
   },
   "outputs": [
    {
     "data": {
      "text/plain": [
       "<Geographic 2D CRS: EPSG:4269>\n",
       "Name: NAD83\n",
       "Axis Info [ellipsoidal]:\n",
       "- Lat[north]: Geodetic latitude (degree)\n",
       "- Lon[east]: Geodetic longitude (degree)\n",
       "Area of Use:\n",
       "- name: North America - onshore and offshore: Canada - Alberta; British Columbia; Manitoba; New Brunswick; Newfoundland and Labrador; Northwest Territories; Nova Scotia; Nunavut; Ontario; Prince Edward Island; Quebec; Saskatchewan; Yukon. Puerto Rico. United States (USA) - Alabama; Alaska; Arizona; Arkansas; California; Colorado; Connecticut; Delaware; Florida; Georgia; Hawaii; Idaho; Illinois; Indiana; Iowa; Kansas; Kentucky; Louisiana; Maine; Maryland; Massachusetts; Michigan; Minnesota; Mississippi; Missouri; Montana; Nebraska; Nevada; New Hampshire; New Jersey; New Mexico; New York; North Carolina; North Dakota; Ohio; Oklahoma; Oregon; Pennsylvania; Rhode Island; South Carolina; South Dakota; Tennessee; Texas; Utah; Vermont; Virginia; Washington; West Virginia; Wisconsin; Wyoming. US Virgin Islands. British Virgin Islands.\n",
       "- bounds: (167.65, 14.92, -40.73, 86.45)\n",
       "Datum: North American Datum 1983\n",
       "- Ellipsoid: GRS 1980\n",
       "- Prime Meridian: Greenwich"
      ]
     },
     "execution_count": 128,
     "metadata": {},
     "output_type": "execute_result"
    }
   ],
   "source": [
    "df_zip.to_crs(epsg=4269, inplace=True)\n",
    "df_zip.crs"
   ]
  },
  {
   "cell_type": "code",
   "execution_count": 129,
   "metadata": {
    "colab": {
     "base_uri": "https://localhost:8080/"
    },
    "executionInfo": {
     "elapsed": 7,
     "status": "ok",
     "timestamp": 1669600077968,
     "user": {
      "displayName": "Adwaith Ajith Menon",
      "userId": "12906361836071324171"
     },
     "user_tz": 300
    },
    "id": "lExcq93_0XY8",
    "outputId": "623dafd5-ed13-46d1-fcf8-d24f8d289f05"
   },
   "outputs": [
    {
     "data": {
      "text/plain": [
       "(33144, 10)"
      ]
     },
     "execution_count": 129,
     "metadata": {},
     "output_type": "execute_result"
    }
   ],
   "source": [
    "zipcode_gdf.shape"
   ]
  },
  {
   "cell_type": "code",
   "execution_count": 130,
   "metadata": {
    "id": "bd8qdxk7xtye"
   },
   "outputs": [],
   "source": [
    "df_with_zips = gpd.sjoin(df_zip, zipcode_gdf, how=\"inner\")"
   ]
  },
  {
   "cell_type": "code",
   "execution_count": 131,
   "metadata": {
    "colab": {
     "base_uri": "https://localhost:8080/"
    },
    "executionInfo": {
     "elapsed": 53,
     "status": "ok",
     "timestamp": 1669600232843,
     "user": {
      "displayName": "Adwaith Ajith Menon",
      "userId": "12906361836071324171"
     },
     "user_tz": 300
    },
    "id": "fVJ8-REHxwBL",
    "outputId": "a0cce1ca-8825-4a27-9671-ab1808896395"
   },
   "outputs": [
    {
     "data": {
      "text/plain": [
       "(1243827, 14)"
      ]
     },
     "execution_count": 131,
     "metadata": {},
     "output_type": "execute_result"
    }
   ],
   "source": [
    "df_with_zips.shape"
   ]
  },
  {
   "cell_type": "code",
   "execution_count": 132,
   "metadata": {
    "colab": {
     "base_uri": "https://localhost:8080/",
     "height": 444
    },
    "executionInfo": {
     "elapsed": 50,
     "status": "ok",
     "timestamp": 1669600232844,
     "user": {
      "displayName": "Adwaith Ajith Menon",
      "userId": "12906361836071324171"
     },
     "user_tz": 300
    },
    "id": "-fhd14zSx5X_",
    "outputId": "a48168a4-b7d3-48b3-f61e-10fee212c7ae"
   },
   "outputs": [
    {
     "data": {
      "text/html": [
       "<div>\n",
       "<style scoped>\n",
       "    .dataframe tbody tr th:only-of-type {\n",
       "        vertical-align: middle;\n",
       "    }\n",
       "\n",
       "    .dataframe tbody tr th {\n",
       "        vertical-align: top;\n",
       "    }\n",
       "\n",
       "    .dataframe thead th {\n",
       "        text-align: right;\n",
       "    }\n",
       "</style>\n",
       "<table border=\"1\" class=\"dataframe\">\n",
       "  <thead>\n",
       "    <tr style=\"text-align: right;\">\n",
       "      <th></th>\n",
       "      <th>id</th>\n",
       "      <th>latitude</th>\n",
       "      <th>longitude</th>\n",
       "      <th>geometry</th>\n",
       "      <th>index_right</th>\n",
       "      <th>ZCTA5CE10</th>\n",
       "      <th>GEOID10</th>\n",
       "      <th>CLASSFP10</th>\n",
       "      <th>MTFCC10</th>\n",
       "      <th>FUNCSTAT10</th>\n",
       "      <th>ALAND10</th>\n",
       "      <th>AWATER10</th>\n",
       "      <th>INTPTLAT10</th>\n",
       "      <th>INTPTLON10</th>\n",
       "    </tr>\n",
       "  </thead>\n",
       "  <tbody>\n",
       "    <tr>\n",
       "      <th>0</th>\n",
       "      <td>35575312</td>\n",
       "      <td>37.97405</td>\n",
       "      <td>-81.15124</td>\n",
       "      <td>POINT (-81.15124 37.97405)</td>\n",
       "      <td>7248</td>\n",
       "      <td>25901</td>\n",
       "      <td>25901</td>\n",
       "      <td>B5</td>\n",
       "      <td>G6350</td>\n",
       "      <td>S</td>\n",
       "      <td>85074437</td>\n",
       "      <td>1005413</td>\n",
       "      <td>+37.9507017</td>\n",
       "      <td>-081.1170495</td>\n",
       "    </tr>\n",
       "    <tr>\n",
       "      <th>1</th>\n",
       "      <td>635519741001985764</td>\n",
       "      <td>44.46062</td>\n",
       "      <td>-109.49870</td>\n",
       "      <td>POINT (-109.49870 44.46062)</td>\n",
       "      <td>22397</td>\n",
       "      <td>82414</td>\n",
       "      <td>82414</td>\n",
       "      <td>B5</td>\n",
       "      <td>G6350</td>\n",
       "      <td>S</td>\n",
       "      <td>7301687089</td>\n",
       "      <td>42106481</td>\n",
       "      <td>+44.4923865</td>\n",
       "      <td>-109.5935975</td>\n",
       "    </tr>\n",
       "    <tr>\n",
       "      <th>2</th>\n",
       "      <td>50490291</td>\n",
       "      <td>34.93313</td>\n",
       "      <td>-84.01243</td>\n",
       "      <td>POINT (-84.01243 34.93313)</td>\n",
       "      <td>6719</td>\n",
       "      <td>30512</td>\n",
       "      <td>30512</td>\n",
       "      <td>B5</td>\n",
       "      <td>G6350</td>\n",
       "      <td>S</td>\n",
       "      <td>575285621</td>\n",
       "      <td>17537520</td>\n",
       "      <td>+34.8567531</td>\n",
       "      <td>-083.9679983</td>\n",
       "    </tr>\n",
       "    <tr>\n",
       "      <th>3</th>\n",
       "      <td>40991125</td>\n",
       "      <td>35.68081</td>\n",
       "      <td>-105.92927</td>\n",
       "      <td>POINT (-105.92927 35.68081)</td>\n",
       "      <td>7353</td>\n",
       "      <td>87501</td>\n",
       "      <td>87501</td>\n",
       "      <td>B5</td>\n",
       "      <td>G6350</td>\n",
       "      <td>S</td>\n",
       "      <td>206592367</td>\n",
       "      <td>189434</td>\n",
       "      <td>+35.7441365</td>\n",
       "      <td>-105.8568094</td>\n",
       "    </tr>\n",
       "    <tr>\n",
       "      <th>4</th>\n",
       "      <td>52090522</td>\n",
       "      <td>35.47187</td>\n",
       "      <td>-82.97092</td>\n",
       "      <td>POINT (-82.97092 35.47187)</td>\n",
       "      <td>18768</td>\n",
       "      <td>28786</td>\n",
       "      <td>28786</td>\n",
       "      <td>B5</td>\n",
       "      <td>G6350</td>\n",
       "      <td>S</td>\n",
       "      <td>192725533</td>\n",
       "      <td>207589</td>\n",
       "      <td>+35.4620050</td>\n",
       "      <td>-082.9890680</td>\n",
       "    </tr>\n",
       "  </tbody>\n",
       "</table>\n",
       "</div>"
      ],
      "text/plain": [
       "                   id  latitude  longitude                     geometry  \\\n",
       "0            35575312  37.97405  -81.15124   POINT (-81.15124 37.97405)   \n",
       "1  635519741001985764  44.46062 -109.49870  POINT (-109.49870 44.46062)   \n",
       "2            50490291  34.93313  -84.01243   POINT (-84.01243 34.93313)   \n",
       "3            40991125  35.68081 -105.92927  POINT (-105.92927 35.68081)   \n",
       "4            52090522  35.47187  -82.97092   POINT (-82.97092 35.47187)   \n",
       "\n",
       "   index_right ZCTA5CE10 GEOID10 CLASSFP10 MTFCC10 FUNCSTAT10     ALAND10  \\\n",
       "0         7248     25901   25901        B5   G6350          S    85074437   \n",
       "1        22397     82414   82414        B5   G6350          S  7301687089   \n",
       "2         6719     30512   30512        B5   G6350          S   575285621   \n",
       "3         7353     87501   87501        B5   G6350          S   206592367   \n",
       "4        18768     28786   28786        B5   G6350          S   192725533   \n",
       "\n",
       "   AWATER10   INTPTLAT10    INTPTLON10  \n",
       "0   1005413  +37.9507017  -081.1170495  \n",
       "1  42106481  +44.4923865  -109.5935975  \n",
       "2  17537520  +34.8567531  -083.9679983  \n",
       "3    189434  +35.7441365  -105.8568094  \n",
       "4    207589  +35.4620050  -082.9890680  "
      ]
     },
     "execution_count": 132,
     "metadata": {},
     "output_type": "execute_result"
    }
   ],
   "source": [
    "df_with_zips.head()"
   ]
  },
  {
   "cell_type": "code",
   "execution_count": 133,
   "metadata": {
    "id": "K0t9CRyk0Jc4"
   },
   "outputs": [],
   "source": [
    "df_with_zips=df_with_zips[['id','ZCTA5CE10']]\n",
    "df_with_zips.columns=['id','ZipCode']"
   ]
  },
  {
   "cell_type": "code",
   "execution_count": 134,
   "metadata": {
    "colab": {
     "base_uri": "https://localhost:8080/",
     "height": 206
    },
    "executionInfo": {
     "elapsed": 49,
     "status": "ok",
     "timestamp": 1669600232846,
     "user": {
      "displayName": "Adwaith Ajith Menon",
      "userId": "12906361836071324171"
     },
     "user_tz": 300
    },
    "id": "0yHyFuMEAFnz",
    "outputId": "c2d7fde8-ec5a-4843-bc20-2349ff89d240"
   },
   "outputs": [
    {
     "data": {
      "text/html": [
       "<div>\n",
       "<style scoped>\n",
       "    .dataframe tbody tr th:only-of-type {\n",
       "        vertical-align: middle;\n",
       "    }\n",
       "\n",
       "    .dataframe tbody tr th {\n",
       "        vertical-align: top;\n",
       "    }\n",
       "\n",
       "    .dataframe thead th {\n",
       "        text-align: right;\n",
       "    }\n",
       "</style>\n",
       "<table border=\"1\" class=\"dataframe\">\n",
       "  <thead>\n",
       "    <tr style=\"text-align: right;\">\n",
       "      <th></th>\n",
       "      <th>id</th>\n",
       "      <th>ZipCode</th>\n",
       "    </tr>\n",
       "  </thead>\n",
       "  <tbody>\n",
       "    <tr>\n",
       "      <th>0</th>\n",
       "      <td>35575312</td>\n",
       "      <td>25901</td>\n",
       "    </tr>\n",
       "    <tr>\n",
       "      <th>1</th>\n",
       "      <td>635519741001985764</td>\n",
       "      <td>82414</td>\n",
       "    </tr>\n",
       "    <tr>\n",
       "      <th>2</th>\n",
       "      <td>50490291</td>\n",
       "      <td>30512</td>\n",
       "    </tr>\n",
       "    <tr>\n",
       "      <th>3</th>\n",
       "      <td>40991125</td>\n",
       "      <td>87501</td>\n",
       "    </tr>\n",
       "    <tr>\n",
       "      <th>4</th>\n",
       "      <td>52090522</td>\n",
       "      <td>28786</td>\n",
       "    </tr>\n",
       "  </tbody>\n",
       "</table>\n",
       "</div>"
      ],
      "text/plain": [
       "                   id ZipCode\n",
       "0            35575312   25901\n",
       "1  635519741001985764   82414\n",
       "2            50490291   30512\n",
       "3            40991125   87501\n",
       "4            52090522   28786"
      ]
     },
     "execution_count": 134,
     "metadata": {},
     "output_type": "execute_result"
    }
   ],
   "source": [
    "df_with_zips.head()"
   ]
  },
  {
   "cell_type": "code",
   "execution_count": 135,
   "metadata": {
    "colab": {
     "base_uri": "https://localhost:8080/"
    },
    "executionInfo": {
     "elapsed": 47,
     "status": "ok",
     "timestamp": 1669600232847,
     "user": {
      "displayName": "Adwaith Ajith Menon",
      "userId": "12906361836071324171"
     },
     "user_tz": 300
    },
    "id": "W4ynCNyGz-37",
    "outputId": "20e67872-9668-484d-9702-fb026faa4995"
   },
   "outputs": [
    {
     "data": {
      "text/plain": [
       "(1243827, 2)"
      ]
     },
     "execution_count": 135,
     "metadata": {},
     "output_type": "execute_result"
    }
   ],
   "source": [
    "df_with_zips.shape"
   ]
  },
  {
   "cell_type": "markdown",
   "metadata": {
    "id": "fXniFor29aOx"
   },
   "source": [
    "### **5.1 Adding Zip Codes to the DataFrame**"
   ]
  },
  {
   "cell_type": "code",
   "execution_count": 136,
   "metadata": {
    "id": "hcF0ypVA0nSV"
   },
   "outputs": [],
   "source": [
    "df=pd.merge(df,df_with_zips,on='id',how='left')"
   ]
  },
  {
   "cell_type": "code",
   "execution_count": 137,
   "metadata": {
    "colab": {
     "base_uri": "https://localhost:8080/"
    },
    "executionInfo": {
     "elapsed": 131,
     "status": "ok",
     "timestamp": 1669600234531,
     "user": {
      "displayName": "Adwaith Ajith Menon",
      "userId": "12906361836071324171"
     },
     "user_tz": 300
    },
    "id": "vCTdobbfM1it",
    "outputId": "f9a4fe90-3d5b-45e9-ed72-7c1838eb8416"
   },
   "outputs": [
    {
     "data": {
      "text/plain": [
       "id\n",
       "7729074               2\n",
       "663068861954821831    2\n",
       "35575312              1\n",
       "53584071              1\n",
       "47581518              1\n",
       "                     ..\n",
       "44463986              1\n",
       "44268442              1\n",
       "17640256              1\n",
       "582639942520681943    1\n",
       "50170556              1\n",
       "Name: count, Length: 1252866, dtype: int64"
      ]
     },
     "execution_count": 137,
     "metadata": {},
     "output_type": "execute_result"
    }
   ],
   "source": [
    "df['id'].value_counts()"
   ]
  },
  {
   "cell_type": "markdown",
   "metadata": {
    "id": "1uAV5cNqSI06"
   },
   "source": [
    "**After merging, we can see that there are duplicate records corresponding to certain ids.**"
   ]
  },
  {
   "cell_type": "code",
   "execution_count": 138,
   "metadata": {
    "id": "wIPM4X32M4FY"
   },
   "outputs": [],
   "source": [
    "# Dropping Duplicate Records\n",
    "df=df.drop_duplicates(subset=['id'], keep='last')"
   ]
  },
  {
   "cell_type": "code",
   "execution_count": 139,
   "metadata": {
    "colab": {
     "base_uri": "https://localhost:8080/"
    },
    "executionInfo": {
     "elapsed": 750,
     "status": "ok",
     "timestamp": 1669600235867,
     "user": {
      "displayName": "Adwaith Ajith Menon",
      "userId": "12906361836071324171"
     },
     "user_tz": 300
    },
    "id": "Mex_tTr-4JDQ",
    "outputId": "fe306ed7-9d79-4551-b827-405c5ea430fc"
   },
   "outputs": [
    {
     "name": "stdout",
     "output_type": "stream",
     "text": [
      "<class 'pandas.core.frame.DataFrame'>\n",
      "Index: 1252866 entries, 0 to 1252867\n",
      "Data columns (total 36 columns):\n",
      " #   Column                                        Non-Null Count    Dtype  \n",
      "---  ------                                        --------------    -----  \n",
      " 0   id                                            1252866 non-null  int64  \n",
      " 1   host_id                                       1252866 non-null  int64  \n",
      " 2   host_name                                     1245116 non-null  object \n",
      " 3   host_since                                    1245117 non-null  object \n",
      " 4   host_location                                 1242849 non-null  object \n",
      " 5   host_identity_verified                        1245117 non-null  object \n",
      " 6   latitude                                      1252866 non-null  float64\n",
      " 7   longitude                                     1252866 non-null  float64\n",
      " 8   property_type                                 1252866 non-null  object \n",
      " 9   room_type                                     1252866 non-null  object \n",
      " 10  accommodates                                  1252866 non-null  int64  \n",
      " 11  bedrooms                                      1252866 non-null  float64\n",
      " 12  beds                                          1252866 non-null  float64\n",
      " 13  price                                         1252866 non-null  float64\n",
      " 14  minimum_nights                                1252866 non-null  int64  \n",
      " 15  maximum_nights                                1252866 non-null  int64  \n",
      " 16  number_of_reviews                             1252866 non-null  int64  \n",
      " 17  number_of_reviews_ltm                         1252866 non-null  int64  \n",
      " 18  number_of_reviews_l30d                        1252866 non-null  int64  \n",
      " 19  review_scores_rating                          1047712 non-null  float64\n",
      " 20  instant_bookable                              1252866 non-null  object \n",
      " 21  calculated_host_listings_count                1252866 non-null  int64  \n",
      " 22  calculated_host_listings_count_entire_homes   1252866 non-null  int64  \n",
      " 23  calculated_host_listings_count_private_rooms  1252866 non-null  int64  \n",
      " 24  calculated_host_listings_count_shared_rooms   1252866 non-null  int64  \n",
      " 25  region_name                                   1252866 non-null  object \n",
      " 26  region_parent_name                            1252866 non-null  object \n",
      " 27  reviews_per_month                             1047712 non-null  float64\n",
      " 28  with_license                                  1252866 non-null  int64  \n",
      " 29  STR_vs_LTR                                    1252866 non-null  object \n",
      " 30  estimated_booking_ltm                         1252866 non-null  int64  \n",
      " 31  estimated_nights_ltm                          1252866 non-null  int64  \n",
      " 32  estimated_revenue_ltm                         1252866 non-null  float64\n",
      " 33  Frequency_of_renting                          1252866 non-null  object \n",
      " 34  Commercial_Nature                             1252866 non-null  object \n",
      " 35  ZipCode                                       1243825 non-null  object \n",
      "dtypes: float64(8), int64(15), object(13)\n",
      "memory usage: 353.7+ MB\n"
     ]
    }
   ],
   "source": [
    "df.info()"
   ]
  },
  {
   "cell_type": "code",
   "execution_count": 140,
   "metadata": {
    "colab": {
     "base_uri": "https://localhost:8080/"
    },
    "executionInfo": {
     "elapsed": 15,
     "status": "ok",
     "timestamp": 1669600235869,
     "user": {
      "displayName": "Adwaith Ajith Menon",
      "userId": "12906361836071324171"
     },
     "user_tz": 300
    },
    "id": "cYrU0dCb4XPs",
    "outputId": "5f13653c-6a33-4890-bacd-f7239d79762c"
   },
   "outputs": [
    {
     "data": {
      "text/plain": [
       "9041"
      ]
     },
     "execution_count": 140,
     "metadata": {},
     "output_type": "execute_result"
    }
   ],
   "source": [
    "# Number of Missing Values for Zip Codes\n",
    "df['ZipCode'].isna().sum()"
   ]
  },
  {
   "cell_type": "markdown",
   "metadata": {
    "id": "ojLf7na_9sGS"
   },
   "source": [
    "### **5.2 Adding a New Column 'City' to the DataFrame**"
   ]
  },
  {
   "cell_type": "code",
   "execution_count": 141,
   "metadata": {
    "id": "VDDQJrBAXZ2m"
   },
   "outputs": [],
   "source": [
    "df['ZipCode'] = df['ZipCode'].fillna(0).astype(int)"
   ]
  },
  {
   "cell_type": "code",
   "execution_count": 142,
   "metadata": {
    "id": "0_B17ZcTXsGo"
   },
   "outputs": [],
   "source": [
    "# Reading the CSV file with 'City' & 'Zip_Code' data \n",
    "df1 = pd.read_csv('input/City.csv')"
   ]
  },
  {
   "cell_type": "code",
   "execution_count": 143,
   "metadata": {
    "colab": {
     "base_uri": "https://localhost:8080/",
     "height": 206
    },
    "executionInfo": {
     "elapsed": 10,
     "status": "ok",
     "timestamp": 1669600236865,
     "user": {
      "displayName": "Adwaith Ajith Menon",
      "userId": "12906361836071324171"
     },
     "user_tz": 300
    },
    "id": "CwmRGDrqTCf6",
    "outputId": "1bf168c9-d9e3-471d-c6a9-9000120c9a0f"
   },
   "outputs": [
    {
     "data": {
      "text/html": [
       "<div>\n",
       "<style scoped>\n",
       "    .dataframe tbody tr th:only-of-type {\n",
       "        vertical-align: middle;\n",
       "    }\n",
       "\n",
       "    .dataframe tbody tr th {\n",
       "        vertical-align: top;\n",
       "    }\n",
       "\n",
       "    .dataframe thead th {\n",
       "        text-align: right;\n",
       "    }\n",
       "</style>\n",
       "<table border=\"1\" class=\"dataframe\">\n",
       "  <thead>\n",
       "    <tr style=\"text-align: right;\">\n",
       "      <th></th>\n",
       "      <th>Zip_Code</th>\n",
       "      <th>City</th>\n",
       "    </tr>\n",
       "  </thead>\n",
       "  <tbody>\n",
       "    <tr>\n",
       "      <th>0</th>\n",
       "      <td>58784</td>\n",
       "      <td>Stanley</td>\n",
       "    </tr>\n",
       "    <tr>\n",
       "      <th>1</th>\n",
       "      <td>59029</td>\n",
       "      <td>Fromberg</td>\n",
       "    </tr>\n",
       "    <tr>\n",
       "      <th>2</th>\n",
       "      <td>59047</td>\n",
       "      <td>Livingston</td>\n",
       "    </tr>\n",
       "    <tr>\n",
       "      <th>3</th>\n",
       "      <td>59072</td>\n",
       "      <td>Roundup</td>\n",
       "    </tr>\n",
       "    <tr>\n",
       "      <th>4</th>\n",
       "      <td>59106</td>\n",
       "      <td>Billings</td>\n",
       "    </tr>\n",
       "  </tbody>\n",
       "</table>\n",
       "</div>"
      ],
      "text/plain": [
       "   Zip_Code        City\n",
       "0     58784     Stanley\n",
       "1     59029    Fromberg\n",
       "2     59047  Livingston\n",
       "3     59072     Roundup\n",
       "4     59106    Billings"
      ]
     },
     "execution_count": 143,
     "metadata": {},
     "output_type": "execute_result"
    }
   ],
   "source": [
    "df1.head()"
   ]
  },
  {
   "cell_type": "code",
   "execution_count": 144,
   "metadata": {
    "id": "TjQEOxVJgvJ1"
   },
   "outputs": [],
   "source": [
    "# Renaming the Columns\n",
    "df1.columns=['ZipCode', 'City']"
   ]
  },
  {
   "cell_type": "code",
   "execution_count": 145,
   "metadata": {
    "id": "u24sFrZnYHFa"
   },
   "outputs": [],
   "source": [
    "df1['ZipCode'] = df1['ZipCode'].fillna(0).astype(int)"
   ]
  },
  {
   "cell_type": "code",
   "execution_count": 146,
   "metadata": {
    "id": "OpuYF8WxYTCh"
   },
   "outputs": [],
   "source": [
    "df_final = df.set_index('ZipCode').join(df1.set_index('ZipCode'))"
   ]
  },
  {
   "cell_type": "code",
   "execution_count": 147,
   "metadata": {
    "id": "aFREzfL8Z8yn"
   },
   "outputs": [],
   "source": [
    "df_final.reset_index(inplace=True)"
   ]
  },
  {
   "cell_type": "code",
   "execution_count": 148,
   "metadata": {
    "colab": {
     "base_uri": "https://localhost:8080/"
    },
    "executionInfo": {
     "elapsed": 155,
     "status": "ok",
     "timestamp": 1669600238241,
     "user": {
      "displayName": "Adwaith Ajith Menon",
      "userId": "12906361836071324171"
     },
     "user_tz": 300
    },
    "id": "4ipfbnthYWjz",
    "outputId": "7a03ac2c-5c0e-45d2-dd44-88913f4234c0"
   },
   "outputs": [
    {
     "data": {
      "text/plain": [
       "ZipCode\n",
       "0        9041\n",
       "98205       9\n",
       "83601       2\n",
       "54934       1\n",
       "84144       1\n",
       "20307       1\n",
       "Name: count, dtype: int64"
      ]
     },
     "execution_count": 148,
     "metadata": {},
     "output_type": "execute_result"
    }
   ],
   "source": [
    "df_final['ZipCode'][df_final['City'].isna()==1].value_counts()"
   ]
  },
  {
   "cell_type": "markdown",
   "metadata": {
    "id": "yeiLUlw8UPlG"
   },
   "source": [
    "**Apart from the rows with Null Values for Zip_Codes (9041 Rows), there are certain other rows for which 'City' Data is not available despite having the Zip Codes.**"
   ]
  },
  {
   "cell_type": "code",
   "execution_count": 149,
   "metadata": {
    "colab": {
     "base_uri": "https://localhost:8080/"
    },
    "executionInfo": {
     "elapsed": 8,
     "status": "ok",
     "timestamp": 1669600238243,
     "user": {
      "displayName": "Adwaith Ajith Menon",
      "userId": "12906361836071324171"
     },
     "user_tz": 300
    },
    "id": "gNz42zYFJX0q",
    "outputId": "b7889383-e283-41ac-baa4-b3249fc7b26a"
   },
   "outputs": [
    {
     "name": "stderr",
     "output_type": "stream",
     "text": [
      "/var/folders/15/sz9sykc94dbgsj57ltpdvw4m0000gn/T/ipykernel_55978/2802197075.py:2: FutureWarning: ChainedAssignmentError: behaviour will change in pandas 3.0!\n",
      "You are setting values through chained assignment. Currently this works in certain cases, but when using Copy-on-Write (which will become the default behaviour in pandas 3.0) this will never work to update the original DataFrame or Series, because the intermediate object on which we are setting values will behave as a copy.\n",
      "A typical example is when you are setting values in a column of a DataFrame, like:\n",
      "\n",
      "df[\"col\"][row_indexer] = value\n",
      "\n",
      "Use `df.loc[row_indexer, \"col\"] = values` instead, to perform the assignment in a single step and ensure this keeps updating the original `df`.\n",
      "\n",
      "See the caveats in the documentation: https://pandas.pydata.org/pandas-docs/stable/user_guide/indexing.html#returning-a-view-versus-a-copy\n",
      "\n",
      "  df_final['City'][df_final['ZipCode']==98205]='Everett'\n",
      "/var/folders/15/sz9sykc94dbgsj57ltpdvw4m0000gn/T/ipykernel_55978/2802197075.py:2: SettingWithCopyWarning: \n",
      "A value is trying to be set on a copy of a slice from a DataFrame\n",
      "\n",
      "See the caveats in the documentation: https://pandas.pydata.org/pandas-docs/stable/user_guide/indexing.html#returning-a-view-versus-a-copy\n",
      "  df_final['City'][df_final['ZipCode']==98205]='Everett'\n",
      "/var/folders/15/sz9sykc94dbgsj57ltpdvw4m0000gn/T/ipykernel_55978/2802197075.py:3: FutureWarning: ChainedAssignmentError: behaviour will change in pandas 3.0!\n",
      "You are setting values through chained assignment. Currently this works in certain cases, but when using Copy-on-Write (which will become the default behaviour in pandas 3.0) this will never work to update the original DataFrame or Series, because the intermediate object on which we are setting values will behave as a copy.\n",
      "A typical example is when you are setting values in a column of a DataFrame, like:\n",
      "\n",
      "df[\"col\"][row_indexer] = value\n",
      "\n",
      "Use `df.loc[row_indexer, \"col\"] = values` instead, to perform the assignment in a single step and ensure this keeps updating the original `df`.\n",
      "\n",
      "See the caveats in the documentation: https://pandas.pydata.org/pandas-docs/stable/user_guide/indexing.html#returning-a-view-versus-a-copy\n",
      "\n",
      "  df_final['City'][df_final['ZipCode']==20307]='Washington'\n",
      "/var/folders/15/sz9sykc94dbgsj57ltpdvw4m0000gn/T/ipykernel_55978/2802197075.py:3: SettingWithCopyWarning: \n",
      "A value is trying to be set on a copy of a slice from a DataFrame\n",
      "\n",
      "See the caveats in the documentation: https://pandas.pydata.org/pandas-docs/stable/user_guide/indexing.html#returning-a-view-versus-a-copy\n",
      "  df_final['City'][df_final['ZipCode']==20307]='Washington'\n",
      "/var/folders/15/sz9sykc94dbgsj57ltpdvw4m0000gn/T/ipykernel_55978/2802197075.py:4: FutureWarning: ChainedAssignmentError: behaviour will change in pandas 3.0!\n",
      "You are setting values through chained assignment. Currently this works in certain cases, but when using Copy-on-Write (which will become the default behaviour in pandas 3.0) this will never work to update the original DataFrame or Series, because the intermediate object on which we are setting values will behave as a copy.\n",
      "A typical example is when you are setting values in a column of a DataFrame, like:\n",
      "\n",
      "df[\"col\"][row_indexer] = value\n",
      "\n",
      "Use `df.loc[row_indexer, \"col\"] = values` instead, to perform the assignment in a single step and ensure this keeps updating the original `df`.\n",
      "\n",
      "See the caveats in the documentation: https://pandas.pydata.org/pandas-docs/stable/user_guide/indexing.html#returning-a-view-versus-a-copy\n",
      "\n",
      "  df_final['City'][df_final['ZipCode']==54934]='Eureka'\n",
      "/var/folders/15/sz9sykc94dbgsj57ltpdvw4m0000gn/T/ipykernel_55978/2802197075.py:4: SettingWithCopyWarning: \n",
      "A value is trying to be set on a copy of a slice from a DataFrame\n",
      "\n",
      "See the caveats in the documentation: https://pandas.pydata.org/pandas-docs/stable/user_guide/indexing.html#returning-a-view-versus-a-copy\n",
      "  df_final['City'][df_final['ZipCode']==54934]='Eureka'\n",
      "/var/folders/15/sz9sykc94dbgsj57ltpdvw4m0000gn/T/ipykernel_55978/2802197075.py:5: FutureWarning: ChainedAssignmentError: behaviour will change in pandas 3.0!\n",
      "You are setting values through chained assignment. Currently this works in certain cases, but when using Copy-on-Write (which will become the default behaviour in pandas 3.0) this will never work to update the original DataFrame or Series, because the intermediate object on which we are setting values will behave as a copy.\n",
      "A typical example is when you are setting values in a column of a DataFrame, like:\n",
      "\n",
      "df[\"col\"][row_indexer] = value\n",
      "\n",
      "Use `df.loc[row_indexer, \"col\"] = values` instead, to perform the assignment in a single step and ensure this keeps updating the original `df`.\n",
      "\n",
      "See the caveats in the documentation: https://pandas.pydata.org/pandas-docs/stable/user_guide/indexing.html#returning-a-view-versus-a-copy\n",
      "\n",
      "  df_final['City'][df_final['ZipCode']==83601]='Atlanta'\n",
      "/var/folders/15/sz9sykc94dbgsj57ltpdvw4m0000gn/T/ipykernel_55978/2802197075.py:5: SettingWithCopyWarning: \n",
      "A value is trying to be set on a copy of a slice from a DataFrame\n",
      "\n",
      "See the caveats in the documentation: https://pandas.pydata.org/pandas-docs/stable/user_guide/indexing.html#returning-a-view-versus-a-copy\n",
      "  df_final['City'][df_final['ZipCode']==83601]='Atlanta'\n",
      "/var/folders/15/sz9sykc94dbgsj57ltpdvw4m0000gn/T/ipykernel_55978/2802197075.py:6: FutureWarning: ChainedAssignmentError: behaviour will change in pandas 3.0!\n",
      "You are setting values through chained assignment. Currently this works in certain cases, but when using Copy-on-Write (which will become the default behaviour in pandas 3.0) this will never work to update the original DataFrame or Series, because the intermediate object on which we are setting values will behave as a copy.\n",
      "A typical example is when you are setting values in a column of a DataFrame, like:\n",
      "\n",
      "df[\"col\"][row_indexer] = value\n",
      "\n",
      "Use `df.loc[row_indexer, \"col\"] = values` instead, to perform the assignment in a single step and ensure this keeps updating the original `df`.\n",
      "\n",
      "See the caveats in the documentation: https://pandas.pydata.org/pandas-docs/stable/user_guide/indexing.html#returning-a-view-versus-a-copy\n",
      "\n",
      "  df_final['City'][df_final['ZipCode']==84144]='Salt Lake City'\n",
      "/var/folders/15/sz9sykc94dbgsj57ltpdvw4m0000gn/T/ipykernel_55978/2802197075.py:6: SettingWithCopyWarning: \n",
      "A value is trying to be set on a copy of a slice from a DataFrame\n",
      "\n",
      "See the caveats in the documentation: https://pandas.pydata.org/pandas-docs/stable/user_guide/indexing.html#returning-a-view-versus-a-copy\n",
      "  df_final['City'][df_final['ZipCode']==84144]='Salt Lake City'\n"
     ]
    }
   ],
   "source": [
    "# Adding 'City' data for listings where 'City' data is not available despite having Zip Codes\n",
    "df_final['City'][df_final['ZipCode']==98205]='Everett'\n",
    "df_final['City'][df_final['ZipCode']==20307]='Washington'\n",
    "df_final['City'][df_final['ZipCode']==54934]='Eureka'\n",
    "df_final['City'][df_final['ZipCode']==83601]='Atlanta'\n",
    "df_final['City'][df_final['ZipCode']==84144]='Salt Lake City'"
   ]
  },
  {
   "cell_type": "code",
   "execution_count": 150,
   "metadata": {
    "id": "PA0Lb3Q3Qp98"
   },
   "outputs": [],
   "source": [
    "# Renaming the 'Zip_Code' column\n",
    "df_final = df_final.rename(columns={'ZipCode': 'Zip Code'})"
   ]
  },
  {
   "cell_type": "markdown",
   "metadata": {
    "id": "7CQay0VrQ2b8"
   },
   "source": [
    "## **6. Renaming Geographical Hierarchies**"
   ]
  },
  {
   "cell_type": "code",
   "execution_count": 151,
   "metadata": {
    "id": "Z3xEGbQAZA_N"
   },
   "outputs": [],
   "source": [
    "df_final = df_final.rename(columns={'region_parent_name': 'Region/State', 'region_name': 'Province/County'})"
   ]
  },
  {
   "cell_type": "code",
   "execution_count": 152,
   "metadata": {
    "colab": {
     "base_uri": "https://localhost:8080/"
    },
    "executionInfo": {
     "elapsed": 7,
     "status": "ok",
     "timestamp": 1669600239173,
     "user": {
      "displayName": "Adwaith Ajith Menon",
      "userId": "12906361836071324171"
     },
     "user_tz": 300
    },
    "id": "m17K9IAgWFiM",
    "outputId": "ef0d1035-ed24-45e1-9c45-7584a49f0277"
   },
   "outputs": [
    {
     "data": {
      "text/plain": [
       "Index(['Zip Code', 'id', 'host_id', 'host_name', 'host_since', 'host_location',\n",
       "       'host_identity_verified', 'latitude', 'longitude', 'property_type',\n",
       "       'room_type', 'accommodates', 'bedrooms', 'beds', 'price',\n",
       "       'minimum_nights', 'maximum_nights', 'number_of_reviews',\n",
       "       'number_of_reviews_ltm', 'number_of_reviews_l30d',\n",
       "       'review_scores_rating', 'instant_bookable',\n",
       "       'calculated_host_listings_count',\n",
       "       'calculated_host_listings_count_entire_homes',\n",
       "       'calculated_host_listings_count_private_rooms',\n",
       "       'calculated_host_listings_count_shared_rooms', 'Province/County',\n",
       "       'Region/State', 'reviews_per_month', 'with_license', 'STR_vs_LTR',\n",
       "       'estimated_booking_ltm', 'estimated_nights_ltm',\n",
       "       'estimated_revenue_ltm', 'Frequency_of_renting', 'Commercial_Nature',\n",
       "       'City'],\n",
       "      dtype='object')"
      ]
     },
     "execution_count": 152,
     "metadata": {},
     "output_type": "execute_result"
    }
   ],
   "source": [
    "df_final.columns"
   ]
  },
  {
   "cell_type": "markdown",
   "metadata": {
    "id": "hJK4WsSchxRM"
   },
   "source": [
    "## **7. Adding 'Licensed_5' & 'Licensed_10' variables to show which listings are licensed (based on 5% & 10% Thresholds for Licensing Requirements)**"
   ]
  },
  {
   "cell_type": "code",
   "execution_count": 153,
   "metadata": {
    "id": "0g_J0dhpmL9g"
   },
   "outputs": [],
   "source": [
    "df_c_1=pd.DataFrame(df_final.groupby(['Region/State','City']).with_license.sum())"
   ]
  },
  {
   "cell_type": "code",
   "execution_count": 154,
   "metadata": {
    "id": "RUQD7_W1pEFX"
   },
   "outputs": [],
   "source": [
    "df_c_2=pd.DataFrame(df_final.groupby(['Region/State','City']).id.count())"
   ]
  },
  {
   "cell_type": "code",
   "execution_count": 155,
   "metadata": {
    "id": "2DA3yNzhuLkR"
   },
   "outputs": [],
   "source": [
    "df_c_3=pd.DataFrame(df_c_1.values/df_c_2.values)"
   ]
  },
  {
   "cell_type": "code",
   "execution_count": 156,
   "metadata": {
    "id": "U2aeBQxXuq55"
   },
   "outputs": [],
   "source": [
    "df_c_3.index=df_c_2.index\n",
    "df_c_3.columns=['Percentage_Licensed']"
   ]
  },
  {
   "cell_type": "code",
   "execution_count": 157,
   "metadata": {
    "colab": {
     "base_uri": "https://localhost:8080/"
    },
    "executionInfo": {
     "elapsed": 10,
     "status": "ok",
     "timestamp": 1669600239694,
     "user": {
      "displayName": "Adwaith Ajith Menon",
      "userId": "12906361836071324171"
     },
     "user_tz": 300
    },
    "id": "m-17Su61vdxL",
    "outputId": "fee93a5f-f464-4aa1-c2da-b8f484207149"
   },
   "outputs": [
    {
     "data": {
      "text/plain": [
       "(512, 1)"
      ]
     },
     "execution_count": 157,
     "metadata": {},
     "output_type": "execute_result"
    }
   ],
   "source": [
    "df_c_3[df_c_3['Percentage_Licensed']>0.05].shape"
   ]
  },
  {
   "cell_type": "code",
   "execution_count": 158,
   "metadata": {
    "id": "2u7hv2kcv8h_"
   },
   "outputs": [],
   "source": [
    "df_c_4=df_c_3.copy()\n",
    "df_c_4['requires_license_5']=np.where(df_c_4['Percentage_Licensed']>=0.05,1,0)\n",
    "df_c_4['requires_license_10']=np.where(df_c_4['Percentage_Licensed']>=0.1,1,0)"
   ]
  },
  {
   "cell_type": "code",
   "execution_count": 159,
   "metadata": {
    "id": "NMt2GMuUiTLi"
   },
   "outputs": [],
   "source": [
    "df_c_4.reset_index(inplace=True)"
   ]
  },
  {
   "cell_type": "code",
   "execution_count": 160,
   "metadata": {
    "colab": {
     "base_uri": "https://localhost:8080/",
     "height": 206
    },
    "executionInfo": {
     "elapsed": 10,
     "status": "ok",
     "timestamp": 1669600239696,
     "user": {
      "displayName": "Adwaith Ajith Menon",
      "userId": "12906361836071324171"
     },
     "user_tz": 300
    },
    "id": "4svC5J_BfDQk",
    "outputId": "7aceba1d-bf78-4854-ca66-2c4c3949a9b9"
   },
   "outputs": [
    {
     "data": {
      "text/html": [
       "<div>\n",
       "<style scoped>\n",
       "    .dataframe tbody tr th:only-of-type {\n",
       "        vertical-align: middle;\n",
       "    }\n",
       "\n",
       "    .dataframe tbody tr th {\n",
       "        vertical-align: top;\n",
       "    }\n",
       "\n",
       "    .dataframe thead th {\n",
       "        text-align: right;\n",
       "    }\n",
       "</style>\n",
       "<table border=\"1\" class=\"dataframe\">\n",
       "  <thead>\n",
       "    <tr style=\"text-align: right;\">\n",
       "      <th></th>\n",
       "      <th>Region/State</th>\n",
       "      <th>City</th>\n",
       "      <th>Percentage_Licensed</th>\n",
       "      <th>requires_license_5</th>\n",
       "      <th>requires_license_10</th>\n",
       "    </tr>\n",
       "  </thead>\n",
       "  <tbody>\n",
       "    <tr>\n",
       "      <th>0</th>\n",
       "      <td>Alabama</td>\n",
       "      <td>Abbeville</td>\n",
       "      <td>0.0</td>\n",
       "      <td>0</td>\n",
       "      <td>0</td>\n",
       "    </tr>\n",
       "    <tr>\n",
       "      <th>1</th>\n",
       "      <td>Alabama</td>\n",
       "      <td>Adamsville</td>\n",
       "      <td>0.0</td>\n",
       "      <td>0</td>\n",
       "      <td>0</td>\n",
       "    </tr>\n",
       "    <tr>\n",
       "      <th>2</th>\n",
       "      <td>Alabama</td>\n",
       "      <td>Akron</td>\n",
       "      <td>0.0</td>\n",
       "      <td>0</td>\n",
       "      <td>0</td>\n",
       "    </tr>\n",
       "    <tr>\n",
       "      <th>3</th>\n",
       "      <td>Alabama</td>\n",
       "      <td>Alabaster</td>\n",
       "      <td>0.0</td>\n",
       "      <td>0</td>\n",
       "      <td>0</td>\n",
       "    </tr>\n",
       "    <tr>\n",
       "      <th>4</th>\n",
       "      <td>Alabama</td>\n",
       "      <td>Albertville</td>\n",
       "      <td>0.0</td>\n",
       "      <td>0</td>\n",
       "      <td>0</td>\n",
       "    </tr>\n",
       "  </tbody>\n",
       "</table>\n",
       "</div>"
      ],
      "text/plain": [
       "  Region/State         City  Percentage_Licensed  requires_license_5  \\\n",
       "0      Alabama    Abbeville                  0.0                   0   \n",
       "1      Alabama   Adamsville                  0.0                   0   \n",
       "2      Alabama        Akron                  0.0                   0   \n",
       "3      Alabama    Alabaster                  0.0                   0   \n",
       "4      Alabama  Albertville                  0.0                   0   \n",
       "\n",
       "   requires_license_10  \n",
       "0                    0  \n",
       "1                    0  \n",
       "2                    0  \n",
       "3                    0  \n",
       "4                    0  "
      ]
     },
     "execution_count": 160,
     "metadata": {},
     "output_type": "execute_result"
    }
   ],
   "source": [
    "df_c_4.head()"
   ]
  },
  {
   "cell_type": "code",
   "execution_count": 161,
   "metadata": {
    "id": "Qya70o_ziHcP"
   },
   "outputs": [],
   "source": [
    "df_fin=df_final.set_index(['Region/State','City']).join(df_c_4.set_index(['Region/State','City']))"
   ]
  },
  {
   "cell_type": "code",
   "execution_count": 162,
   "metadata": {
    "id": "e8PQ70V6ie_R"
   },
   "outputs": [],
   "source": [
    "df_fin.reset_index(inplace=True)"
   ]
  },
  {
   "cell_type": "code",
   "execution_count": 163,
   "metadata": {
    "colab": {
     "base_uri": "https://localhost:8080/"
    },
    "executionInfo": {
     "elapsed": 1066,
     "status": "ok",
     "timestamp": 1669600242452,
     "user": {
      "displayName": "Adwaith Ajith Menon",
      "userId": "12906361836071324171"
     },
     "user_tz": 300
    },
    "id": "2zhYMV1DiiNr",
    "outputId": "8af8b97a-e0ee-4227-d29b-78fce731e418"
   },
   "outputs": [
    {
     "name": "stdout",
     "output_type": "stream",
     "text": [
      "<class 'pandas.core.frame.DataFrame'>\n",
      "RangeIndex: 1252866 entries, 0 to 1252865\n",
      "Data columns (total 40 columns):\n",
      " #   Column                                        Non-Null Count    Dtype  \n",
      "---  ------                                        --------------    -----  \n",
      " 0   Region/State                                  1252866 non-null  object \n",
      " 1   City                                          1243825 non-null  object \n",
      " 2   Zip Code                                      1252866 non-null  int64  \n",
      " 3   id                                            1252866 non-null  int64  \n",
      " 4   host_id                                       1252866 non-null  int64  \n",
      " 5   host_name                                     1245116 non-null  object \n",
      " 6   host_since                                    1245117 non-null  object \n",
      " 7   host_location                                 1242849 non-null  object \n",
      " 8   host_identity_verified                        1245117 non-null  object \n",
      " 9   latitude                                      1252866 non-null  float64\n",
      " 10  longitude                                     1252866 non-null  float64\n",
      " 11  property_type                                 1252866 non-null  object \n",
      " 12  room_type                                     1252866 non-null  object \n",
      " 13  accommodates                                  1252866 non-null  int64  \n",
      " 14  bedrooms                                      1252866 non-null  float64\n",
      " 15  beds                                          1252866 non-null  float64\n",
      " 16  price                                         1252866 non-null  float64\n",
      " 17  minimum_nights                                1252866 non-null  int64  \n",
      " 18  maximum_nights                                1252866 non-null  int64  \n",
      " 19  number_of_reviews                             1252866 non-null  int64  \n",
      " 20  number_of_reviews_ltm                         1252866 non-null  int64  \n",
      " 21  number_of_reviews_l30d                        1252866 non-null  int64  \n",
      " 22  review_scores_rating                          1047712 non-null  float64\n",
      " 23  instant_bookable                              1252866 non-null  object \n",
      " 24  calculated_host_listings_count                1252866 non-null  int64  \n",
      " 25  calculated_host_listings_count_entire_homes   1252866 non-null  int64  \n",
      " 26  calculated_host_listings_count_private_rooms  1252866 non-null  int64  \n",
      " 27  calculated_host_listings_count_shared_rooms   1252866 non-null  int64  \n",
      " 28  Province/County                               1252866 non-null  object \n",
      " 29  reviews_per_month                             1047712 non-null  float64\n",
      " 30  with_license                                  1252866 non-null  int64  \n",
      " 31  STR_vs_LTR                                    1252866 non-null  object \n",
      " 32  estimated_booking_ltm                         1252866 non-null  int64  \n",
      " 33  estimated_nights_ltm                          1252866 non-null  int64  \n",
      " 34  estimated_revenue_ltm                         1252866 non-null  float64\n",
      " 35  Frequency_of_renting                          1252866 non-null  object \n",
      " 36  Commercial_Nature                             1252866 non-null  object \n",
      " 37  Percentage_Licensed                           1243825 non-null  float64\n",
      " 38  requires_license_5                            1243825 non-null  float64\n",
      " 39  requires_license_10                           1243825 non-null  float64\n",
      "dtypes: float64(11), int64(16), object(13)\n",
      "memory usage: 382.3+ MB\n"
     ]
    }
   ],
   "source": [
    "df_fin.info()"
   ]
  },
  {
   "cell_type": "code",
   "execution_count": 164,
   "metadata": {
    "id": "q6SzIWtUjEae"
   },
   "outputs": [],
   "source": [
    "# For 5% Threshold\n",
    "df_fin.loc[(df_fin['with_license']==1),'licensed_5']=\"Licensed\"\n",
    "df_fin.loc[(df_fin['with_license']==0) & (df_fin['requires_license_5']==0),'licensed_5']=\"Exempt\"\n",
    "df_fin.loc[(df_fin['with_license']==0) & (df_fin['requires_license_5']==1),'licensed_5']=\"Unlicensed\""
   ]
  },
  {
   "cell_type": "code",
   "execution_count": 165,
   "metadata": {
    "id": "daODkx5DjhE5"
   },
   "outputs": [],
   "source": [
    "# For 10% Threshold\n",
    "df_fin.loc[(df_fin['with_license']==1),'licensed_10']=\"Licensed\"\n",
    "df_fin.loc[(df_fin['with_license']==0) & (df_fin['requires_license_10']==0),'licensed_10']=\"Exempt\"\n",
    "df_fin.loc[(df_fin['with_license']==0) & (df_fin['requires_license_10']==1),'licensed_10']=\"Unlicensed\""
   ]
  },
  {
   "cell_type": "code",
   "execution_count": 166,
   "metadata": {
    "colab": {
     "base_uri": "https://localhost:8080/"
    },
    "executionInfo": {
     "elapsed": 823,
     "status": "ok",
     "timestamp": 1669600243753,
     "user": {
      "displayName": "Adwaith Ajith Menon",
      "userId": "12906361836071324171"
     },
     "user_tz": 300
    },
    "id": "v0k7Eo5qjveE",
    "outputId": "04df0f6f-499a-4e4f-ff67-5c7c73a83917"
   },
   "outputs": [
    {
     "name": "stdout",
     "output_type": "stream",
     "text": [
      "<class 'pandas.core.frame.DataFrame'>\n",
      "RangeIndex: 1252866 entries, 0 to 1252865\n",
      "Data columns (total 42 columns):\n",
      " #   Column                                        Non-Null Count    Dtype  \n",
      "---  ------                                        --------------    -----  \n",
      " 0   Region/State                                  1252866 non-null  object \n",
      " 1   City                                          1243825 non-null  object \n",
      " 2   Zip Code                                      1252866 non-null  int64  \n",
      " 3   id                                            1252866 non-null  int64  \n",
      " 4   host_id                                       1252866 non-null  int64  \n",
      " 5   host_name                                     1245116 non-null  object \n",
      " 6   host_since                                    1245117 non-null  object \n",
      " 7   host_location                                 1242849 non-null  object \n",
      " 8   host_identity_verified                        1245117 non-null  object \n",
      " 9   latitude                                      1252866 non-null  float64\n",
      " 10  longitude                                     1252866 non-null  float64\n",
      " 11  property_type                                 1252866 non-null  object \n",
      " 12  room_type                                     1252866 non-null  object \n",
      " 13  accommodates                                  1252866 non-null  int64  \n",
      " 14  bedrooms                                      1252866 non-null  float64\n",
      " 15  beds                                          1252866 non-null  float64\n",
      " 16  price                                         1252866 non-null  float64\n",
      " 17  minimum_nights                                1252866 non-null  int64  \n",
      " 18  maximum_nights                                1252866 non-null  int64  \n",
      " 19  number_of_reviews                             1252866 non-null  int64  \n",
      " 20  number_of_reviews_ltm                         1252866 non-null  int64  \n",
      " 21  number_of_reviews_l30d                        1252866 non-null  int64  \n",
      " 22  review_scores_rating                          1047712 non-null  float64\n",
      " 23  instant_bookable                              1252866 non-null  object \n",
      " 24  calculated_host_listings_count                1252866 non-null  int64  \n",
      " 25  calculated_host_listings_count_entire_homes   1252866 non-null  int64  \n",
      " 26  calculated_host_listings_count_private_rooms  1252866 non-null  int64  \n",
      " 27  calculated_host_listings_count_shared_rooms   1252866 non-null  int64  \n",
      " 28  Province/County                               1252866 non-null  object \n",
      " 29  reviews_per_month                             1047712 non-null  float64\n",
      " 30  with_license                                  1252866 non-null  int64  \n",
      " 31  STR_vs_LTR                                    1252866 non-null  object \n",
      " 32  estimated_booking_ltm                         1252866 non-null  int64  \n",
      " 33  estimated_nights_ltm                          1252866 non-null  int64  \n",
      " 34  estimated_revenue_ltm                         1252866 non-null  float64\n",
      " 35  Frequency_of_renting                          1252866 non-null  object \n",
      " 36  Commercial_Nature                             1252866 non-null  object \n",
      " 37  Percentage_Licensed                           1243825 non-null  float64\n",
      " 38  requires_license_5                            1243825 non-null  float64\n",
      " 39  requires_license_10                           1243825 non-null  float64\n",
      " 40  licensed_5                                    1244129 non-null  object \n",
      " 41  licensed_10                                   1244129 non-null  object \n",
      "dtypes: float64(11), int64(16), object(15)\n",
      "memory usage: 401.5+ MB\n"
     ]
    }
   ],
   "source": [
    "df_fin.info()"
   ]
  },
  {
   "cell_type": "markdown",
   "metadata": {
    "id": "Jw9hIfN4XOLF"
   },
   "source": [
    "### **7.1 Adding a New Column 'Country' to the Dataset**"
   ]
  },
  {
   "cell_type": "code",
   "execution_count": 167,
   "metadata": {
    "id": "pJuVGFfA35UV"
   },
   "outputs": [],
   "source": [
    "df_fin['Country']=\"USA\""
   ]
  },
  {
   "cell_type": "code",
   "execution_count": 168,
   "metadata": {
    "colab": {
     "base_uri": "https://localhost:8080/",
     "height": 409
    },
    "executionInfo": {
     "elapsed": 11,
     "status": "ok",
     "timestamp": 1669600243754,
     "user": {
      "displayName": "Adwaith Ajith Menon",
      "userId": "12906361836071324171"
     },
     "user_tz": 300
    },
    "id": "JYPYVqG94IxB",
    "outputId": "93f582be-b151-4d17-fc40-218cb894aa96"
   },
   "outputs": [
    {
     "data": {
      "text/html": [
       "<div>\n",
       "<style scoped>\n",
       "    .dataframe tbody tr th:only-of-type {\n",
       "        vertical-align: middle;\n",
       "    }\n",
       "\n",
       "    .dataframe tbody tr th {\n",
       "        vertical-align: top;\n",
       "    }\n",
       "\n",
       "    .dataframe thead th {\n",
       "        text-align: right;\n",
       "    }\n",
       "</style>\n",
       "<table border=\"1\" class=\"dataframe\">\n",
       "  <thead>\n",
       "    <tr style=\"text-align: right;\">\n",
       "      <th></th>\n",
       "      <th>Region/State</th>\n",
       "      <th>City</th>\n",
       "      <th>Zip Code</th>\n",
       "      <th>id</th>\n",
       "      <th>host_id</th>\n",
       "      <th>host_name</th>\n",
       "      <th>host_since</th>\n",
       "      <th>host_location</th>\n",
       "      <th>host_identity_verified</th>\n",
       "      <th>latitude</th>\n",
       "      <th>longitude</th>\n",
       "      <th>property_type</th>\n",
       "      <th>room_type</th>\n",
       "      <th>accommodates</th>\n",
       "      <th>bedrooms</th>\n",
       "      <th>beds</th>\n",
       "      <th>price</th>\n",
       "      <th>minimum_nights</th>\n",
       "      <th>maximum_nights</th>\n",
       "      <th>number_of_reviews</th>\n",
       "      <th>number_of_reviews_ltm</th>\n",
       "      <th>number_of_reviews_l30d</th>\n",
       "      <th>review_scores_rating</th>\n",
       "      <th>instant_bookable</th>\n",
       "      <th>calculated_host_listings_count</th>\n",
       "      <th>calculated_host_listings_count_entire_homes</th>\n",
       "      <th>calculated_host_listings_count_private_rooms</th>\n",
       "      <th>calculated_host_listings_count_shared_rooms</th>\n",
       "      <th>Province/County</th>\n",
       "      <th>reviews_per_month</th>\n",
       "      <th>with_license</th>\n",
       "      <th>STR_vs_LTR</th>\n",
       "      <th>estimated_booking_ltm</th>\n",
       "      <th>estimated_nights_ltm</th>\n",
       "      <th>estimated_revenue_ltm</th>\n",
       "      <th>Frequency_of_renting</th>\n",
       "      <th>Commercial_Nature</th>\n",
       "      <th>Percentage_Licensed</th>\n",
       "      <th>requires_license_5</th>\n",
       "      <th>requires_license_10</th>\n",
       "      <th>licensed_5</th>\n",
       "      <th>licensed_10</th>\n",
       "      <th>Country</th>\n",
       "    </tr>\n",
       "  </thead>\n",
       "  <tbody>\n",
       "    <tr>\n",
       "      <th>0</th>\n",
       "      <td>West Virginia</td>\n",
       "      <td>Oak Hill</td>\n",
       "      <td>25901</td>\n",
       "      <td>35575312</td>\n",
       "      <td>60091041</td>\n",
       "      <td>Jeanne</td>\n",
       "      <td>2016-02-23</td>\n",
       "      <td>Murrells Inlet, South Carolina, United States</td>\n",
       "      <td>t</td>\n",
       "      <td>37.97405</td>\n",
       "      <td>-81.15124</td>\n",
       "      <td>Entire cottage</td>\n",
       "      <td>Entire home/apt</td>\n",
       "      <td>4</td>\n",
       "      <td>3.0</td>\n",
       "      <td>3.0</td>\n",
       "      <td>150.0</td>\n",
       "      <td>1</td>\n",
       "      <td>14</td>\n",
       "      <td>45</td>\n",
       "      <td>13</td>\n",
       "      <td>0</td>\n",
       "      <td>4.78</td>\n",
       "      <td>f</td>\n",
       "      <td>7</td>\n",
       "      <td>7</td>\n",
       "      <td>0</td>\n",
       "      <td>0</td>\n",
       "      <td>Fayette</td>\n",
       "      <td>1.33</td>\n",
       "      <td>0</td>\n",
       "      <td>STR</td>\n",
       "      <td>26</td>\n",
       "      <td>78</td>\n",
       "      <td>11700.0</td>\n",
       "      <td>semi_regularly rented</td>\n",
       "      <td>Commercial</td>\n",
       "      <td>0.000000</td>\n",
       "      <td>0.0</td>\n",
       "      <td>0.0</td>\n",
       "      <td>Exempt</td>\n",
       "      <td>Exempt</td>\n",
       "      <td>USA</td>\n",
       "    </tr>\n",
       "    <tr>\n",
       "      <th>1</th>\n",
       "      <td>Wyoming</td>\n",
       "      <td>Cody</td>\n",
       "      <td>82414</td>\n",
       "      <td>635519741001985764</td>\n",
       "      <td>80717299</td>\n",
       "      <td>Cody Lodging</td>\n",
       "      <td>2016-06-29</td>\n",
       "      <td>Cody, Wyoming, United States</td>\n",
       "      <td>t</td>\n",
       "      <td>44.46062</td>\n",
       "      <td>-109.49870</td>\n",
       "      <td>Entire home</td>\n",
       "      <td>Entire home/apt</td>\n",
       "      <td>6</td>\n",
       "      <td>3.0</td>\n",
       "      <td>3.0</td>\n",
       "      <td>513.0</td>\n",
       "      <td>1</td>\n",
       "      <td>365</td>\n",
       "      <td>0</td>\n",
       "      <td>0</td>\n",
       "      <td>0</td>\n",
       "      <td>NaN</td>\n",
       "      <td>t</td>\n",
       "      <td>79</td>\n",
       "      <td>78</td>\n",
       "      <td>1</td>\n",
       "      <td>0</td>\n",
       "      <td>Park</td>\n",
       "      <td>NaN</td>\n",
       "      <td>0</td>\n",
       "      <td>STR</td>\n",
       "      <td>0</td>\n",
       "      <td>0</td>\n",
       "      <td>0.0</td>\n",
       "      <td>occasionally rented</td>\n",
       "      <td>Commercial</td>\n",
       "      <td>0.000000</td>\n",
       "      <td>0.0</td>\n",
       "      <td>0.0</td>\n",
       "      <td>Exempt</td>\n",
       "      <td>Exempt</td>\n",
       "      <td>USA</td>\n",
       "    </tr>\n",
       "    <tr>\n",
       "      <th>2</th>\n",
       "      <td>Georgia</td>\n",
       "      <td>Blairsville</td>\n",
       "      <td>30512</td>\n",
       "      <td>50490291</td>\n",
       "      <td>22954841</td>\n",
       "      <td>Paul</td>\n",
       "      <td>2014-10-25</td>\n",
       "      <td>Blairsville, Georgia, United States</td>\n",
       "      <td>t</td>\n",
       "      <td>34.93313</td>\n",
       "      <td>-84.01243</td>\n",
       "      <td>Entire cabin</td>\n",
       "      <td>Entire home/apt</td>\n",
       "      <td>6</td>\n",
       "      <td>3.0</td>\n",
       "      <td>5.0</td>\n",
       "      <td>145.0</td>\n",
       "      <td>2</td>\n",
       "      <td>28</td>\n",
       "      <td>10</td>\n",
       "      <td>10</td>\n",
       "      <td>0</td>\n",
       "      <td>5.00</td>\n",
       "      <td>t</td>\n",
       "      <td>1</td>\n",
       "      <td>1</td>\n",
       "      <td>0</td>\n",
       "      <td>0</td>\n",
       "      <td>Union</td>\n",
       "      <td>0.84</td>\n",
       "      <td>0</td>\n",
       "      <td>STR</td>\n",
       "      <td>20</td>\n",
       "      <td>60</td>\n",
       "      <td>8700.0</td>\n",
       "      <td>semi_regularly rented</td>\n",
       "      <td>Semi-Commercial</td>\n",
       "      <td>0.000000</td>\n",
       "      <td>0.0</td>\n",
       "      <td>0.0</td>\n",
       "      <td>Exempt</td>\n",
       "      <td>Exempt</td>\n",
       "      <td>USA</td>\n",
       "    </tr>\n",
       "    <tr>\n",
       "      <th>3</th>\n",
       "      <td>New Mexico</td>\n",
       "      <td>Santa Fe</td>\n",
       "      <td>87501</td>\n",
       "      <td>40991125</td>\n",
       "      <td>212710788</td>\n",
       "      <td>Jessica</td>\n",
       "      <td>2018-08-30</td>\n",
       "      <td>Santa Fe, New Mexico, United States</td>\n",
       "      <td>t</td>\n",
       "      <td>35.68081</td>\n",
       "      <td>-105.92927</td>\n",
       "      <td>Entire home</td>\n",
       "      <td>Entire home/apt</td>\n",
       "      <td>2</td>\n",
       "      <td>1.0</td>\n",
       "      <td>1.0</td>\n",
       "      <td>196.0</td>\n",
       "      <td>2</td>\n",
       "      <td>7</td>\n",
       "      <td>19</td>\n",
       "      <td>9</td>\n",
       "      <td>3</td>\n",
       "      <td>4.89</td>\n",
       "      <td>f</td>\n",
       "      <td>2</td>\n",
       "      <td>2</td>\n",
       "      <td>0</td>\n",
       "      <td>0</td>\n",
       "      <td>Santa Fe</td>\n",
       "      <td>0.73</td>\n",
       "      <td>1</td>\n",
       "      <td>STR</td>\n",
       "      <td>18</td>\n",
       "      <td>54</td>\n",
       "      <td>10584.0</td>\n",
       "      <td>semi_regularly rented</td>\n",
       "      <td>Commercial</td>\n",
       "      <td>0.620345</td>\n",
       "      <td>1.0</td>\n",
       "      <td>1.0</td>\n",
       "      <td>Licensed</td>\n",
       "      <td>Licensed</td>\n",
       "      <td>USA</td>\n",
       "    </tr>\n",
       "    <tr>\n",
       "      <th>4</th>\n",
       "      <td>North Carolina</td>\n",
       "      <td>Waynesville</td>\n",
       "      <td>28786</td>\n",
       "      <td>52090522</td>\n",
       "      <td>119778179</td>\n",
       "      <td>Jessica</td>\n",
       "      <td>2017-03-08</td>\n",
       "      <td>Hendersonville, North Carolina, United States</td>\n",
       "      <td>f</td>\n",
       "      <td>35.47187</td>\n",
       "      <td>-82.97092</td>\n",
       "      <td>Entire guesthouse</td>\n",
       "      <td>Entire home/apt</td>\n",
       "      <td>2</td>\n",
       "      <td>1.0</td>\n",
       "      <td>1.0</td>\n",
       "      <td>120.0</td>\n",
       "      <td>2</td>\n",
       "      <td>1125</td>\n",
       "      <td>3</td>\n",
       "      <td>3</td>\n",
       "      <td>0</td>\n",
       "      <td>5.00</td>\n",
       "      <td>t</td>\n",
       "      <td>1</td>\n",
       "      <td>1</td>\n",
       "      <td>0</td>\n",
       "      <td>0</td>\n",
       "      <td>Haywood</td>\n",
       "      <td>0.32</td>\n",
       "      <td>0</td>\n",
       "      <td>STR</td>\n",
       "      <td>6</td>\n",
       "      <td>18</td>\n",
       "      <td>2160.0</td>\n",
       "      <td>occasionally rented</td>\n",
       "      <td>Home Sharing</td>\n",
       "      <td>0.000000</td>\n",
       "      <td>0.0</td>\n",
       "      <td>0.0</td>\n",
       "      <td>Exempt</td>\n",
       "      <td>Exempt</td>\n",
       "      <td>USA</td>\n",
       "    </tr>\n",
       "  </tbody>\n",
       "</table>\n",
       "</div>"
      ],
      "text/plain": [
       "     Region/State         City  Zip Code                  id    host_id  \\\n",
       "0   West Virginia     Oak Hill     25901            35575312   60091041   \n",
       "1         Wyoming         Cody     82414  635519741001985764   80717299   \n",
       "2         Georgia  Blairsville     30512            50490291   22954841   \n",
       "3      New Mexico     Santa Fe     87501            40991125  212710788   \n",
       "4  North Carolina  Waynesville     28786            52090522  119778179   \n",
       "\n",
       "      host_name  host_since                                  host_location  \\\n",
       "0        Jeanne  2016-02-23  Murrells Inlet, South Carolina, United States   \n",
       "1  Cody Lodging  2016-06-29                   Cody, Wyoming, United States   \n",
       "2          Paul  2014-10-25            Blairsville, Georgia, United States   \n",
       "3       Jessica  2018-08-30            Santa Fe, New Mexico, United States   \n",
       "4       Jessica  2017-03-08  Hendersonville, North Carolina, United States   \n",
       "\n",
       "  host_identity_verified  latitude  longitude      property_type  \\\n",
       "0                      t  37.97405  -81.15124     Entire cottage   \n",
       "1                      t  44.46062 -109.49870        Entire home   \n",
       "2                      t  34.93313  -84.01243       Entire cabin   \n",
       "3                      t  35.68081 -105.92927        Entire home   \n",
       "4                      f  35.47187  -82.97092  Entire guesthouse   \n",
       "\n",
       "         room_type  accommodates  bedrooms  beds  price  minimum_nights  \\\n",
       "0  Entire home/apt             4       3.0   3.0  150.0               1   \n",
       "1  Entire home/apt             6       3.0   3.0  513.0               1   \n",
       "2  Entire home/apt             6       3.0   5.0  145.0               2   \n",
       "3  Entire home/apt             2       1.0   1.0  196.0               2   \n",
       "4  Entire home/apt             2       1.0   1.0  120.0               2   \n",
       "\n",
       "   maximum_nights  number_of_reviews  number_of_reviews_ltm  \\\n",
       "0              14                 45                     13   \n",
       "1             365                  0                      0   \n",
       "2              28                 10                     10   \n",
       "3               7                 19                      9   \n",
       "4            1125                  3                      3   \n",
       "\n",
       "   number_of_reviews_l30d  review_scores_rating instant_bookable  \\\n",
       "0                       0                  4.78                f   \n",
       "1                       0                   NaN                t   \n",
       "2                       0                  5.00                t   \n",
       "3                       3                  4.89                f   \n",
       "4                       0                  5.00                t   \n",
       "\n",
       "   calculated_host_listings_count  \\\n",
       "0                               7   \n",
       "1                              79   \n",
       "2                               1   \n",
       "3                               2   \n",
       "4                               1   \n",
       "\n",
       "   calculated_host_listings_count_entire_homes  \\\n",
       "0                                            7   \n",
       "1                                           78   \n",
       "2                                            1   \n",
       "3                                            2   \n",
       "4                                            1   \n",
       "\n",
       "   calculated_host_listings_count_private_rooms  \\\n",
       "0                                             0   \n",
       "1                                             1   \n",
       "2                                             0   \n",
       "3                                             0   \n",
       "4                                             0   \n",
       "\n",
       "   calculated_host_listings_count_shared_rooms Province/County  \\\n",
       "0                                            0         Fayette   \n",
       "1                                            0            Park   \n",
       "2                                            0           Union   \n",
       "3                                            0        Santa Fe   \n",
       "4                                            0         Haywood   \n",
       "\n",
       "   reviews_per_month  with_license STR_vs_LTR  estimated_booking_ltm  \\\n",
       "0               1.33             0        STR                     26   \n",
       "1                NaN             0        STR                      0   \n",
       "2               0.84             0        STR                     20   \n",
       "3               0.73             1        STR                     18   \n",
       "4               0.32             0        STR                      6   \n",
       "\n",
       "   estimated_nights_ltm  estimated_revenue_ltm   Frequency_of_renting  \\\n",
       "0                    78                11700.0  semi_regularly rented   \n",
       "1                     0                    0.0    occasionally rented   \n",
       "2                    60                 8700.0  semi_regularly rented   \n",
       "3                    54                10584.0  semi_regularly rented   \n",
       "4                    18                 2160.0    occasionally rented   \n",
       "\n",
       "  Commercial_Nature  Percentage_Licensed  requires_license_5  \\\n",
       "0        Commercial             0.000000                 0.0   \n",
       "1        Commercial             0.000000                 0.0   \n",
       "2   Semi-Commercial             0.000000                 0.0   \n",
       "3        Commercial             0.620345                 1.0   \n",
       "4      Home Sharing             0.000000                 0.0   \n",
       "\n",
       "   requires_license_10 licensed_5 licensed_10 Country  \n",
       "0                  0.0     Exempt      Exempt     USA  \n",
       "1                  0.0     Exempt      Exempt     USA  \n",
       "2                  0.0     Exempt      Exempt     USA  \n",
       "3                  1.0   Licensed    Licensed     USA  \n",
       "4                  0.0     Exempt      Exempt     USA  "
      ]
     },
     "execution_count": 168,
     "metadata": {},
     "output_type": "execute_result"
    }
   ],
   "source": [
    "df_fin.head()"
   ]
  },
  {
   "cell_type": "code",
   "execution_count": 169,
   "metadata": {
    "colab": {
     "base_uri": "https://localhost:8080/"
    },
    "executionInfo": {
     "elapsed": 1306,
     "status": "ok",
     "timestamp": 1669600245050,
     "user": {
      "displayName": "Adwaith Ajith Menon",
      "userId": "12906361836071324171"
     },
     "user_tz": 300
    },
    "id": "f6rpZ40IXVVf",
    "outputId": "d716af41-75e1-4108-88ab-9ec066ffb650"
   },
   "outputs": [
    {
     "name": "stdout",
     "output_type": "stream",
     "text": [
      "<class 'pandas.core.frame.DataFrame'>\n",
      "RangeIndex: 1252866 entries, 0 to 1252865\n",
      "Data columns (total 43 columns):\n",
      " #   Column                                        Non-Null Count    Dtype  \n",
      "---  ------                                        --------------    -----  \n",
      " 0   Region/State                                  1252866 non-null  object \n",
      " 1   City                                          1243825 non-null  object \n",
      " 2   Zip Code                                      1252866 non-null  int64  \n",
      " 3   id                                            1252866 non-null  int64  \n",
      " 4   host_id                                       1252866 non-null  int64  \n",
      " 5   host_name                                     1245116 non-null  object \n",
      " 6   host_since                                    1245117 non-null  object \n",
      " 7   host_location                                 1242849 non-null  object \n",
      " 8   host_identity_verified                        1245117 non-null  object \n",
      " 9   latitude                                      1252866 non-null  float64\n",
      " 10  longitude                                     1252866 non-null  float64\n",
      " 11  property_type                                 1252866 non-null  object \n",
      " 12  room_type                                     1252866 non-null  object \n",
      " 13  accommodates                                  1252866 non-null  int64  \n",
      " 14  bedrooms                                      1252866 non-null  float64\n",
      " 15  beds                                          1252866 non-null  float64\n",
      " 16  price                                         1252866 non-null  float64\n",
      " 17  minimum_nights                                1252866 non-null  int64  \n",
      " 18  maximum_nights                                1252866 non-null  int64  \n",
      " 19  number_of_reviews                             1252866 non-null  int64  \n",
      " 20  number_of_reviews_ltm                         1252866 non-null  int64  \n",
      " 21  number_of_reviews_l30d                        1252866 non-null  int64  \n",
      " 22  review_scores_rating                          1047712 non-null  float64\n",
      " 23  instant_bookable                              1252866 non-null  object \n",
      " 24  calculated_host_listings_count                1252866 non-null  int64  \n",
      " 25  calculated_host_listings_count_entire_homes   1252866 non-null  int64  \n",
      " 26  calculated_host_listings_count_private_rooms  1252866 non-null  int64  \n",
      " 27  calculated_host_listings_count_shared_rooms   1252866 non-null  int64  \n",
      " 28  Province/County                               1252866 non-null  object \n",
      " 29  reviews_per_month                             1047712 non-null  float64\n",
      " 30  with_license                                  1252866 non-null  int64  \n",
      " 31  STR_vs_LTR                                    1252866 non-null  object \n",
      " 32  estimated_booking_ltm                         1252866 non-null  int64  \n",
      " 33  estimated_nights_ltm                          1252866 non-null  int64  \n",
      " 34  estimated_revenue_ltm                         1252866 non-null  float64\n",
      " 35  Frequency_of_renting                          1252866 non-null  object \n",
      " 36  Commercial_Nature                             1252866 non-null  object \n",
      " 37  Percentage_Licensed                           1243825 non-null  float64\n",
      " 38  requires_license_5                            1243825 non-null  float64\n",
      " 39  requires_license_10                           1243825 non-null  float64\n",
      " 40  licensed_5                                    1244129 non-null  object \n",
      " 41  licensed_10                                   1244129 non-null  object \n",
      " 42  Country                                       1252866 non-null  object \n",
      "dtypes: float64(11), int64(16), object(16)\n",
      "memory usage: 411.0+ MB\n"
     ]
    }
   ],
   "source": [
    "df_fin.info()"
   ]
  },
  {
   "cell_type": "code",
   "execution_count": 170,
   "metadata": {},
   "outputs": [
    {
     "data": {
      "text/html": [
       "<div>\n",
       "<style scoped>\n",
       "    .dataframe tbody tr th:only-of-type {\n",
       "        vertical-align: middle;\n",
       "    }\n",
       "\n",
       "    .dataframe tbody tr th {\n",
       "        vertical-align: top;\n",
       "    }\n",
       "\n",
       "    .dataframe thead th {\n",
       "        text-align: right;\n",
       "    }\n",
       "</style>\n",
       "<table border=\"1\" class=\"dataframe\">\n",
       "  <thead>\n",
       "    <tr style=\"text-align: right;\">\n",
       "      <th></th>\n",
       "      <th>Region/State</th>\n",
       "      <th>City</th>\n",
       "      <th>Zip Code</th>\n",
       "      <th>id</th>\n",
       "      <th>host_id</th>\n",
       "      <th>host_name</th>\n",
       "      <th>host_since</th>\n",
       "      <th>host_location</th>\n",
       "      <th>host_identity_verified</th>\n",
       "      <th>latitude</th>\n",
       "      <th>longitude</th>\n",
       "      <th>property_type</th>\n",
       "      <th>room_type</th>\n",
       "      <th>accommodates</th>\n",
       "      <th>bedrooms</th>\n",
       "      <th>beds</th>\n",
       "      <th>price</th>\n",
       "      <th>minimum_nights</th>\n",
       "      <th>maximum_nights</th>\n",
       "      <th>number_of_reviews</th>\n",
       "      <th>number_of_reviews_ltm</th>\n",
       "      <th>number_of_reviews_l30d</th>\n",
       "      <th>review_scores_rating</th>\n",
       "      <th>instant_bookable</th>\n",
       "      <th>calculated_host_listings_count</th>\n",
       "      <th>calculated_host_listings_count_entire_homes</th>\n",
       "      <th>calculated_host_listings_count_private_rooms</th>\n",
       "      <th>calculated_host_listings_count_shared_rooms</th>\n",
       "      <th>Province/County</th>\n",
       "      <th>reviews_per_month</th>\n",
       "      <th>with_license</th>\n",
       "      <th>STR_vs_LTR</th>\n",
       "      <th>estimated_booking_ltm</th>\n",
       "      <th>estimated_nights_ltm</th>\n",
       "      <th>estimated_revenue_ltm</th>\n",
       "      <th>Frequency_of_renting</th>\n",
       "      <th>Commercial_Nature</th>\n",
       "      <th>Percentage_Licensed</th>\n",
       "      <th>requires_license_5</th>\n",
       "      <th>requires_license_10</th>\n",
       "      <th>licensed_5</th>\n",
       "      <th>licensed_10</th>\n",
       "      <th>Country</th>\n",
       "    </tr>\n",
       "  </thead>\n",
       "  <tbody>\n",
       "    <tr>\n",
       "      <th>0</th>\n",
       "      <td>West Virginia</td>\n",
       "      <td>Oak Hill</td>\n",
       "      <td>25901</td>\n",
       "      <td>35575312</td>\n",
       "      <td>60091041</td>\n",
       "      <td>Jeanne</td>\n",
       "      <td>2016-02-23</td>\n",
       "      <td>Murrells Inlet, South Carolina, United States</td>\n",
       "      <td>t</td>\n",
       "      <td>37.974050</td>\n",
       "      <td>-81.151240</td>\n",
       "      <td>Entire cottage</td>\n",
       "      <td>Entire home/apt</td>\n",
       "      <td>4</td>\n",
       "      <td>3.0</td>\n",
       "      <td>3.0</td>\n",
       "      <td>150.0</td>\n",
       "      <td>1</td>\n",
       "      <td>14</td>\n",
       "      <td>45</td>\n",
       "      <td>13</td>\n",
       "      <td>0</td>\n",
       "      <td>4.78</td>\n",
       "      <td>f</td>\n",
       "      <td>7</td>\n",
       "      <td>7</td>\n",
       "      <td>0</td>\n",
       "      <td>0</td>\n",
       "      <td>Fayette</td>\n",
       "      <td>1.33</td>\n",
       "      <td>0</td>\n",
       "      <td>STR</td>\n",
       "      <td>26</td>\n",
       "      <td>78</td>\n",
       "      <td>11700.0</td>\n",
       "      <td>semi_regularly rented</td>\n",
       "      <td>Commercial</td>\n",
       "      <td>0.000000</td>\n",
       "      <td>0.0</td>\n",
       "      <td>0.0</td>\n",
       "      <td>Exempt</td>\n",
       "      <td>Exempt</td>\n",
       "      <td>USA</td>\n",
       "    </tr>\n",
       "    <tr>\n",
       "      <th>1</th>\n",
       "      <td>Wyoming</td>\n",
       "      <td>Cody</td>\n",
       "      <td>82414</td>\n",
       "      <td>635519741001985764</td>\n",
       "      <td>80717299</td>\n",
       "      <td>Cody Lodging</td>\n",
       "      <td>2016-06-29</td>\n",
       "      <td>Cody, Wyoming, United States</td>\n",
       "      <td>t</td>\n",
       "      <td>44.460620</td>\n",
       "      <td>-109.498700</td>\n",
       "      <td>Entire home</td>\n",
       "      <td>Entire home/apt</td>\n",
       "      <td>6</td>\n",
       "      <td>3.0</td>\n",
       "      <td>3.0</td>\n",
       "      <td>513.0</td>\n",
       "      <td>1</td>\n",
       "      <td>365</td>\n",
       "      <td>0</td>\n",
       "      <td>0</td>\n",
       "      <td>0</td>\n",
       "      <td>NaN</td>\n",
       "      <td>t</td>\n",
       "      <td>79</td>\n",
       "      <td>78</td>\n",
       "      <td>1</td>\n",
       "      <td>0</td>\n",
       "      <td>Park</td>\n",
       "      <td>NaN</td>\n",
       "      <td>0</td>\n",
       "      <td>STR</td>\n",
       "      <td>0</td>\n",
       "      <td>0</td>\n",
       "      <td>0.0</td>\n",
       "      <td>occasionally rented</td>\n",
       "      <td>Commercial</td>\n",
       "      <td>0.000000</td>\n",
       "      <td>0.0</td>\n",
       "      <td>0.0</td>\n",
       "      <td>Exempt</td>\n",
       "      <td>Exempt</td>\n",
       "      <td>USA</td>\n",
       "    </tr>\n",
       "    <tr>\n",
       "      <th>2</th>\n",
       "      <td>Georgia</td>\n",
       "      <td>Blairsville</td>\n",
       "      <td>30512</td>\n",
       "      <td>50490291</td>\n",
       "      <td>22954841</td>\n",
       "      <td>Paul</td>\n",
       "      <td>2014-10-25</td>\n",
       "      <td>Blairsville, Georgia, United States</td>\n",
       "      <td>t</td>\n",
       "      <td>34.933130</td>\n",
       "      <td>-84.012430</td>\n",
       "      <td>Entire cabin</td>\n",
       "      <td>Entire home/apt</td>\n",
       "      <td>6</td>\n",
       "      <td>3.0</td>\n",
       "      <td>5.0</td>\n",
       "      <td>145.0</td>\n",
       "      <td>2</td>\n",
       "      <td>28</td>\n",
       "      <td>10</td>\n",
       "      <td>10</td>\n",
       "      <td>0</td>\n",
       "      <td>5.00</td>\n",
       "      <td>t</td>\n",
       "      <td>1</td>\n",
       "      <td>1</td>\n",
       "      <td>0</td>\n",
       "      <td>0</td>\n",
       "      <td>Union</td>\n",
       "      <td>0.84</td>\n",
       "      <td>0</td>\n",
       "      <td>STR</td>\n",
       "      <td>20</td>\n",
       "      <td>60</td>\n",
       "      <td>8700.0</td>\n",
       "      <td>semi_regularly rented</td>\n",
       "      <td>Semi-Commercial</td>\n",
       "      <td>0.000000</td>\n",
       "      <td>0.0</td>\n",
       "      <td>0.0</td>\n",
       "      <td>Exempt</td>\n",
       "      <td>Exempt</td>\n",
       "      <td>USA</td>\n",
       "    </tr>\n",
       "    <tr>\n",
       "      <th>3</th>\n",
       "      <td>New Mexico</td>\n",
       "      <td>Santa Fe</td>\n",
       "      <td>87501</td>\n",
       "      <td>40991125</td>\n",
       "      <td>212710788</td>\n",
       "      <td>Jessica</td>\n",
       "      <td>2018-08-30</td>\n",
       "      <td>Santa Fe, New Mexico, United States</td>\n",
       "      <td>t</td>\n",
       "      <td>35.680810</td>\n",
       "      <td>-105.929270</td>\n",
       "      <td>Entire home</td>\n",
       "      <td>Entire home/apt</td>\n",
       "      <td>2</td>\n",
       "      <td>1.0</td>\n",
       "      <td>1.0</td>\n",
       "      <td>196.0</td>\n",
       "      <td>2</td>\n",
       "      <td>7</td>\n",
       "      <td>19</td>\n",
       "      <td>9</td>\n",
       "      <td>3</td>\n",
       "      <td>4.89</td>\n",
       "      <td>f</td>\n",
       "      <td>2</td>\n",
       "      <td>2</td>\n",
       "      <td>0</td>\n",
       "      <td>0</td>\n",
       "      <td>Santa Fe</td>\n",
       "      <td>0.73</td>\n",
       "      <td>1</td>\n",
       "      <td>STR</td>\n",
       "      <td>18</td>\n",
       "      <td>54</td>\n",
       "      <td>10584.0</td>\n",
       "      <td>semi_regularly rented</td>\n",
       "      <td>Commercial</td>\n",
       "      <td>0.620345</td>\n",
       "      <td>1.0</td>\n",
       "      <td>1.0</td>\n",
       "      <td>Licensed</td>\n",
       "      <td>Licensed</td>\n",
       "      <td>USA</td>\n",
       "    </tr>\n",
       "    <tr>\n",
       "      <th>4</th>\n",
       "      <td>North Carolina</td>\n",
       "      <td>Waynesville</td>\n",
       "      <td>28786</td>\n",
       "      <td>52090522</td>\n",
       "      <td>119778179</td>\n",
       "      <td>Jessica</td>\n",
       "      <td>2017-03-08</td>\n",
       "      <td>Hendersonville, North Carolina, United States</td>\n",
       "      <td>f</td>\n",
       "      <td>35.471870</td>\n",
       "      <td>-82.970920</td>\n",
       "      <td>Entire guesthouse</td>\n",
       "      <td>Entire home/apt</td>\n",
       "      <td>2</td>\n",
       "      <td>1.0</td>\n",
       "      <td>1.0</td>\n",
       "      <td>120.0</td>\n",
       "      <td>2</td>\n",
       "      <td>1125</td>\n",
       "      <td>3</td>\n",
       "      <td>3</td>\n",
       "      <td>0</td>\n",
       "      <td>5.00</td>\n",
       "      <td>t</td>\n",
       "      <td>1</td>\n",
       "      <td>1</td>\n",
       "      <td>0</td>\n",
       "      <td>0</td>\n",
       "      <td>Haywood</td>\n",
       "      <td>0.32</td>\n",
       "      <td>0</td>\n",
       "      <td>STR</td>\n",
       "      <td>6</td>\n",
       "      <td>18</td>\n",
       "      <td>2160.0</td>\n",
       "      <td>occasionally rented</td>\n",
       "      <td>Home Sharing</td>\n",
       "      <td>0.000000</td>\n",
       "      <td>0.0</td>\n",
       "      <td>0.0</td>\n",
       "      <td>Exempt</td>\n",
       "      <td>Exempt</td>\n",
       "      <td>USA</td>\n",
       "    </tr>\n",
       "    <tr>\n",
       "      <th>...</th>\n",
       "      <td>...</td>\n",
       "      <td>...</td>\n",
       "      <td>...</td>\n",
       "      <td>...</td>\n",
       "      <td>...</td>\n",
       "      <td>...</td>\n",
       "      <td>...</td>\n",
       "      <td>...</td>\n",
       "      <td>...</td>\n",
       "      <td>...</td>\n",
       "      <td>...</td>\n",
       "      <td>...</td>\n",
       "      <td>...</td>\n",
       "      <td>...</td>\n",
       "      <td>...</td>\n",
       "      <td>...</td>\n",
       "      <td>...</td>\n",
       "      <td>...</td>\n",
       "      <td>...</td>\n",
       "      <td>...</td>\n",
       "      <td>...</td>\n",
       "      <td>...</td>\n",
       "      <td>...</td>\n",
       "      <td>...</td>\n",
       "      <td>...</td>\n",
       "      <td>...</td>\n",
       "      <td>...</td>\n",
       "      <td>...</td>\n",
       "      <td>...</td>\n",
       "      <td>...</td>\n",
       "      <td>...</td>\n",
       "      <td>...</td>\n",
       "      <td>...</td>\n",
       "      <td>...</td>\n",
       "      <td>...</td>\n",
       "      <td>...</td>\n",
       "      <td>...</td>\n",
       "      <td>...</td>\n",
       "      <td>...</td>\n",
       "      <td>...</td>\n",
       "      <td>...</td>\n",
       "      <td>...</td>\n",
       "      <td>...</td>\n",
       "    </tr>\n",
       "    <tr>\n",
       "      <th>1252861</th>\n",
       "      <td>Illinois</td>\n",
       "      <td>Kankakee</td>\n",
       "      <td>60901</td>\n",
       "      <td>14730775</td>\n",
       "      <td>41556455</td>\n",
       "      <td>Sherry</td>\n",
       "      <td>2015-08-15</td>\n",
       "      <td>Kankakee, Illinois, United States</td>\n",
       "      <td>t</td>\n",
       "      <td>41.143270</td>\n",
       "      <td>-87.926940</td>\n",
       "      <td>Private room in home</td>\n",
       "      <td>Private room</td>\n",
       "      <td>2</td>\n",
       "      <td>1.0</td>\n",
       "      <td>1.0</td>\n",
       "      <td>41.0</td>\n",
       "      <td>1</td>\n",
       "      <td>1125</td>\n",
       "      <td>24</td>\n",
       "      <td>5</td>\n",
       "      <td>1</td>\n",
       "      <td>5.00</td>\n",
       "      <td>f</td>\n",
       "      <td>3</td>\n",
       "      <td>0</td>\n",
       "      <td>3</td>\n",
       "      <td>0</td>\n",
       "      <td>Kankakee</td>\n",
       "      <td>0.35</td>\n",
       "      <td>0</td>\n",
       "      <td>STR</td>\n",
       "      <td>10</td>\n",
       "      <td>30</td>\n",
       "      <td>1230.0</td>\n",
       "      <td>occasionally rented</td>\n",
       "      <td>Home Sharing</td>\n",
       "      <td>0.000000</td>\n",
       "      <td>0.0</td>\n",
       "      <td>0.0</td>\n",
       "      <td>Exempt</td>\n",
       "      <td>Exempt</td>\n",
       "      <td>USA</td>\n",
       "    </tr>\n",
       "    <tr>\n",
       "      <th>1252862</th>\n",
       "      <td>Guam</td>\n",
       "      <td>Hagatna</td>\n",
       "      <td>96910</td>\n",
       "      <td>37499033</td>\n",
       "      <td>15194074</td>\n",
       "      <td>Asia</td>\n",
       "      <td>2014-05-06</td>\n",
       "      <td>Gardena, California, United States</td>\n",
       "      <td>t</td>\n",
       "      <td>13.460430</td>\n",
       "      <td>144.765710</td>\n",
       "      <td>Entire rental unit</td>\n",
       "      <td>Entire home/apt</td>\n",
       "      <td>4</td>\n",
       "      <td>2.0</td>\n",
       "      <td>2.0</td>\n",
       "      <td>85.0</td>\n",
       "      <td>4</td>\n",
       "      <td>1125</td>\n",
       "      <td>0</td>\n",
       "      <td>0</td>\n",
       "      <td>0</td>\n",
       "      <td>NaN</td>\n",
       "      <td>f</td>\n",
       "      <td>20</td>\n",
       "      <td>20</td>\n",
       "      <td>0</td>\n",
       "      <td>0</td>\n",
       "      <td>Guam</td>\n",
       "      <td>NaN</td>\n",
       "      <td>0</td>\n",
       "      <td>STR</td>\n",
       "      <td>0</td>\n",
       "      <td>0</td>\n",
       "      <td>0.0</td>\n",
       "      <td>occasionally rented</td>\n",
       "      <td>Commercial</td>\n",
       "      <td>0.000000</td>\n",
       "      <td>0.0</td>\n",
       "      <td>0.0</td>\n",
       "      <td>Exempt</td>\n",
       "      <td>Exempt</td>\n",
       "      <td>USA</td>\n",
       "    </tr>\n",
       "    <tr>\n",
       "      <th>1252863</th>\n",
       "      <td>Georgia</td>\n",
       "      <td>Savannah</td>\n",
       "      <td>31401</td>\n",
       "      <td>51367371</td>\n",
       "      <td>814996</td>\n",
       "      <td>Diana</td>\n",
       "      <td>2011-07-13</td>\n",
       "      <td>Pismo Beach, California, United States</td>\n",
       "      <td>t</td>\n",
       "      <td>32.068192</td>\n",
       "      <td>-81.097473</td>\n",
       "      <td>Entire rental unit</td>\n",
       "      <td>Entire home/apt</td>\n",
       "      <td>4</td>\n",
       "      <td>2.0</td>\n",
       "      <td>3.0</td>\n",
       "      <td>140.0</td>\n",
       "      <td>1</td>\n",
       "      <td>28</td>\n",
       "      <td>55</td>\n",
       "      <td>55</td>\n",
       "      <td>6</td>\n",
       "      <td>4.87</td>\n",
       "      <td>f</td>\n",
       "      <td>11</td>\n",
       "      <td>11</td>\n",
       "      <td>0</td>\n",
       "      <td>0</td>\n",
       "      <td>Chatham</td>\n",
       "      <td>8.09</td>\n",
       "      <td>0</td>\n",
       "      <td>STR</td>\n",
       "      <td>110</td>\n",
       "      <td>255</td>\n",
       "      <td>35700.0</td>\n",
       "      <td>rented full time</td>\n",
       "      <td>Commercial</td>\n",
       "      <td>0.000000</td>\n",
       "      <td>0.0</td>\n",
       "      <td>0.0</td>\n",
       "      <td>Exempt</td>\n",
       "      <td>Exempt</td>\n",
       "      <td>USA</td>\n",
       "    </tr>\n",
       "    <tr>\n",
       "      <th>1252864</th>\n",
       "      <td>Idaho</td>\n",
       "      <td>Rexburg</td>\n",
       "      <td>83440</td>\n",
       "      <td>5551151</td>\n",
       "      <td>28783487</td>\n",
       "      <td>Brett</td>\n",
       "      <td>2015-03-05</td>\n",
       "      <td>Rexburg, Idaho, United States</td>\n",
       "      <td>f</td>\n",
       "      <td>43.792440</td>\n",
       "      <td>-111.820020</td>\n",
       "      <td>Entire home</td>\n",
       "      <td>Entire home/apt</td>\n",
       "      <td>16</td>\n",
       "      <td>5.0</td>\n",
       "      <td>11.0</td>\n",
       "      <td>650.0</td>\n",
       "      <td>3</td>\n",
       "      <td>1125</td>\n",
       "      <td>49</td>\n",
       "      <td>12</td>\n",
       "      <td>4</td>\n",
       "      <td>4.49</td>\n",
       "      <td>t</td>\n",
       "      <td>6</td>\n",
       "      <td>4</td>\n",
       "      <td>2</td>\n",
       "      <td>0</td>\n",
       "      <td>Madison</td>\n",
       "      <td>0.57</td>\n",
       "      <td>0</td>\n",
       "      <td>STR</td>\n",
       "      <td>24</td>\n",
       "      <td>72</td>\n",
       "      <td>46800.0</td>\n",
       "      <td>semi_regularly rented</td>\n",
       "      <td>Commercial</td>\n",
       "      <td>0.000000</td>\n",
       "      <td>0.0</td>\n",
       "      <td>0.0</td>\n",
       "      <td>Exempt</td>\n",
       "      <td>Exempt</td>\n",
       "      <td>USA</td>\n",
       "    </tr>\n",
       "    <tr>\n",
       "      <th>1252865</th>\n",
       "      <td>Vermont</td>\n",
       "      <td>Quechee</td>\n",
       "      <td>5059</td>\n",
       "      <td>50170556</td>\n",
       "      <td>404479892</td>\n",
       "      <td>Jay</td>\n",
       "      <td>2021-05-31</td>\n",
       "      <td>Norwich, Vermont, United States</td>\n",
       "      <td>t</td>\n",
       "      <td>43.646780</td>\n",
       "      <td>-72.420360</td>\n",
       "      <td>Entire home</td>\n",
       "      <td>Entire home/apt</td>\n",
       "      <td>2</td>\n",
       "      <td>2.0</td>\n",
       "      <td>1.0</td>\n",
       "      <td>145.0</td>\n",
       "      <td>2</td>\n",
       "      <td>1125</td>\n",
       "      <td>65</td>\n",
       "      <td>61</td>\n",
       "      <td>5</td>\n",
       "      <td>4.82</td>\n",
       "      <td>f</td>\n",
       "      <td>1</td>\n",
       "      <td>1</td>\n",
       "      <td>0</td>\n",
       "      <td>0</td>\n",
       "      <td>Windsor</td>\n",
       "      <td>4.99</td>\n",
       "      <td>0</td>\n",
       "      <td>STR</td>\n",
       "      <td>122</td>\n",
       "      <td>255</td>\n",
       "      <td>36975.0</td>\n",
       "      <td>rented full time</td>\n",
       "      <td>Commercial</td>\n",
       "      <td>0.071429</td>\n",
       "      <td>1.0</td>\n",
       "      <td>0.0</td>\n",
       "      <td>Unlicensed</td>\n",
       "      <td>Exempt</td>\n",
       "      <td>USA</td>\n",
       "    </tr>\n",
       "  </tbody>\n",
       "</table>\n",
       "<p>1252866 rows × 43 columns</p>\n",
       "</div>"
      ],
      "text/plain": [
       "           Region/State         City  Zip Code                  id    host_id  \\\n",
       "0         West Virginia     Oak Hill     25901            35575312   60091041   \n",
       "1               Wyoming         Cody     82414  635519741001985764   80717299   \n",
       "2               Georgia  Blairsville     30512            50490291   22954841   \n",
       "3            New Mexico     Santa Fe     87501            40991125  212710788   \n",
       "4        North Carolina  Waynesville     28786            52090522  119778179   \n",
       "...                 ...          ...       ...                 ...        ...   \n",
       "1252861        Illinois     Kankakee     60901            14730775   41556455   \n",
       "1252862            Guam      Hagatna     96910            37499033   15194074   \n",
       "1252863         Georgia     Savannah     31401            51367371     814996   \n",
       "1252864           Idaho      Rexburg     83440             5551151   28783487   \n",
       "1252865         Vermont      Quechee      5059            50170556  404479892   \n",
       "\n",
       "            host_name  host_since  \\\n",
       "0              Jeanne  2016-02-23   \n",
       "1        Cody Lodging  2016-06-29   \n",
       "2                Paul  2014-10-25   \n",
       "3             Jessica  2018-08-30   \n",
       "4             Jessica  2017-03-08   \n",
       "...               ...         ...   \n",
       "1252861        Sherry  2015-08-15   \n",
       "1252862          Asia  2014-05-06   \n",
       "1252863         Diana  2011-07-13   \n",
       "1252864         Brett  2015-03-05   \n",
       "1252865           Jay  2021-05-31   \n",
       "\n",
       "                                         host_location host_identity_verified  \\\n",
       "0        Murrells Inlet, South Carolina, United States                      t   \n",
       "1                         Cody, Wyoming, United States                      t   \n",
       "2                  Blairsville, Georgia, United States                      t   \n",
       "3                  Santa Fe, New Mexico, United States                      t   \n",
       "4        Hendersonville, North Carolina, United States                      f   \n",
       "...                                                ...                    ...   \n",
       "1252861              Kankakee, Illinois, United States                      t   \n",
       "1252862             Gardena, California, United States                      t   \n",
       "1252863         Pismo Beach, California, United States                      t   \n",
       "1252864                  Rexburg, Idaho, United States                      f   \n",
       "1252865                Norwich, Vermont, United States                      t   \n",
       "\n",
       "          latitude   longitude         property_type        room_type  \\\n",
       "0        37.974050  -81.151240        Entire cottage  Entire home/apt   \n",
       "1        44.460620 -109.498700           Entire home  Entire home/apt   \n",
       "2        34.933130  -84.012430          Entire cabin  Entire home/apt   \n",
       "3        35.680810 -105.929270           Entire home  Entire home/apt   \n",
       "4        35.471870  -82.970920     Entire guesthouse  Entire home/apt   \n",
       "...            ...         ...                   ...              ...   \n",
       "1252861  41.143270  -87.926940  Private room in home     Private room   \n",
       "1252862  13.460430  144.765710    Entire rental unit  Entire home/apt   \n",
       "1252863  32.068192  -81.097473    Entire rental unit  Entire home/apt   \n",
       "1252864  43.792440 -111.820020           Entire home  Entire home/apt   \n",
       "1252865  43.646780  -72.420360           Entire home  Entire home/apt   \n",
       "\n",
       "         accommodates  bedrooms  beds  price  minimum_nights  maximum_nights  \\\n",
       "0                   4       3.0   3.0  150.0               1              14   \n",
       "1                   6       3.0   3.0  513.0               1             365   \n",
       "2                   6       3.0   5.0  145.0               2              28   \n",
       "3                   2       1.0   1.0  196.0               2               7   \n",
       "4                   2       1.0   1.0  120.0               2            1125   \n",
       "...               ...       ...   ...    ...             ...             ...   \n",
       "1252861             2       1.0   1.0   41.0               1            1125   \n",
       "1252862             4       2.0   2.0   85.0               4            1125   \n",
       "1252863             4       2.0   3.0  140.0               1              28   \n",
       "1252864            16       5.0  11.0  650.0               3            1125   \n",
       "1252865             2       2.0   1.0  145.0               2            1125   \n",
       "\n",
       "         number_of_reviews  number_of_reviews_ltm  number_of_reviews_l30d  \\\n",
       "0                       45                     13                       0   \n",
       "1                        0                      0                       0   \n",
       "2                       10                     10                       0   \n",
       "3                       19                      9                       3   \n",
       "4                        3                      3                       0   \n",
       "...                    ...                    ...                     ...   \n",
       "1252861                 24                      5                       1   \n",
       "1252862                  0                      0                       0   \n",
       "1252863                 55                     55                       6   \n",
       "1252864                 49                     12                       4   \n",
       "1252865                 65                     61                       5   \n",
       "\n",
       "         review_scores_rating instant_bookable  \\\n",
       "0                        4.78                f   \n",
       "1                         NaN                t   \n",
       "2                        5.00                t   \n",
       "3                        4.89                f   \n",
       "4                        5.00                t   \n",
       "...                       ...              ...   \n",
       "1252861                  5.00                f   \n",
       "1252862                   NaN                f   \n",
       "1252863                  4.87                f   \n",
       "1252864                  4.49                t   \n",
       "1252865                  4.82                f   \n",
       "\n",
       "         calculated_host_listings_count  \\\n",
       "0                                     7   \n",
       "1                                    79   \n",
       "2                                     1   \n",
       "3                                     2   \n",
       "4                                     1   \n",
       "...                                 ...   \n",
       "1252861                               3   \n",
       "1252862                              20   \n",
       "1252863                              11   \n",
       "1252864                               6   \n",
       "1252865                               1   \n",
       "\n",
       "         calculated_host_listings_count_entire_homes  \\\n",
       "0                                                  7   \n",
       "1                                                 78   \n",
       "2                                                  1   \n",
       "3                                                  2   \n",
       "4                                                  1   \n",
       "...                                              ...   \n",
       "1252861                                            0   \n",
       "1252862                                           20   \n",
       "1252863                                           11   \n",
       "1252864                                            4   \n",
       "1252865                                            1   \n",
       "\n",
       "         calculated_host_listings_count_private_rooms  \\\n",
       "0                                                   0   \n",
       "1                                                   1   \n",
       "2                                                   0   \n",
       "3                                                   0   \n",
       "4                                                   0   \n",
       "...                                               ...   \n",
       "1252861                                             3   \n",
       "1252862                                             0   \n",
       "1252863                                             0   \n",
       "1252864                                             2   \n",
       "1252865                                             0   \n",
       "\n",
       "         calculated_host_listings_count_shared_rooms Province/County  \\\n",
       "0                                                  0         Fayette   \n",
       "1                                                  0            Park   \n",
       "2                                                  0           Union   \n",
       "3                                                  0        Santa Fe   \n",
       "4                                                  0         Haywood   \n",
       "...                                              ...             ...   \n",
       "1252861                                            0        Kankakee   \n",
       "1252862                                            0            Guam   \n",
       "1252863                                            0         Chatham   \n",
       "1252864                                            0         Madison   \n",
       "1252865                                            0         Windsor   \n",
       "\n",
       "         reviews_per_month  with_license STR_vs_LTR  estimated_booking_ltm  \\\n",
       "0                     1.33             0        STR                     26   \n",
       "1                      NaN             0        STR                      0   \n",
       "2                     0.84             0        STR                     20   \n",
       "3                     0.73             1        STR                     18   \n",
       "4                     0.32             0        STR                      6   \n",
       "...                    ...           ...        ...                    ...   \n",
       "1252861               0.35             0        STR                     10   \n",
       "1252862                NaN             0        STR                      0   \n",
       "1252863               8.09             0        STR                    110   \n",
       "1252864               0.57             0        STR                     24   \n",
       "1252865               4.99             0        STR                    122   \n",
       "\n",
       "         estimated_nights_ltm  estimated_revenue_ltm   Frequency_of_renting  \\\n",
       "0                          78                11700.0  semi_regularly rented   \n",
       "1                           0                    0.0    occasionally rented   \n",
       "2                          60                 8700.0  semi_regularly rented   \n",
       "3                          54                10584.0  semi_regularly rented   \n",
       "4                          18                 2160.0    occasionally rented   \n",
       "...                       ...                    ...                    ...   \n",
       "1252861                    30                 1230.0    occasionally rented   \n",
       "1252862                     0                    0.0    occasionally rented   \n",
       "1252863                   255                35700.0       rented full time   \n",
       "1252864                    72                46800.0  semi_regularly rented   \n",
       "1252865                   255                36975.0       rented full time   \n",
       "\n",
       "        Commercial_Nature  Percentage_Licensed  requires_license_5  \\\n",
       "0              Commercial             0.000000                 0.0   \n",
       "1              Commercial             0.000000                 0.0   \n",
       "2         Semi-Commercial             0.000000                 0.0   \n",
       "3              Commercial             0.620345                 1.0   \n",
       "4            Home Sharing             0.000000                 0.0   \n",
       "...                   ...                  ...                 ...   \n",
       "1252861      Home Sharing             0.000000                 0.0   \n",
       "1252862        Commercial             0.000000                 0.0   \n",
       "1252863        Commercial             0.000000                 0.0   \n",
       "1252864        Commercial             0.000000                 0.0   \n",
       "1252865        Commercial             0.071429                 1.0   \n",
       "\n",
       "         requires_license_10  licensed_5 licensed_10 Country  \n",
       "0                        0.0      Exempt      Exempt     USA  \n",
       "1                        0.0      Exempt      Exempt     USA  \n",
       "2                        0.0      Exempt      Exempt     USA  \n",
       "3                        1.0    Licensed    Licensed     USA  \n",
       "4                        0.0      Exempt      Exempt     USA  \n",
       "...                      ...         ...         ...     ...  \n",
       "1252861                  0.0      Exempt      Exempt     USA  \n",
       "1252862                  0.0      Exempt      Exempt     USA  \n",
       "1252863                  0.0      Exempt      Exempt     USA  \n",
       "1252864                  0.0      Exempt      Exempt     USA  \n",
       "1252865                  0.0  Unlicensed      Exempt     USA  \n",
       "\n",
       "[1252866 rows x 43 columns]"
      ]
     },
     "execution_count": 170,
     "metadata": {},
     "output_type": "execute_result"
    }
   ],
   "source": [
    "df_fin"
   ]
  },
  {
   "cell_type": "markdown",
   "metadata": {
    "id": "yddwzqtH8lOn"
   },
   "source": [
    "* **Exporting the Cleaned .csv File**"
   ]
  },
  {
   "cell_type": "code",
   "execution_count": 172,
   "metadata": {
    "id": "siBk9aYHXwxf"
   },
   "outputs": [],
   "source": [
    "df_fin.to_csv('USA.csv')"
   ]
  }
 ],
 "metadata": {
  "colab": {
   "provenance": []
  },
  "kernelspec": {
   "display_name": "Python 3 (ipykernel)",
   "language": "python",
   "name": "python3"
  },
  "language_info": {
   "codemirror_mode": {
    "name": "ipython",
    "version": 3
   },
   "file_extension": ".py",
   "mimetype": "text/x-python",
   "name": "python",
   "nbconvert_exporter": "python",
   "pygments_lexer": "ipython3",
   "version": "3.10.9"
  }
 },
 "nbformat": 4,
 "nbformat_minor": 4
}
